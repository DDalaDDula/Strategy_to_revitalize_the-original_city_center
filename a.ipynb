{
 "cells": [
  {
   "cell_type": "code",
   "execution_count": 1,
   "metadata": {},
   "outputs": [],
   "source": [
    "import pandas as pd\n",
    "import numpy as np\n",
    "import plotly.express as px\n",
    "import plotly.graph_objects as go\n",
    "from plotly.subplots import make_subplots\n",
    "import folium\n",
    "from folium import plugins\n",
    "from folium import FeatureGroup\n",
    "from config import vworld_key\n",
    "import json\n",
    "import math\n",
    "import re\n",
    "from datetime import datetime\n",
    "import os\n",
    "import glob\n",
    "import subprocess\n",
    "from bs4 import BeautifulSoup as bs\n",
    "from shapely.geometry import Point, Polygon, LineString\n",
    "import geopandas as gpd\n",
    "from geopandas import GeoSeries\n",
    "import pyproj\n",
    "\n",
    "# 모든 열이 생략되지 않도록 설정\n",
    "pd.set_option('display.max_columns', None)"
   ]
  },
  {
   "cell_type": "code",
   "execution_count": 2,
   "metadata": {},
   "outputs": [],
   "source": [
    "# 폴리곤을 만드는 함수\n",
    "def make_geo(x):\n",
    "    try:\n",
    "        return Polygon(x[0])\n",
    "    except:\n",
    "        return Polygon(x[0][0])"
   ]
  },
  {
   "cell_type": "code",
   "execution_count": 3,
   "metadata": {},
   "outputs": [],
   "source": [
    "# 데이터프레임을 GeoPandas 데이터프레임으로 변환하는 함수 정의\n",
    "def geo_transform(DataFrame) :\n",
    "    # csv to geopandas\n",
    "    # lon, lat data를 geometry로 변경\n",
    "    DataFrame['lat'] = DataFrame['lat'].astype(float)\n",
    "    DataFrame['lon'] = DataFrame['lon'].astype(float)\n",
    "    DataFrame['geometry'] = DataFrame.apply(lambda row : Point([row['lon'], row['lat']]), axis=1) # 위도 및 경도롤 GeoPandas Point 객체로 변환\n",
    "    DataFrame = gpd.GeoDataFrame(DataFrame, geometry='geometry')\n",
    "    DataFrame.crs = {'init':'epsg:4326'} # geopandas 데이터프레임의 좌표계를 EPSG 4326으로 설정\n",
    "    DataFrame = DataFrame.to_crs({'init':'epsg:4326'}) # 데이터프레임의 좌표계를 자체 좌표계에서 EPSG 4326으로 변환\n",
    "    return DataFrame"
   ]
  },
  {
   "attachments": {},
   "cell_type": "markdown",
   "metadata": {},
   "source": [
    "### 청주시_도시재생계획구역"
   ]
  },
  {
   "cell_type": "code",
   "execution_count": 4,
   "metadata": {},
   "outputs": [
    {
     "data": {
      "text/html": [
       "<div>\n",
       "<style scoped>\n",
       "    .dataframe tbody tr th:only-of-type {\n",
       "        vertical-align: middle;\n",
       "    }\n",
       "\n",
       "    .dataframe tbody tr th {\n",
       "        vertical-align: top;\n",
       "    }\n",
       "\n",
       "    .dataframe thead th {\n",
       "        text-align: right;\n",
       "    }\n",
       "</style>\n",
       "<table border=\"1\" class=\"dataframe\">\n",
       "  <thead>\n",
       "    <tr style=\"text-align: right;\">\n",
       "      <th></th>\n",
       "      <th>type</th>\n",
       "      <th>properties.fid</th>\n",
       "      <th>properties.구역명</th>\n",
       "      <th>geometry.type</th>\n",
       "      <th>geometry.coordinates</th>\n",
       "      <th>geometry</th>\n",
       "      <th>centroid_polygon_geometry</th>\n",
       "    </tr>\n",
       "  </thead>\n",
       "  <tbody>\n",
       "    <tr>\n",
       "      <th>0</th>\n",
       "      <td>Feature</td>\n",
       "      <td>5</td>\n",
       "      <td>도시재생구역도</td>\n",
       "      <td>Polygon</td>\n",
       "      <td>[[[127.4833417, 36.6318644], [127.4833417, 36....</td>\n",
       "      <td>POLYGON ((127.4833417 36.6318644, 127.4833417 ...</td>\n",
       "      <td>POLYGON ((127.50347965416363 36.63603755594320...</td>\n",
       "    </tr>\n",
       "  </tbody>\n",
       "</table>\n",
       "</div>"
      ],
      "text/plain": [
       "      type  properties.fid properties.구역명 geometry.type  \\\n",
       "0  Feature               5        도시재생구역도       Polygon   \n",
       "\n",
       "                                geometry.coordinates  \\\n",
       "0  [[[127.4833417, 36.6318644], [127.4833417, 36....   \n",
       "\n",
       "                                            geometry  \\\n",
       "0  POLYGON ((127.4833417 36.6318644, 127.4833417 ...   \n",
       "\n",
       "                           centroid_polygon_geometry  \n",
       "0  POLYGON ((127.50347965416363 36.63603755594320...  "
      ]
     },
     "execution_count": 4,
     "metadata": {},
     "output_type": "execute_result"
    }
   ],
   "source": [
    "# GeoJSON 파일 불러오기\n",
    "with open('SBJ_2309_001/27.청주시_도시재생계획구역.geojson') as geojson_file:\n",
    "    geojson_data = json.load(geojson_file)\n",
    "crp_df = pd.json_normalize(geojson_data) # city_revitalize_planning_map_df\n",
    "crp_df['geometry'] = crp_df['geometry.coordinates'].apply(lambda x : make_geo(x))\n",
    "# crp_df에서 첫 번째 폴리곤 영역을 선택 = crp_df는 원도심 영역(도시재생 대상지역)\n",
    "\n",
    "# 폴리곤의 중점을 찾음\n",
    "centroid = crp_df['geometry'].iloc[0].centroid.buffer(0.015) # 1도의 위도 변화는 대략 111.32 킬로미터\n",
    "crp_df['centroid_polygon_geometry'] = [centroid]\n",
    "crp_df"
   ]
  },
  {
   "cell_type": "code",
   "execution_count": null,
   "metadata": {},
   "outputs": [],
   "source": [
    "# 지도의 중심 좌표 설정\n",
    "m = folium.Map(location=[36.60720970472786, 127.63641867895493], zoom_start=12)\n",
    "\n",
    "# GeoDataFrame을 순회하면서 Polygon을 지도에 추가\n",
    "for idx, row in crp_df.iterrows():\n",
    "    popup_text = f\"{row['properties.구역명']}\"\n",
    "    folium.GeoJson(\n",
    "        row['centroid_polygon_geometry'].__geo_interface__,\n",
    "        style_function=lambda feature, color='blue': {'fillColor': 'blue', 'color': 'black', 'weight': 0.1}\n",
    "    ).add_to(m).add_child(folium.Popup(popup_text, max_width=100))  # 팝업 메시지 추가\n",
    "    \n",
    "m"
   ]
  },
  {
   "attachments": {},
   "cell_type": "markdown",
   "metadata": {},
   "source": [
    "### 격자(매핑용)"
   ]
  },
  {
   "cell_type": "code",
   "execution_count": null,
   "metadata": {},
   "outputs": [],
   "source": [
    "# GeoJSON 파일 불러오기\n",
    "with open('SBJ_2309_001/26.청주시_격자(매핑용).geojson') as geojson_file:\n",
    "    geojson_data = json.load(geojson_file)\n",
    "grid_map_df = pd.json_normalize(geojson_data['features'])\n",
    "grid_map_df['geometry'] = grid_map_df['geometry.coordinates'].apply(lambda x : make_geo(x))\n",
    "grid_map_df"
   ]
  },
  {
   "cell_type": "code",
   "execution_count": 7,
   "metadata": {},
   "outputs": [],
   "source": [
    "# crp_df에서 첫 번째 폴리곤 영역을 선택 = crp_df는 원도심 영역(도시재생 대상지역)\n",
    "polygon = crp_df['geometry'].iloc[0].centroid.buffer(0.01)\n",
    "\n",
    "# grid_map_df 데이터프레임을 GeoDataFrame으로 변환\n",
    "grid_map_df = gpd.GeoDataFrame(grid_map_df, geometry='geometry')\n",
    "#grid_map_df['geometry'] = GeoSeries(grid_map_df['geometry'])\n",
    "\n",
    "# factory_df의 'geometry' 열을 사용하여 Point 객체를 필터링\n",
    "filtered_grid = grid_map_df[grid_map_df['geometry'].within(polygon)].reset_index(drop=True)"
   ]
  },
  {
   "cell_type": "code",
   "execution_count": null,
   "metadata": {},
   "outputs": [],
   "source": [
    "# 지도의 중심 좌표 설정\n",
    "m = folium.Map(location=[36.60720970472786, 127.63641867895493], zoom_start=12)\n",
    "\n",
    "# GeoDataFrame을 순회하면서 Polygon을 지도에 추가\n",
    "for idx, row in filtered_grid.iterrows():\n",
    "    popup_text = f\"{row['properties.gid']}\"\n",
    "    folium.GeoJson(\n",
    "        row['geometry'].__geo_interface__,\n",
    "        style_function=lambda feature, color='black': {'fillColor': 'black', 'color': 'black', 'weight': 0.1}\n",
    "    ).add_to(m).add_child(folium.Popup(popup_text, max_width=100))  # 팝업 메시지 추가\n",
    "    \n",
    "m"
   ]
  },
  {
   "attachments": {},
   "cell_type": "markdown",
   "metadata": {},
   "source": [
    "### 거주인구 격자에 매핑"
   ]
  },
  {
   "cell_type": "code",
   "execution_count": null,
   "metadata": {},
   "outputs": [],
   "source": [
    "pd.read_csv('SBJ_2309_001/1.청주시_거주인구.csv')"
   ]
  },
  {
   "cell_type": "code",
   "execution_count": null,
   "metadata": {},
   "outputs": [],
   "source": [
    "pd.read_csv('SBJ_2309_001/2.청주시_성연령별_유동인구.csv')"
   ]
  },
  {
   "attachments": {},
   "cell_type": "markdown",
   "metadata": {},
   "source": [
    "### 청주시 폐공장현황"
   ]
  },
  {
   "cell_type": "code",
   "execution_count": null,
   "metadata": {},
   "outputs": [],
   "source": [
    "factory_df = pd.read_csv('SBJ_2309_001/9.청주시_폐공장현황.csv')\n",
    "factory_df"
   ]
  },
  {
   "cell_type": "code",
   "execution_count": 11,
   "metadata": {},
   "outputs": [
    {
     "name": "stderr",
     "output_type": "stream",
     "text": [
      "c:\\Users\\user\\anaconda3\\envs\\GIS\\lib\\site-packages\\pyproj\\crs\\crs.py:141: FutureWarning: '+init=<authority>:<code>' syntax is deprecated. '<authority>:<code>' is the preferred initialization method. When making the change, be mindful of axis order changes: https://pyproj4.github.io/pyproj/stable/gotchas.html#axis-order-changes-in-proj-6\n",
      "  in_crs_string = _prepare_from_proj_string(in_crs_string)\n",
      "c:\\Users\\user\\anaconda3\\envs\\GIS\\lib\\site-packages\\pyproj\\crs\\crs.py:141: FutureWarning: '+init=<authority>:<code>' syntax is deprecated. '<authority>:<code>' is the preferred initialization method. When making the change, be mindful of axis order changes: https://pyproj4.github.io/pyproj/stable/gotchas.html#axis-order-changes-in-proj-6\n",
      "  in_crs_string = _prepare_from_proj_string(in_crs_string)\n"
     ]
    }
   ],
   "source": [
    "# 데이터프레임을 GeoPandas 데이터프레임으로 변환\n",
    "factory_df = geo_transform(factory_df)\n",
    "\n",
    "# crp_df에서 첫 번째 폴리곤 영역을 선택 = crp_df는 원도심 영역(도시재생 대상지역)\n",
    "polygon = crp_df['geometry'].iloc[0]\n",
    "\n",
    "# factory_df의 'geometry' 열을 사용하여 Point 객체를 필터링\n",
    "filtered_points_factory = factory_df[factory_df['geometry'].within(polygon)]"
   ]
  },
  {
   "cell_type": "code",
   "execution_count": null,
   "metadata": {},
   "outputs": [],
   "source": [
    "from folium.plugins import MarkerCluster\n",
    "# Folium 지도 생성\n",
    "m = folium.Map(location=[36.627797, 127.511943], zoom_start=13, width='100%', height='100%')\n",
    "\n",
    "# 배경지도 타일 설정하기\n",
    "layer = \"Hybrid\"\n",
    "tileType = \"png\"\n",
    "tiles = f\"http://api.vworld.kr/req/wmts/1.0.0/{vworld_key}/{layer}/{{z}}/{{y}}/{{x}}.{tileType}\"\n",
    "attr = \"Vworld\"\n",
    "\n",
    "folium.TileLayer(\n",
    "    tiles=tiles,\n",
    "    attr=attr,\n",
    "    overlay=True,\n",
    "    control=True\n",
    ").add_to(m)\n",
    "\n",
    "# GeoJSON 데이터를 지도에 추가\n",
    "for index, row in filtered_points_factory.iterrows():\n",
    "    marker = folium.CircleMarker(\n",
    "        location=[row['geometry'].y, row['geometry'].x],\n",
    "        radius=5,\n",
    "        fill=True,\n",
    "    )\n",
    "    marker.add_to(m)\n",
    "\n",
    "# 지도 저장\n",
    "m"
   ]
  },
  {
   "attachments": {},
   "cell_type": "markdown",
   "metadata": {},
   "source": [
    "### 청주시 문화재 현황 (폴리곤 영역확장 변경으로 교통분석 후 문화재 필터링 해야할 듯)"
   ]
  },
  {
   "cell_type": "code",
   "execution_count": null,
   "metadata": {},
   "outputs": [],
   "source": [
    "culture_assets_df = pd.read_csv('SBJ_2309_001/5.청주시_유적지_문화재현황.csv')\n",
    "culture_assets_df"
   ]
  },
  {
   "cell_type": "code",
   "execution_count": 82,
   "metadata": {},
   "outputs": [
    {
     "name": "stderr",
     "output_type": "stream",
     "text": [
      "c:\\Users\\user\\anaconda3\\envs\\GIS\\lib\\site-packages\\pyproj\\crs\\crs.py:141: FutureWarning: '+init=<authority>:<code>' syntax is deprecated. '<authority>:<code>' is the preferred initialization method. When making the change, be mindful of axis order changes: https://pyproj4.github.io/pyproj/stable/gotchas.html#axis-order-changes-in-proj-6\n",
      "  in_crs_string = _prepare_from_proj_string(in_crs_string)\n",
      "c:\\Users\\user\\anaconda3\\envs\\GIS\\lib\\site-packages\\pyproj\\crs\\crs.py:141: FutureWarning: '+init=<authority>:<code>' syntax is deprecated. '<authority>:<code>' is the preferred initialization method. When making the change, be mindful of axis order changes: https://pyproj4.github.io/pyproj/stable/gotchas.html#axis-order-changes-in-proj-6\n",
      "  in_crs_string = _prepare_from_proj_string(in_crs_string)\n"
     ]
    }
   ],
   "source": [
    "# 데이터프레임을 GeoPandas 데이터프레임으로 변환\n",
    "culture_assets_df = geo_transform(culture_assets_df)\n",
    "\n",
    "# crp_df에서 첫 번째 폴리곤 영역을 선택 = crp_df는 원도심 영역(도시재생 대상지역)\n",
    "polygon = crp_df['geometry'].iloc[0]\n",
    "\n",
    "# 폴리곤을 확장 (예: 0.1 도 또는 10 킬로미터 확장)\n",
    "expanded_polygon = polygon.buffer(0.015)  # 0.015은 확장할 크기. EPSG 4326 좌표계에서는 위도 및 경도가 0.015도씩 확장됨.(약 1.7km 나중에 변경 될 수 있음)\n",
    "\n",
    "# factory_df의 'geometry' 열을 사용하여 Point 객체를 필터링\n",
    "filtered_points_culture = culture_assets_df[culture_assets_df['geometry'].within(expanded_polygon)].reset_index(drop=True)"
   ]
  },
  {
   "cell_type": "code",
   "execution_count": null,
   "metadata": {},
   "outputs": [],
   "source": [
    "filtered_points_culture"
   ]
  },
  {
   "cell_type": "code",
   "execution_count": null,
   "metadata": {},
   "outputs": [],
   "source": [
    "from folium.plugins import MarkerCluster\n",
    "# Folium 지도 생성\n",
    "m = folium.Map(location=[36.627797, 127.511943], zoom_start=13, width='100%', height='100%')\n",
    "\n",
    "# 배경지도 타일 설정하기\n",
    "layer = \"Hybrid\"\n",
    "tileType = \"png\"\n",
    "tiles = f\"http://api.vworld.kr/req/wmts/1.0.0/{vworld_key}/{layer}/{{z}}/{{y}}/{{x}}.{tileType}\"\n",
    "attr = \"Vworld\"\n",
    "\n",
    "folium.TileLayer(\n",
    "    tiles=tiles,\n",
    "    attr=attr,\n",
    "    overlay=True,\n",
    "    control=True\n",
    ").add_to(m)\n",
    "\n",
    "# GeoJSON 데이터를 지도에 추가\n",
    "for index, row in filtered_points_culture.iterrows():\n",
    "    marker = folium.CircleMarker(\n",
    "        location=[row['lat'], row['lon']],\n",
    "        radius=5,\n",
    "        fill=True,\n",
    "    )\n",
    "    marker.add_to(m)\n",
    "\n",
    "# 지도 저장\n",
    "m"
   ]
  },
  {
   "attachments": {},
   "cell_type": "markdown",
   "metadata": {},
   "source": [
    "### 청주시 시장 현황 (폴리곤 영역확장 없이 범위 내 시장들만 필터링)"
   ]
  },
  {
   "cell_type": "code",
   "execution_count": 108,
   "metadata": {},
   "outputs": [
    {
     "data": {
      "text/html": [
       "<div>\n",
       "<style scoped>\n",
       "    .dataframe tbody tr th:only-of-type {\n",
       "        vertical-align: middle;\n",
       "    }\n",
       "\n",
       "    .dataframe tbody tr th {\n",
       "        vertical-align: top;\n",
       "    }\n",
       "\n",
       "    .dataframe thead th {\n",
       "        text-align: right;\n",
       "    }\n",
       "</style>\n",
       "<table border=\"1\" class=\"dataframe\">\n",
       "  <thead>\n",
       "    <tr style=\"text-align: right;\">\n",
       "      <th></th>\n",
       "      <th>market_nm</th>\n",
       "      <th>addr</th>\n",
       "      <th>area</th>\n",
       "      <th>lon</th>\n",
       "      <th>lat</th>\n",
       "    </tr>\n",
       "  </thead>\n",
       "  <tbody>\n",
       "    <tr>\n",
       "      <th>0</th>\n",
       "      <td>육거리종합시장</td>\n",
       "      <td>상당구 청남로2197번길 42(석교동)</td>\n",
       "      <td>86273</td>\n",
       "      <td>127.488184</td>\n",
       "      <td>36.627938</td>\n",
       "    </tr>\n",
       "    <tr>\n",
       "      <th>1</th>\n",
       "      <td>서문시장</td>\n",
       "      <td>상당구 남사로89번길 57(서문동)</td>\n",
       "      <td>10285</td>\n",
       "      <td>127.485365</td>\n",
       "      <td>36.634894</td>\n",
       "    </tr>\n",
       "    <tr>\n",
       "      <th>2</th>\n",
       "      <td>중앙시장</td>\n",
       "      <td>상당구 중앙로 26(북문로2가)</td>\n",
       "      <td>7305</td>\n",
       "      <td>127.489192</td>\n",
       "      <td>36.639385</td>\n",
       "    </tr>\n",
       "    <tr>\n",
       "      <th>3</th>\n",
       "      <td>사직시장</td>\n",
       "      <td>서원구 사직대로265번길 7(사직동)</td>\n",
       "      <td>9200</td>\n",
       "      <td>127.476868</td>\n",
       "      <td>36.636143</td>\n",
       "    </tr>\n",
       "    <tr>\n",
       "      <th>4</th>\n",
       "      <td>북부시장</td>\n",
       "      <td>청원구 향군로31번길 19(우암동)</td>\n",
       "      <td>22133</td>\n",
       "      <td>127.486221</td>\n",
       "      <td>36.647973</td>\n",
       "    </tr>\n",
       "  </tbody>\n",
       "</table>\n",
       "</div>"
      ],
      "text/plain": [
       "  market_nm                   addr   area         lon        lat\n",
       "0   육거리종합시장  상당구 청남로2197번길 42(석교동)  86273  127.488184  36.627938\n",
       "1      서문시장    상당구 남사로89번길 57(서문동)  10285  127.485365  36.634894\n",
       "2      중앙시장      상당구 중앙로 26(북문로2가)   7305  127.489192  36.639385\n",
       "3      사직시장   서원구 사직대로265번길 7(사직동)   9200  127.476868  36.636143\n",
       "4      북부시장    청원구 향군로31번길 19(우암동)  22133  127.486221  36.647973"
      ]
     },
     "execution_count": 108,
     "metadata": {},
     "output_type": "execute_result"
    }
   ],
   "source": [
    "market_df = pd.read_csv('SBJ_2309_001/6.청주시_시장현황.csv')\n",
    "market_df"
   ]
  },
  {
   "cell_type": "code",
   "execution_count": 109,
   "metadata": {},
   "outputs": [
    {
     "name": "stderr",
     "output_type": "stream",
     "text": [
      "c:\\Users\\user\\anaconda3\\envs\\GIS\\lib\\site-packages\\pyproj\\crs\\crs.py:141: FutureWarning: '+init=<authority>:<code>' syntax is deprecated. '<authority>:<code>' is the preferred initialization method. When making the change, be mindful of axis order changes: https://pyproj4.github.io/pyproj/stable/gotchas.html#axis-order-changes-in-proj-6\n",
      "  in_crs_string = _prepare_from_proj_string(in_crs_string)\n",
      "c:\\Users\\user\\anaconda3\\envs\\GIS\\lib\\site-packages\\pyproj\\crs\\crs.py:141: FutureWarning: '+init=<authority>:<code>' syntax is deprecated. '<authority>:<code>' is the preferred initialization method. When making the change, be mindful of axis order changes: https://pyproj4.github.io/pyproj/stable/gotchas.html#axis-order-changes-in-proj-6\n",
      "  in_crs_string = _prepare_from_proj_string(in_crs_string)\n"
     ]
    }
   ],
   "source": [
    "# 데이터프레임을 GeoPandas 데이터프레임으로 변환\n",
    "market_df = geo_transform(market_df)\n",
    "\n",
    "# crp_df에서 첫 번째 폴리곤 영역을 선택 = crp_df는 원도심 영역(도시재생 대상지역)\n",
    "polygon = crp_df['geometry'].iloc[0]\n",
    "\n",
    "# factory_df의 'geometry' 열을 사용하여 Point 객체를 필터링\n",
    "filtered_points_market = market_df[market_df['geometry'].within(polygon)].reset_index(drop=True)"
   ]
  },
  {
   "cell_type": "code",
   "execution_count": 110,
   "metadata": {},
   "outputs": [
    {
     "data": {
      "text/html": [
       "<div>\n",
       "<style scoped>\n",
       "    .dataframe tbody tr th:only-of-type {\n",
       "        vertical-align: middle;\n",
       "    }\n",
       "\n",
       "    .dataframe tbody tr th {\n",
       "        vertical-align: top;\n",
       "    }\n",
       "\n",
       "    .dataframe thead th {\n",
       "        text-align: right;\n",
       "    }\n",
       "</style>\n",
       "<table border=\"1\" class=\"dataframe\">\n",
       "  <thead>\n",
       "    <tr style=\"text-align: right;\">\n",
       "      <th></th>\n",
       "      <th>market_nm</th>\n",
       "      <th>addr</th>\n",
       "      <th>area</th>\n",
       "      <th>lon</th>\n",
       "      <th>lat</th>\n",
       "      <th>geometry</th>\n",
       "    </tr>\n",
       "  </thead>\n",
       "  <tbody>\n",
       "    <tr>\n",
       "      <th>0</th>\n",
       "      <td>육거리종합시장</td>\n",
       "      <td>상당구 청남로2197번길 42(석교동)</td>\n",
       "      <td>86273</td>\n",
       "      <td>127.488184</td>\n",
       "      <td>36.627938</td>\n",
       "      <td>POINT (127.48818 36.62794)</td>\n",
       "    </tr>\n",
       "    <tr>\n",
       "      <th>1</th>\n",
       "      <td>서문시장</td>\n",
       "      <td>상당구 남사로89번길 57(서문동)</td>\n",
       "      <td>10285</td>\n",
       "      <td>127.485365</td>\n",
       "      <td>36.634894</td>\n",
       "      <td>POINT (127.48536 36.63489)</td>\n",
       "    </tr>\n",
       "    <tr>\n",
       "      <th>2</th>\n",
       "      <td>중앙시장</td>\n",
       "      <td>상당구 중앙로 26(북문로2가)</td>\n",
       "      <td>7305</td>\n",
       "      <td>127.489192</td>\n",
       "      <td>36.639385</td>\n",
       "      <td>POINT (127.48919 36.63938)</td>\n",
       "    </tr>\n",
       "  </tbody>\n",
       "</table>\n",
       "</div>"
      ],
      "text/plain": [
       "  market_nm                   addr   area         lon        lat  \\\n",
       "0   육거리종합시장  상당구 청남로2197번길 42(석교동)  86273  127.488184  36.627938   \n",
       "1      서문시장    상당구 남사로89번길 57(서문동)  10285  127.485365  36.634894   \n",
       "2      중앙시장      상당구 중앙로 26(북문로2가)   7305  127.489192  36.639385   \n",
       "\n",
       "                     geometry  \n",
       "0  POINT (127.48818 36.62794)  \n",
       "1  POINT (127.48536 36.63489)  \n",
       "2  POINT (127.48919 36.63938)  "
      ]
     },
     "execution_count": 110,
     "metadata": {},
     "output_type": "execute_result"
    }
   ],
   "source": [
    "filtered_points_market"
   ]
  },
  {
   "cell_type": "code",
   "execution_count": null,
   "metadata": {},
   "outputs": [],
   "source": [
    "from folium.plugins import MarkerCluster\n",
    "# Folium 지도 생성\n",
    "m = folium.Map(location=[36.627797, 127.511943], zoom_start=13, width='100%', height='100%')\n",
    "\n",
    "# 배경지도 타일 설정하기\n",
    "layer = \"Hybrid\"\n",
    "tileType = \"png\"\n",
    "tiles = f\"http://api.vworld.kr/req/wmts/1.0.0/{vworld_key}/{layer}/{{z}}/{{y}}/{{x}}.{tileType}\"\n",
    "attr = \"Vworld\"\n",
    "\n",
    "folium.TileLayer(\n",
    "    tiles=tiles,\n",
    "    attr=attr,\n",
    "    overlay=True,\n",
    "    control=True\n",
    ").add_to(m)\n",
    "\n",
    "# GeoJSON 데이터를 지도에 추가\n",
    "for index, row in filtered_points_market.iterrows():\n",
    "    marker = folium.CircleMarker(\n",
    "        location=[row['lat'], row['lon']],\n",
    "        radius=5,\n",
    "        fill=True,\n",
    "    )\n",
    "    marker.add_to(m)\n",
    "\n",
    "# 지도 저장\n",
    "m"
   ]
  },
  {
   "attachments": {},
   "cell_type": "markdown",
   "metadata": {},
   "source": [
    "### 청주시 주차장 현황 (폴리곤 영역확장 고민해봐야 할듯)"
   ]
  },
  {
   "cell_type": "code",
   "execution_count": null,
   "metadata": {},
   "outputs": [],
   "source": [
    "parking_df = pd.read_csv('SBJ_2309_001/7.청주시_주차장현황.csv')\n",
    "parking_df"
   ]
  },
  {
   "cell_type": "code",
   "execution_count": null,
   "metadata": {},
   "outputs": [],
   "source": [
    "# 데이터프레임을 GeoPandas 데이터프레임으로 변환\n",
    "parking_df = geo_transform(parking_df)\n",
    "\n",
    "# crp_df에서 첫 번째 폴리곤 영역을 선택 = crp_df는 원도심 영역(도시재생 대상지역)\n",
    "polygon = crp_df['geometry'].iloc[0] # 또는 centroid_polygon_geometry\n",
    "\n",
    "# factory_df의 'geometry' 열을 사용하여 Point 객체를 필터링\n",
    "filtered_points_parking = parking_df[parking_df['geometry'].within(polygon)].reset_index(drop=True)"
   ]
  },
  {
   "cell_type": "code",
   "execution_count": null,
   "metadata": {},
   "outputs": [],
   "source": [
    "filtered_points_parking # 노상 : 도로 위 한켠에 주차를 하고 일정 비용을 받음(정부 또는 지자체 관할), 노외 : 공용주차장처럼 별도 대지에 설치되어 제공되는 주차장"
   ]
  },
  {
   "cell_type": "code",
   "execution_count": null,
   "metadata": {},
   "outputs": [],
   "source": [
    "from folium.plugins import MarkerCluster\n",
    "# Folium 지도 생성\n",
    "m = folium.Map(location=[36.627797, 127.511943], zoom_start=13, width='100%', height='100%')\n",
    "\n",
    "# 배경지도 타일 설정하기\n",
    "layer = \"Hybrid\"\n",
    "tileType = \"png\"\n",
    "tiles = f\"http://api.vworld.kr/req/wmts/1.0.0/{vworld_key}/{layer}/{{z}}/{{y}}/{{x}}.{tileType}\"\n",
    "attr = \"Vworld\"\n",
    "\n",
    "folium.TileLayer(\n",
    "    tiles=tiles,\n",
    "    attr=attr,\n",
    "    overlay=True,\n",
    "    control=True\n",
    ").add_to(m)\n",
    "\n",
    "# GeoJSON 데이터를 지도에 추가\n",
    "for index, row in filtered_points_parking.iterrows():\n",
    "    marker = folium.CircleMarker(\n",
    "        location=[row['lat'], row['lon']],\n",
    "        radius=5,\n",
    "        fill=True,\n",
    "    )\n",
    "    marker.add_to(m)\n",
    "\n",
    "# 지도 저장\n",
    "m"
   ]
  },
  {
   "attachments": {},
   "cell_type": "markdown",
   "metadata": {},
   "source": [
    "### 청주시 공원 현황 (폴리곤 영역확장 고민해봐야 할듯)"
   ]
  },
  {
   "cell_type": "code",
   "execution_count": null,
   "metadata": {},
   "outputs": [],
   "source": [
    "park_df = pd.read_csv('SBJ_2309_001/8.청주시_공원현황.csv')\n",
    "park_df"
   ]
  },
  {
   "cell_type": "code",
   "execution_count": null,
   "metadata": {},
   "outputs": [],
   "source": [
    "# 데이터프레임을 GeoPandas 데이터프레임으로 변환\n",
    "park_df = geo_transform(park_df)\n",
    "\n",
    "# crp_df에서 첫 번째 폴리곤 영역을 선택 = crp_df는 원도심 영역(도시재생 대상지역)\n",
    "polygon = crp_df['geometry'].iloc[0] # 또는 centroid_polygon_geometry\n",
    "\n",
    "# factory_df의 'geometry' 열을 사용하여 Point 객체를 필터링\n",
    "filtered_points_park = park_df[park_df['geometry'].within(polygon)].reset_index(drop=True)"
   ]
  },
  {
   "cell_type": "code",
   "execution_count": null,
   "metadata": {},
   "outputs": [],
   "source": [
    "filtered_points_park"
   ]
  },
  {
   "cell_type": "code",
   "execution_count": null,
   "metadata": {},
   "outputs": [],
   "source": [
    "from folium.plugins import MarkerCluster\n",
    "# Folium 지도 생성\n",
    "m = folium.Map(location=[36.627797, 127.511943], zoom_start=13, width='100%', height='100%')\n",
    "\n",
    "# 배경지도 타일 설정하기\n",
    "layer = \"Hybrid\"\n",
    "tileType = \"png\"\n",
    "tiles = f\"http://api.vworld.kr/req/wmts/1.0.0/{vworld_key}/{layer}/{{z}}/{{y}}/{{x}}.{tileType}\"\n",
    "attr = \"Vworld\"\n",
    "\n",
    "folium.TileLayer(\n",
    "    tiles=tiles,\n",
    "    attr=attr,\n",
    "    overlay=True,\n",
    "    control=True\n",
    ").add_to(m)\n",
    "\n",
    "# GeoJSON 데이터를 지도에 추가\n",
    "for index, row in filtered_points_park.iterrows():\n",
    "    marker = folium.CircleMarker(\n",
    "        location=[row['lat'], row['lon']],\n",
    "        radius=5,\n",
    "        fill=True,\n",
    "    )\n",
    "    marker.add_to(m)\n",
    "\n",
    "# 지도 저장\n",
    "m"
   ]
  },
  {
   "attachments": {},
   "cell_type": "markdown",
   "metadata": {},
   "source": [
    "### 청주시 학교 현황"
   ]
  },
  {
   "cell_type": "code",
   "execution_count": null,
   "metadata": {},
   "outputs": [],
   "source": [
    "school_df = pd.read_csv('SBJ_2309_001/24.청주시_학교현황.csv')\n",
    "school_df"
   ]
  },
  {
   "cell_type": "code",
   "execution_count": 128,
   "metadata": {},
   "outputs": [
    {
     "name": "stderr",
     "output_type": "stream",
     "text": [
      "c:\\Users\\user\\anaconda3\\envs\\GIS\\lib\\site-packages\\pyproj\\crs\\crs.py:141: FutureWarning: '+init=<authority>:<code>' syntax is deprecated. '<authority>:<code>' is the preferred initialization method. When making the change, be mindful of axis order changes: https://pyproj4.github.io/pyproj/stable/gotchas.html#axis-order-changes-in-proj-6\n",
      "  in_crs_string = _prepare_from_proj_string(in_crs_string)\n",
      "c:\\Users\\user\\anaconda3\\envs\\GIS\\lib\\site-packages\\pyproj\\crs\\crs.py:141: FutureWarning: '+init=<authority>:<code>' syntax is deprecated. '<authority>:<code>' is the preferred initialization method. When making the change, be mindful of axis order changes: https://pyproj4.github.io/pyproj/stable/gotchas.html#axis-order-changes-in-proj-6\n",
      "  in_crs_string = _prepare_from_proj_string(in_crs_string)\n"
     ]
    }
   ],
   "source": [
    "# 데이터프레임을 GeoPandas 데이터프레임으로 변환\n",
    "school_df = geo_transform(school_df)\n",
    "\n",
    "# crp_df에서 첫 번째 폴리곤 영역을 선택 = crp_df는 원도심 영역(도시재생 대상지역)\n",
    "polygon = crp_df['geometry'].iloc[0] # 또는 centroid_polygon_geometry\n",
    "\n",
    "# factory_df의 'geometry' 열을 사용하여 Point 객체를 필터링\n",
    "filtered_points_school = school_df[school_df['geometry'].within(polygon)].reset_index(drop=True)"
   ]
  },
  {
   "cell_type": "code",
   "execution_count": null,
   "metadata": {},
   "outputs": [],
   "source": [
    "filtered_points_school"
   ]
  },
  {
   "cell_type": "code",
   "execution_count": null,
   "metadata": {},
   "outputs": [],
   "source": [
    "from folium.plugins import MarkerCluster\n",
    "# Folium 지도 생성\n",
    "m = folium.Map(location=[36.627797, 127.511943], zoom_start=13, width='100%', height='100%')\n",
    "\n",
    "# 배경지도 타일 설정하기\n",
    "layer = \"Hybrid\"\n",
    "tileType = \"png\"\n",
    "tiles = f\"http://api.vworld.kr/req/wmts/1.0.0/{vworld_key}/{layer}/{{z}}/{{y}}/{{x}}.{tileType}\"\n",
    "attr = \"Vworld\"\n",
    "\n",
    "folium.TileLayer(\n",
    "    tiles=tiles,\n",
    "    attr=attr,\n",
    "    overlay=True,\n",
    "    control=True\n",
    ").add_to(m)\n",
    "\n",
    "# GeoJSON 데이터를 지도에 추가\n",
    "for index, row in filtered_points_school.iterrows():\n",
    "    marker = folium.CircleMarker(\n",
    "        location=[row['lat'], row['lon']],\n",
    "        radius=5,\n",
    "        fill=True,\n",
    "    )\n",
    "    marker.add_to(m)\n",
    "\n",
    "# 지도 저장\n",
    "m"
   ]
  },
  {
   "attachments": {},
   "cell_type": "markdown",
   "metadata": {},
   "source": [
    "### 청주시 어린이집 유치원 현황"
   ]
  },
  {
   "cell_type": "code",
   "execution_count": null,
   "metadata": {},
   "outputs": [],
   "source": [
    "kinder_df = pd.read_csv('SBJ_2309_001/28.청주시_어린이집_유치원현황.csv')\n",
    "kinder_df"
   ]
  },
  {
   "cell_type": "code",
   "execution_count": null,
   "metadata": {},
   "outputs": [],
   "source": [
    "# 데이터프레임을 GeoPandas 데이터프레임으로 변환\n",
    "kinder_df = geo_transform(kinder_df)\n",
    "\n",
    "# crp_df에서 첫 번째 폴리곤 영역을 선택 = crp_df는 원도심 영역(도시재생 대상지역)\n",
    "polygon = crp_df['geometry'].iloc[0] # 또는 centroid_polygon_geometry\n",
    "\n",
    "# factory_df의 'geometry' 열을 사용하여 Point 객체를 필터링\n",
    "filtered_points_kinder = kinder_df[kinder_df['geometry'].within(polygon)].reset_index(drop=True)"
   ]
  },
  {
   "cell_type": "code",
   "execution_count": null,
   "metadata": {},
   "outputs": [],
   "source": [
    "filtered_points_kinder"
   ]
  },
  {
   "cell_type": "code",
   "execution_count": null,
   "metadata": {},
   "outputs": [],
   "source": [
    "from folium.plugins import MarkerCluster\n",
    "# Folium 지도 생성\n",
    "m = folium.Map(location=[36.627797, 127.511943], zoom_start=13, width='100%', height='100%')\n",
    "\n",
    "# 배경지도 타일 설정하기\n",
    "layer = \"Hybrid\"\n",
    "tileType = \"png\"\n",
    "tiles = f\"http://api.vworld.kr/req/wmts/1.0.0/{vworld_key}/{layer}/{{z}}/{{y}}/{{x}}.{tileType}\"\n",
    "attr = \"Vworld\"\n",
    "\n",
    "folium.TileLayer(\n",
    "    tiles=tiles,\n",
    "    attr=attr,\n",
    "    overlay=True,\n",
    "    control=True\n",
    ").add_to(m)\n",
    "\n",
    "# GeoJSON 데이터를 지도에 추가\n",
    "for index, row in filtered_points_kinder.iterrows():\n",
    "    marker = folium.CircleMarker(\n",
    "        location=[row['lat'], row['lon']],\n",
    "        radius=5,\n",
    "        fill=True,\n",
    "    )\n",
    "    marker.add_to(m)\n",
    "\n",
    "# 지도 저장\n",
    "m"
   ]
  },
  {
   "attachments": {},
   "cell_type": "markdown",
   "metadata": {},
   "source": [
    "### 청주시 가로수 현황 (공공데이터포털 - 산림청_도시숲가로수관리 가로수 현황 data https://www.data.go.kr/data/15120900/fileData.do)"
   ]
  },
  {
   "cell_type": "code",
   "execution_count": null,
   "metadata": {},
   "outputs": [],
   "source": [
    "'''산림청_도시숲가로수관리 가로수 현황_20221231 데이터 정제 완료 -'''\n",
    "# street_tree_df = pd.read_csv('SBJ_2309_001/산림청_도시숲가로수관리 가로수 현황_20221231.csv', encoding='cp949')\n",
    "# street_tree_df = street_tree_df[['시군구명', '도로구간명', '수종명', '지역X좌표', '지역Y좌표']]\n",
    "# street_tree_df = street_tree_df[street_tree_df['시군구명'].str.contains('청주')].reset_index(drop=True)\n",
    "\n",
    "# # EPSG 5186에서 EPSG 4326으로 좌표 변환을 수행하는 함수 생성\n",
    "# def transform_coordinates(row):\n",
    "#     in_proj = pyproj.Proj(init='epsg:5186')\n",
    "#     out_proj = pyproj.Proj(init='epsg:4326')\n",
    "#     lon, lat = pyproj.transform(in_proj, out_proj, row['지역X좌표'], row['지역Y좌표'])\n",
    "#     return pd.Series({'lat': lat, 'lon': lon})\n",
    "\n",
    "# # '지역X좌표'와 '지역Y좌표'를 EPSG 4326으로 변환하고 'lat' 및 'lon' 열로 이름 변경\n",
    "# street_tree_df[['lat', 'lon']] = street_tree_df.apply(transform_coordinates, axis=1)\n",
    "# # '지역X좌표'와 '지역Y좌표' 열을 삭제 (선택 사항)\n",
    "# street_tree_df.drop(['지역X좌표', '지역Y좌표'], axis=1, inplace=True)\n",
    "\n",
    "# "
   ]
  },
  {
   "cell_type": "code",
   "execution_count": 42,
   "metadata": {},
   "outputs": [
    {
     "data": {
      "text/html": [
       "<div>\n",
       "<style scoped>\n",
       "    .dataframe tbody tr th:only-of-type {\n",
       "        vertical-align: middle;\n",
       "    }\n",
       "\n",
       "    .dataframe tbody tr th {\n",
       "        vertical-align: top;\n",
       "    }\n",
       "\n",
       "    .dataframe thead th {\n",
       "        text-align: right;\n",
       "    }\n",
       "</style>\n",
       "<table border=\"1\" class=\"dataframe\">\n",
       "  <thead>\n",
       "    <tr style=\"text-align: right;\">\n",
       "      <th></th>\n",
       "      <th>시군구명</th>\n",
       "      <th>도로구간명</th>\n",
       "      <th>수종명</th>\n",
       "      <th>lat</th>\n",
       "      <th>lon</th>\n",
       "    </tr>\n",
       "  </thead>\n",
       "  <tbody>\n",
       "    <tr>\n",
       "      <th>0</th>\n",
       "      <td>충청북도 청주시 청원구</td>\n",
       "      <td>오창대로</td>\n",
       "      <td>벚나무</td>\n",
       "      <td>36.708975</td>\n",
       "      <td>127.481089</td>\n",
       "    </tr>\n",
       "    <tr>\n",
       "      <th>1</th>\n",
       "      <td>충청북도 청주시 청원구</td>\n",
       "      <td>오창대로</td>\n",
       "      <td>벚나무</td>\n",
       "      <td>36.708883</td>\n",
       "      <td>127.480707</td>\n",
       "    </tr>\n",
       "    <tr>\n",
       "      <th>2</th>\n",
       "      <td>충청북도 청주시 청원구</td>\n",
       "      <td>오창대로</td>\n",
       "      <td>벚나무</td>\n",
       "      <td>36.708996</td>\n",
       "      <td>127.481787</td>\n",
       "    </tr>\n",
       "    <tr>\n",
       "      <th>3</th>\n",
       "      <td>충청북도 청주시 청원구</td>\n",
       "      <td>오창대로</td>\n",
       "      <td>벚나무</td>\n",
       "      <td>36.708625</td>\n",
       "      <td>127.480314</td>\n",
       "    </tr>\n",
       "    <tr>\n",
       "      <th>4</th>\n",
       "      <td>충청북도 청주시 청원구</td>\n",
       "      <td>오창대로</td>\n",
       "      <td>벚나무</td>\n",
       "      <td>36.708993</td>\n",
       "      <td>127.481158</td>\n",
       "    </tr>\n",
       "    <tr>\n",
       "      <th>...</th>\n",
       "      <td>...</td>\n",
       "      <td>...</td>\n",
       "      <td>...</td>\n",
       "      <td>...</td>\n",
       "      <td>...</td>\n",
       "    </tr>\n",
       "    <tr>\n",
       "      <th>24481</th>\n",
       "      <td>충청북도 청주시 청원구</td>\n",
       "      <td>율중로29번길</td>\n",
       "      <td>이팝나무</td>\n",
       "      <td>36.660599</td>\n",
       "      <td>127.507634</td>\n",
       "    </tr>\n",
       "    <tr>\n",
       "      <th>24482</th>\n",
       "      <td>충청북도 청주시 청원구</td>\n",
       "      <td>율중로29번길</td>\n",
       "      <td>이팝나무</td>\n",
       "      <td>36.660668</td>\n",
       "      <td>127.507612</td>\n",
       "    </tr>\n",
       "    <tr>\n",
       "      <th>24483</th>\n",
       "      <td>충청북도 청주시 청원구</td>\n",
       "      <td>율중로29번길</td>\n",
       "      <td>이팝나무</td>\n",
       "      <td>36.660737</td>\n",
       "      <td>127.507589</td>\n",
       "    </tr>\n",
       "    <tr>\n",
       "      <th>24484</th>\n",
       "      <td>충청북도 청주시 청원구</td>\n",
       "      <td>율중로29번길</td>\n",
       "      <td>이팝나무</td>\n",
       "      <td>36.660249</td>\n",
       "      <td>127.507748</td>\n",
       "    </tr>\n",
       "    <tr>\n",
       "      <th>24485</th>\n",
       "      <td>충청북도 청주시 청원구</td>\n",
       "      <td>율중로29번길</td>\n",
       "      <td>이팝나무</td>\n",
       "      <td>36.660320</td>\n",
       "      <td>127.507725</td>\n",
       "    </tr>\n",
       "  </tbody>\n",
       "</table>\n",
       "<p>24486 rows × 5 columns</p>\n",
       "</div>"
      ],
      "text/plain": [
       "               시군구명    도로구간명   수종명        lat         lon\n",
       "0      충청북도 청주시 청원구     오창대로   벚나무  36.708975  127.481089\n",
       "1      충청북도 청주시 청원구     오창대로   벚나무  36.708883  127.480707\n",
       "2      충청북도 청주시 청원구     오창대로   벚나무  36.708996  127.481787\n",
       "3      충청북도 청주시 청원구     오창대로   벚나무  36.708625  127.480314\n",
       "4      충청북도 청주시 청원구     오창대로   벚나무  36.708993  127.481158\n",
       "...             ...      ...   ...        ...         ...\n",
       "24481  충청북도 청주시 청원구  율중로29번길  이팝나무  36.660599  127.507634\n",
       "24482  충청북도 청주시 청원구  율중로29번길  이팝나무  36.660668  127.507612\n",
       "24483  충청북도 청주시 청원구  율중로29번길  이팝나무  36.660737  127.507589\n",
       "24484  충청북도 청주시 청원구  율중로29번길  이팝나무  36.660249  127.507748\n",
       "24485  충청북도 청주시 청원구  율중로29번길  이팝나무  36.660320  127.507725\n",
       "\n",
       "[24486 rows x 5 columns]"
      ]
     },
     "execution_count": 42,
     "metadata": {},
     "output_type": "execute_result"
    }
   ],
   "source": [
    "street_tree_df = pd.read_csv('SBJ_2309_001/29.청주시_가로수현황.csv', encoding='UTF8')\n",
    "street_tree_df"
   ]
  },
  {
   "cell_type": "code",
   "execution_count": 44,
   "metadata": {},
   "outputs": [
    {
     "name": "stderr",
     "output_type": "stream",
     "text": [
      "c:\\Users\\user\\anaconda3\\envs\\GIS\\lib\\site-packages\\pyproj\\crs\\crs.py:141: FutureWarning: '+init=<authority>:<code>' syntax is deprecated. '<authority>:<code>' is the preferred initialization method. When making the change, be mindful of axis order changes: https://pyproj4.github.io/pyproj/stable/gotchas.html#axis-order-changes-in-proj-6\n",
      "  in_crs_string = _prepare_from_proj_string(in_crs_string)\n",
      "c:\\Users\\user\\anaconda3\\envs\\GIS\\lib\\site-packages\\pyproj\\crs\\crs.py:141: FutureWarning: '+init=<authority>:<code>' syntax is deprecated. '<authority>:<code>' is the preferred initialization method. When making the change, be mindful of axis order changes: https://pyproj4.github.io/pyproj/stable/gotchas.html#axis-order-changes-in-proj-6\n",
      "  in_crs_string = _prepare_from_proj_string(in_crs_string)\n"
     ]
    }
   ],
   "source": [
    "# 데이터프레임을 GeoPandas 데이터프레임으로 변환\n",
    "street_tree_df = geo_transform(street_tree_df)\n",
    "\n",
    "# crp_df에서 첫 번째 폴리곤 영역을 선택 = crp_df는 원도심 영역(도시재생 대상지역)\n",
    "polygon = crp_df['geometry'].iloc[0] # 또는 centroid_polygon_geometry\n",
    "\n",
    "# factory_df의 'geometry' 열을 사용하여 Point 객체를 필터링\n",
    "filtered_points_tree = street_tree_df[street_tree_df['geometry'].within(polygon)].reset_index(drop=True)"
   ]
  },
  {
   "cell_type": "code",
   "execution_count": null,
   "metadata": {},
   "outputs": [],
   "source": [
    "filtered_points_tree"
   ]
  },
  {
   "cell_type": "code",
   "execution_count": null,
   "metadata": {},
   "outputs": [],
   "source": [
    "from folium.plugins import MarkerCluster\n",
    "# Folium 지도 생성\n",
    "m = folium.Map(location=[36.627797, 127.511943], zoom_start=13, width='100%', height='100%')\n",
    "\n",
    "# 배경지도 타일 설정하기\n",
    "layer = \"Hybrid\"\n",
    "tileType = \"png\"\n",
    "tiles = f\"http://api.vworld.kr/req/wmts/1.0.0/{vworld_key}/{layer}/{{z}}/{{y}}/{{x}}.{tileType}\"\n",
    "attr = \"Vworld\"\n",
    "\n",
    "folium.TileLayer(\n",
    "    tiles=tiles,\n",
    "    attr=attr,\n",
    "    overlay=True,\n",
    "    control=True\n",
    ").add_to(m)\n",
    "\n",
    "# GeoJSON 데이터를 지도에 추가\n",
    "for index, row in filtered_points_tree.iterrows():\n",
    "    marker = folium.CircleMarker(\n",
    "        location=[row['lat'], row['lon']],\n",
    "        radius=5,\n",
    "        fill=True,\n",
    "    )\n",
    "    marker.add_to(m)\n",
    "\n",
    "# 지도 저장\n",
    "m"
   ]
  },
  {
   "attachments": {},
   "cell_type": "markdown",
   "metadata": {},
   "source": [
    "### 청주시 상세 도로망 시각화"
   ]
  },
  {
   "cell_type": "code",
   "execution_count": null,
   "metadata": {},
   "outputs": [],
   "source": [
    "# GeoJSON 파일 불러오기\n",
    "with open('SBJ_2309_001/13.청주시_상세도로망.geojson', 'r') as geojson_file:\n",
    "    geojson_data = json.load(geojson_file)\n",
    "roadsystem_df = pd.json_normalize(geojson_data['features'])\n",
    "roadsystem_df['geometry'] = roadsystem_df['geometry.coordinates'].apply(lambda x : LineString(x))\n",
    "# roadsystem_df 데이터프레임을 GeoDataFrame으로 변환\n",
    "roadsystem_df = gpd.GeoDataFrame(roadsystem_df, geometry='geometry')"
   ]
  },
  {
   "cell_type": "code",
   "execution_count": null,
   "metadata": {},
   "outputs": [],
   "source": [
    "# crp_df에서 첫 번째 폴리곤 영역을 선택 = crp_df는 원도심 영역(도시재생 대상지역)\n",
    "polygon = crp_df['geometry'].iloc[0].centroid.buffer(0.02) # 또는 centroid_polygon_geometry\n",
    "\n",
    "# factory_df의 'geometry' 열을 사용하여 Point 객체를 필터링\n",
    "filtered_roadsystem = roadsystem_df[roadsystem_df['geometry'].within(polygon)].reset_index(drop=True)\n",
    "filtered_roadsystem"
   ]
  },
  {
   "cell_type": "code",
   "execution_count": null,
   "metadata": {},
   "outputs": [],
   "source": [
    "# 지도의 중심 좌표 설정\n",
    "m = folium.Map(location=[36.627797, 127.511943], zoom_start=12)\n",
    "\n",
    "# GeoDataFrame을 순회하면서 Polygon을 지도에 추가\n",
    "for idx, row in filtered_roadsystem.iterrows():\n",
    "    folium.GeoJson(\n",
    "        row['geometry'].__geo_interface__,\n",
    "        style_function=lambda feature, color='black': {'color': 'black', 'weight': 1}\n",
    "    ).add_to(m)\n",
    "    \n",
    "m"
   ]
  },
  {
   "attachments": {},
   "cell_type": "markdown",
   "metadata": {},
   "source": [
    "### 청주시 불법주정차"
   ]
  },
  {
   "cell_type": "code",
   "execution_count": null,
   "metadata": {},
   "outputs": [],
   "source": [
    "illegal_parking_df = pd.read_csv('SBJ_2309_001/14.청주시_불법주정차단속통계.csv')\n",
    "illegal_parking_df = geo_transform(illegal_parking_df)\n",
    "illegal_parking_df"
   ]
  },
  {
   "cell_type": "code",
   "execution_count": null,
   "metadata": {},
   "outputs": [],
   "source": [
    "# map 생성\n",
    "m = folium.Map(location=[36.627797, 127.511943],  zoom_start=12)\n",
    "\n",
    "# 배경지도 타일 설정하기\n",
    "layer = \"Hybrid\"\n",
    "tileType = \"png\"\n",
    "tiles = f\"http://api.vworld.kr/req/wmts/1.0.0/{vworld_key}/{layer}/{{z}}/{{y}}/{{x}}.{tileType}\"\n",
    "attr = \"Vworld\"\n",
    "\n",
    "folium.TileLayer(\n",
    "    tiles=tiles,\n",
    "    attr=attr,\n",
    "    overlay=True,\n",
    "    control=True\n",
    ").add_to(m)\n",
    "\n",
    "for _, row in illegal_parking_df.iterrows() :\n",
    "    popup_text = f\"{row['cd_loc']}({row['cd_dong']} - {row['cd_cnt']}건)\"\n",
    "    folium.Circle(location=(row['lat'], row['lon']), radius=30, color='#FF580B',\n",
    "            fill='#FF580B').add_to(m).add_child(folium.Popup(popup_text, max_width=200))\n",
    "    \n",
    "m"
   ]
  },
  {
   "attachments": {},
   "cell_type": "markdown",
   "metadata": {},
   "source": [
    "### 청주시 112신고 통계 (격자매핑 형식)"
   ]
  },
  {
   "cell_type": "code",
   "execution_count": 46,
   "metadata": {},
   "outputs": [
    {
     "name": "stderr",
     "output_type": "stream",
     "text": [
      "C:\\Users\\user\\AppData\\Local\\Temp\\ipykernel_14700\\1370399623.py:10: SettingWithCopyWarning:\n",
      "\n",
      "\n",
      "A value is trying to be set on a copy of a slice from a DataFrame.\n",
      "Try using .loc[row_indexer,col_indexer] = value instead\n",
      "\n",
      "See the caveats in the documentation: https://pandas.pydata.org/pandas-docs/stable/user_guide/indexing.html#returning-a-view-versus-a-copy\n",
      "\n",
      "C:\\Users\\user\\AppData\\Local\\Temp\\ipykernel_14700\\1370399623.py:11: SettingWithCopyWarning:\n",
      "\n",
      "\n",
      "A value is trying to be set on a copy of a slice from a DataFrame\n",
      "\n",
      "See the caveats in the documentation: https://pandas.pydata.org/pandas-docs/stable/user_guide/indexing.html#returning-a-view-versus-a-copy\n",
      "\n"
     ]
    },
    {
     "data": {
      "text/html": [
       "<div>\n",
       "<style scoped>\n",
       "    .dataframe tbody tr th:only-of-type {\n",
       "        vertical-align: middle;\n",
       "    }\n",
       "\n",
       "    .dataframe tbody tr th {\n",
       "        vertical-align: top;\n",
       "    }\n",
       "\n",
       "    .dataframe thead th {\n",
       "        text-align: right;\n",
       "    }\n",
       "</style>\n",
       "<table border=\"1\" class=\"dataframe\">\n",
       "  <thead>\n",
       "    <tr style=\"text-align: right;\">\n",
       "      <th></th>\n",
       "      <th>gid</th>\n",
       "      <th>repo_total</th>\n",
       "      <th>geometry</th>\n",
       "    </tr>\n",
       "  </thead>\n",
       "  <tbody>\n",
       "    <tr>\n",
       "      <th>0</th>\n",
       "      <td>다바989482</td>\n",
       "      <td>1519</td>\n",
       "      <td>POLYGON ((127.48769621544852 36.63168220843648...</td>\n",
       "    </tr>\n",
       "    <tr>\n",
       "      <th>1</th>\n",
       "      <td>다바988483</td>\n",
       "      <td>1510</td>\n",
       "      <td>POLYGON ((127.4865775332584 36.63258358652596,...</td>\n",
       "    </tr>\n",
       "    <tr>\n",
       "      <th>2</th>\n",
       "      <td>다바992477</td>\n",
       "      <td>1406</td>\n",
       "      <td>POLYGON ((127.49105231410148 36.62717501134686...</td>\n",
       "    </tr>\n",
       "    <tr>\n",
       "      <th>3</th>\n",
       "      <td>다바991478</td>\n",
       "      <td>953</td>\n",
       "      <td>POLYGON ((127.48993373614363 36.62807642164767...</td>\n",
       "    </tr>\n",
       "    <tr>\n",
       "      <th>4</th>\n",
       "      <td>다바990486</td>\n",
       "      <td>887</td>\n",
       "      <td>POLYGON ((127.4888142201003 36.635288313298695...</td>\n",
       "    </tr>\n",
       "    <tr>\n",
       "      <th>...</th>\n",
       "      <td>...</td>\n",
       "      <td>...</td>\n",
       "      <td>...</td>\n",
       "    </tr>\n",
       "    <tr>\n",
       "      <th>268</th>\n",
       "      <td>다바994489</td>\n",
       "      <td>2</td>\n",
       "      <td>POLYGON ((127.49328829744827 36.637993143918, ...</td>\n",
       "    </tr>\n",
       "    <tr>\n",
       "      <th>269</th>\n",
       "      <td>다바996484</td>\n",
       "      <td>2</td>\n",
       "      <td>POLYGON ((127.49552579225157 36.63348575733207...</td>\n",
       "    </tr>\n",
       "    <tr>\n",
       "      <th>270</th>\n",
       "      <td>다바984494</td>\n",
       "      <td>2</td>\n",
       "      <td>POLYGON ((127.48210108412849 36.64249947656094...</td>\n",
       "    </tr>\n",
       "    <tr>\n",
       "      <th>271</th>\n",
       "      <td>다바995485</td>\n",
       "      <td>1</td>\n",
       "      <td>POLYGON ((127.49440717516781 36.63438720867091...</td>\n",
       "    </tr>\n",
       "    <tr>\n",
       "      <th>272</th>\n",
       "      <td>다바996490</td>\n",
       "      <td>0</td>\n",
       "      <td>POLYGON ((127.49552547949207 36.63889474686325...</td>\n",
       "    </tr>\n",
       "  </tbody>\n",
       "</table>\n",
       "<p>273 rows × 3 columns</p>\n",
       "</div>"
      ],
      "text/plain": [
       "          gid  repo_total                                           geometry\n",
       "0    다바989482        1519  POLYGON ((127.48769621544852 36.63168220843648...\n",
       "1    다바988483        1510  POLYGON ((127.4865775332584 36.63258358652596,...\n",
       "2    다바992477        1406  POLYGON ((127.49105231410148 36.62717501134686...\n",
       "3    다바991478         953  POLYGON ((127.48993373614363 36.62807642164767...\n",
       "4    다바990486         887  POLYGON ((127.4888142201003 36.635288313298695...\n",
       "..        ...         ...                                                ...\n",
       "268  다바994489           2  POLYGON ((127.49328829744827 36.637993143918, ...\n",
       "269  다바996484           2  POLYGON ((127.49552579225157 36.63348575733207...\n",
       "270  다바984494           2  POLYGON ((127.48210108412849 36.64249947656094...\n",
       "271  다바995485           1  POLYGON ((127.49440717516781 36.63438720867091...\n",
       "272  다바996490           0  POLYGON ((127.49552547949207 36.63889474686325...\n",
       "\n",
       "[273 rows x 3 columns]"
      ]
     },
     "execution_count": 46,
     "metadata": {},
     "output_type": "execute_result"
    }
   ],
   "source": [
    "police_report_df = pd.read_csv('SBJ_2309_001/20.청주시_112신고통계.csv')\n",
    "# 5개년 신고건수 총합\n",
    "police_report_df['repo_total'] = police_report_df['repo_2018'] + police_report_df['repo_2019'] + police_report_df['repo_2020'] + police_report_df['repo_2021'] + police_report_df['repo_2022']\n",
    "police_report_df['repo_total'] = police_report_df['repo_total'].astype(int)\n",
    "police_report_df = police_report_df[['gid', 'repo_total']]\n",
    "\n",
    "#원도심 영역 grid id 리스트 로드 및 police_report_df 필터링\n",
    "grid_id = filtered_grid['properties.gid'].tolist()\n",
    "filtered_police_report = police_report_df[police_report_df['gid'].isin(grid_id)]\n",
    "filtered_police_report['geometry'] = filtered_grid['geometry'].tolist()\n",
    "filtered_police_report.sort_values(by='repo_total', ascending=False, inplace=True)\n",
    "filtered_police_report.reset_index(drop=True, inplace=True)\n",
    "filtered_police_report"
   ]
  },
  {
   "attachments": {},
   "cell_type": "markdown",
   "metadata": {},
   "source": [
    "#### 경찰신고수는 평균에 대해 얼마나 높은가를 구해서 시각화 해야할듯...?"
   ]
  },
  {
   "cell_type": "code",
   "execution_count": 55,
   "metadata": {},
   "outputs": [
    {
     "data": {
      "text/plain": [
       "273"
      ]
     },
     "execution_count": 55,
     "metadata": {},
     "output_type": "execute_result"
    }
   ],
   "source": [
    "total_count"
   ]
  },
  {
   "cell_type": "code",
   "execution_count": 57,
   "metadata": {},
   "outputs": [
    {
     "data": {
      "application/vnd.plotly.v1+json": {
       "config": {
        "plotlyServerURL": "https://plot.ly"
       },
       "data": [
        {
         "marker": {
          "color": [
           "green",
           "green",
           "green",
           "green",
           "green",
           "green",
           "green",
           "green",
           "green",
           "green",
           "green",
           "green",
           "green",
           "green",
           "green",
           "yellow",
           "yellow",
           "yellow",
           "yellow",
           "yellow",
           "yellow",
           "yellow",
           "yellow",
           "yellow",
           "yellow",
           "yellow",
           "yellow",
           "yellow",
           "yellow",
           "yellow",
           "yellow",
           "yellow",
           "yellow",
           "yellow",
           "yellow",
           "yellow",
           "yellow",
           "yellow",
           "yellow",
           "yellow",
           "yellow",
           "yellow",
           "yellow",
           "yellow",
           "yellow",
           "yellow",
           "yellow",
           "yellow",
           "yellow",
           "yellow",
           "yellow",
           "red",
           "red",
           "red",
           "red",
           "red",
           "red",
           "red",
           "red",
           "red",
           "red",
           "red",
           "red",
           "red",
           "red",
           "red",
           "red",
           "red",
           "red",
           "red",
           "red",
           "red",
           "red",
           "red",
           "red",
           "red",
           "red",
           "red",
           "red",
           "red",
           "red",
           "red",
           "red",
           "red",
           "red",
           "red",
           "red",
           "red",
           "red",
           "red",
           "red",
           "red",
           "red",
           "red",
           "red",
           "red",
           "red",
           "red",
           "red",
           "red",
           "red",
           "red",
           "red",
           "red",
           "red",
           "red",
           "red",
           "red",
           "red",
           "red",
           "red",
           "red",
           "red",
           "red",
           "red",
           "red",
           "red",
           "red",
           "red",
           "red",
           "red",
           "red",
           "red",
           "red",
           "red",
           "red",
           "red",
           "red",
           "red",
           "red",
           "red",
           "red",
           "red",
           "red",
           "red",
           "red",
           "red",
           "red",
           "red",
           "red",
           "red",
           "red",
           "red",
           "red",
           "red",
           "red",
           "red",
           "red",
           "red",
           "red",
           "red",
           "red",
           "red",
           "red",
           "red",
           "red",
           "red",
           "red",
           "red",
           "red",
           "red",
           "red",
           "red",
           "red",
           "red",
           "red",
           "red",
           "red",
           "red",
           "red",
           "red",
           "red",
           "red",
           "red",
           "red",
           "red",
           "red",
           "red",
           "red",
           "red",
           "red",
           "red",
           "red",
           "red",
           "red",
           "red",
           "red",
           "red",
           "red",
           "red",
           "red",
           "red",
           "red",
           "red",
           "red",
           "red",
           "red",
           "red",
           "red",
           "red",
           "red",
           "red",
           "red",
           "red",
           "red",
           "red",
           "red",
           "red",
           "red",
           "red",
           "red",
           "red",
           "red",
           "red",
           "red",
           "red",
           "red",
           "red",
           "red",
           "red",
           "red",
           "red",
           "red",
           "red",
           "red",
           "red",
           "red",
           "red",
           "red",
           "red",
           "red",
           "red",
           "red",
           "red",
           "red",
           "red",
           "red",
           "red",
           "red",
           "red",
           "red",
           "red",
           "red",
           "red",
           "red",
           "red",
           "red",
           "red",
           "red",
           "red",
           "red",
           "red",
           "red",
           "red",
           "red",
           "red",
           "red",
           "red",
           "red",
           "red",
           "red",
           "red",
           "red",
           "red",
           "red",
           "red",
           "red",
           "red",
           "red",
           "red",
           "red",
           "red",
           "red"
          ]
         },
         "nbinsx": 273,
         "type": "histogram",
         "x": [
          1519,
          1510,
          1406,
          953,
          887,
          824,
          817,
          813,
          801,
          783,
          703,
          639,
          633,
          629,
          603,
          574,
          562,
          559,
          538,
          537,
          531,
          521,
          513,
          503,
          501,
          499,
          469,
          467,
          461,
          436,
          433,
          420,
          408,
          407,
          404,
          400,
          384,
          372,
          368,
          360,
          356,
          351,
          347,
          345,
          344,
          344,
          339,
          331,
          329,
          327,
          321,
          300,
          291,
          290,
          289,
          283,
          279,
          278,
          275,
          275,
          274,
          272,
          269,
          266,
          265,
          261,
          260,
          252,
          251,
          248,
          237,
          234,
          233,
          228,
          219,
          219,
          214,
          213,
          210,
          205,
          204,
          198,
          197,
          193,
          192,
          190,
          190,
          189,
          172,
          170,
          170,
          170,
          168,
          166,
          164,
          164,
          162,
          158,
          154,
          153,
          151,
          150,
          147,
          146,
          145,
          144,
          143,
          143,
          143,
          141,
          138,
          138,
          137,
          136,
          129,
          129,
          128,
          126,
          125,
          125,
          124,
          121,
          121,
          120,
          120,
          119,
          119,
          115,
          115,
          114,
          113,
          113,
          109,
          106,
          106,
          104,
          103,
          101,
          99,
          99,
          99,
          96,
          96,
          96,
          95,
          94,
          91,
          91,
          87,
          86,
          86,
          83,
          82,
          81,
          81,
          80,
          74,
          74,
          72,
          70,
          65,
          65,
          65,
          63,
          63,
          63,
          62,
          61,
          61,
          61,
          61,
          60,
          59,
          57,
          56,
          55,
          54,
          53,
          52,
          52,
          51,
          51,
          50,
          49,
          47,
          46,
          41,
          41,
          41,
          40,
          40,
          38,
          38,
          37,
          37,
          37,
          37,
          37,
          36,
          36,
          36,
          35,
          33,
          33,
          32,
          32,
          31,
          31,
          30,
          30,
          30,
          29,
          27,
          27,
          27,
          26,
          26,
          26,
          25,
          25,
          25,
          24,
          24,
          23,
          23,
          23,
          23,
          21,
          20,
          20,
          20,
          20,
          20,
          19,
          18,
          17,
          16,
          16,
          16,
          16,
          15,
          15,
          15,
          14,
          13,
          12,
          12,
          12,
          11,
          11,
          11,
          10,
          10,
          9,
          9,
          9,
          9,
          8,
          7,
          5,
          5,
          5,
          5,
          5,
          4,
          4,
          4,
          3,
          2,
          2,
          2,
          1,
          0
         ]
        }
       ],
       "layout": {
        "template": {
         "data": {
          "bar": [
           {
            "error_x": {
             "color": "#2a3f5f"
            },
            "error_y": {
             "color": "#2a3f5f"
            },
            "marker": {
             "line": {
              "color": "#E5ECF6",
              "width": 0.5
             },
             "pattern": {
              "fillmode": "overlay",
              "size": 10,
              "solidity": 0.2
             }
            },
            "type": "bar"
           }
          ],
          "barpolar": [
           {
            "marker": {
             "line": {
              "color": "#E5ECF6",
              "width": 0.5
             },
             "pattern": {
              "fillmode": "overlay",
              "size": 10,
              "solidity": 0.2
             }
            },
            "type": "barpolar"
           }
          ],
          "carpet": [
           {
            "aaxis": {
             "endlinecolor": "#2a3f5f",
             "gridcolor": "white",
             "linecolor": "white",
             "minorgridcolor": "white",
             "startlinecolor": "#2a3f5f"
            },
            "baxis": {
             "endlinecolor": "#2a3f5f",
             "gridcolor": "white",
             "linecolor": "white",
             "minorgridcolor": "white",
             "startlinecolor": "#2a3f5f"
            },
            "type": "carpet"
           }
          ],
          "choropleth": [
           {
            "colorbar": {
             "outlinewidth": 0,
             "ticks": ""
            },
            "type": "choropleth"
           }
          ],
          "contour": [
           {
            "colorbar": {
             "outlinewidth": 0,
             "ticks": ""
            },
            "colorscale": [
             [
              0,
              "#0d0887"
             ],
             [
              0.1111111111111111,
              "#46039f"
             ],
             [
              0.2222222222222222,
              "#7201a8"
             ],
             [
              0.3333333333333333,
              "#9c179e"
             ],
             [
              0.4444444444444444,
              "#bd3786"
             ],
             [
              0.5555555555555556,
              "#d8576b"
             ],
             [
              0.6666666666666666,
              "#ed7953"
             ],
             [
              0.7777777777777778,
              "#fb9f3a"
             ],
             [
              0.8888888888888888,
              "#fdca26"
             ],
             [
              1,
              "#f0f921"
             ]
            ],
            "type": "contour"
           }
          ],
          "contourcarpet": [
           {
            "colorbar": {
             "outlinewidth": 0,
             "ticks": ""
            },
            "type": "contourcarpet"
           }
          ],
          "heatmap": [
           {
            "colorbar": {
             "outlinewidth": 0,
             "ticks": ""
            },
            "colorscale": [
             [
              0,
              "#0d0887"
             ],
             [
              0.1111111111111111,
              "#46039f"
             ],
             [
              0.2222222222222222,
              "#7201a8"
             ],
             [
              0.3333333333333333,
              "#9c179e"
             ],
             [
              0.4444444444444444,
              "#bd3786"
             ],
             [
              0.5555555555555556,
              "#d8576b"
             ],
             [
              0.6666666666666666,
              "#ed7953"
             ],
             [
              0.7777777777777778,
              "#fb9f3a"
             ],
             [
              0.8888888888888888,
              "#fdca26"
             ],
             [
              1,
              "#f0f921"
             ]
            ],
            "type": "heatmap"
           }
          ],
          "heatmapgl": [
           {
            "colorbar": {
             "outlinewidth": 0,
             "ticks": ""
            },
            "colorscale": [
             [
              0,
              "#0d0887"
             ],
             [
              0.1111111111111111,
              "#46039f"
             ],
             [
              0.2222222222222222,
              "#7201a8"
             ],
             [
              0.3333333333333333,
              "#9c179e"
             ],
             [
              0.4444444444444444,
              "#bd3786"
             ],
             [
              0.5555555555555556,
              "#d8576b"
             ],
             [
              0.6666666666666666,
              "#ed7953"
             ],
             [
              0.7777777777777778,
              "#fb9f3a"
             ],
             [
              0.8888888888888888,
              "#fdca26"
             ],
             [
              1,
              "#f0f921"
             ]
            ],
            "type": "heatmapgl"
           }
          ],
          "histogram": [
           {
            "marker": {
             "pattern": {
              "fillmode": "overlay",
              "size": 10,
              "solidity": 0.2
             }
            },
            "type": "histogram"
           }
          ],
          "histogram2d": [
           {
            "colorbar": {
             "outlinewidth": 0,
             "ticks": ""
            },
            "colorscale": [
             [
              0,
              "#0d0887"
             ],
             [
              0.1111111111111111,
              "#46039f"
             ],
             [
              0.2222222222222222,
              "#7201a8"
             ],
             [
              0.3333333333333333,
              "#9c179e"
             ],
             [
              0.4444444444444444,
              "#bd3786"
             ],
             [
              0.5555555555555556,
              "#d8576b"
             ],
             [
              0.6666666666666666,
              "#ed7953"
             ],
             [
              0.7777777777777778,
              "#fb9f3a"
             ],
             [
              0.8888888888888888,
              "#fdca26"
             ],
             [
              1,
              "#f0f921"
             ]
            ],
            "type": "histogram2d"
           }
          ],
          "histogram2dcontour": [
           {
            "colorbar": {
             "outlinewidth": 0,
             "ticks": ""
            },
            "colorscale": [
             [
              0,
              "#0d0887"
             ],
             [
              0.1111111111111111,
              "#46039f"
             ],
             [
              0.2222222222222222,
              "#7201a8"
             ],
             [
              0.3333333333333333,
              "#9c179e"
             ],
             [
              0.4444444444444444,
              "#bd3786"
             ],
             [
              0.5555555555555556,
              "#d8576b"
             ],
             [
              0.6666666666666666,
              "#ed7953"
             ],
             [
              0.7777777777777778,
              "#fb9f3a"
             ],
             [
              0.8888888888888888,
              "#fdca26"
             ],
             [
              1,
              "#f0f921"
             ]
            ],
            "type": "histogram2dcontour"
           }
          ],
          "mesh3d": [
           {
            "colorbar": {
             "outlinewidth": 0,
             "ticks": ""
            },
            "type": "mesh3d"
           }
          ],
          "parcoords": [
           {
            "line": {
             "colorbar": {
              "outlinewidth": 0,
              "ticks": ""
             }
            },
            "type": "parcoords"
           }
          ],
          "pie": [
           {
            "automargin": true,
            "type": "pie"
           }
          ],
          "scatter": [
           {
            "fillpattern": {
             "fillmode": "overlay",
             "size": 10,
             "solidity": 0.2
            },
            "type": "scatter"
           }
          ],
          "scatter3d": [
           {
            "line": {
             "colorbar": {
              "outlinewidth": 0,
              "ticks": ""
             }
            },
            "marker": {
             "colorbar": {
              "outlinewidth": 0,
              "ticks": ""
             }
            },
            "type": "scatter3d"
           }
          ],
          "scattercarpet": [
           {
            "marker": {
             "colorbar": {
              "outlinewidth": 0,
              "ticks": ""
             }
            },
            "type": "scattercarpet"
           }
          ],
          "scattergeo": [
           {
            "marker": {
             "colorbar": {
              "outlinewidth": 0,
              "ticks": ""
             }
            },
            "type": "scattergeo"
           }
          ],
          "scattergl": [
           {
            "marker": {
             "colorbar": {
              "outlinewidth": 0,
              "ticks": ""
             }
            },
            "type": "scattergl"
           }
          ],
          "scattermapbox": [
           {
            "marker": {
             "colorbar": {
              "outlinewidth": 0,
              "ticks": ""
             }
            },
            "type": "scattermapbox"
           }
          ],
          "scatterpolar": [
           {
            "marker": {
             "colorbar": {
              "outlinewidth": 0,
              "ticks": ""
             }
            },
            "type": "scatterpolar"
           }
          ],
          "scatterpolargl": [
           {
            "marker": {
             "colorbar": {
              "outlinewidth": 0,
              "ticks": ""
             }
            },
            "type": "scatterpolargl"
           }
          ],
          "scatterternary": [
           {
            "marker": {
             "colorbar": {
              "outlinewidth": 0,
              "ticks": ""
             }
            },
            "type": "scatterternary"
           }
          ],
          "surface": [
           {
            "colorbar": {
             "outlinewidth": 0,
             "ticks": ""
            },
            "colorscale": [
             [
              0,
              "#0d0887"
             ],
             [
              0.1111111111111111,
              "#46039f"
             ],
             [
              0.2222222222222222,
              "#7201a8"
             ],
             [
              0.3333333333333333,
              "#9c179e"
             ],
             [
              0.4444444444444444,
              "#bd3786"
             ],
             [
              0.5555555555555556,
              "#d8576b"
             ],
             [
              0.6666666666666666,
              "#ed7953"
             ],
             [
              0.7777777777777778,
              "#fb9f3a"
             ],
             [
              0.8888888888888888,
              "#fdca26"
             ],
             [
              1,
              "#f0f921"
             ]
            ],
            "type": "surface"
           }
          ],
          "table": [
           {
            "cells": {
             "fill": {
              "color": "#EBF0F8"
             },
             "line": {
              "color": "white"
             }
            },
            "header": {
             "fill": {
              "color": "#C8D4E3"
             },
             "line": {
              "color": "white"
             }
            },
            "type": "table"
           }
          ]
         },
         "layout": {
          "annotationdefaults": {
           "arrowcolor": "#2a3f5f",
           "arrowhead": 0,
           "arrowwidth": 1
          },
          "autotypenumbers": "strict",
          "coloraxis": {
           "colorbar": {
            "outlinewidth": 0,
            "ticks": ""
           }
          },
          "colorscale": {
           "diverging": [
            [
             0,
             "#8e0152"
            ],
            [
             0.1,
             "#c51b7d"
            ],
            [
             0.2,
             "#de77ae"
            ],
            [
             0.3,
             "#f1b6da"
            ],
            [
             0.4,
             "#fde0ef"
            ],
            [
             0.5,
             "#f7f7f7"
            ],
            [
             0.6,
             "#e6f5d0"
            ],
            [
             0.7,
             "#b8e186"
            ],
            [
             0.8,
             "#7fbc41"
            ],
            [
             0.9,
             "#4d9221"
            ],
            [
             1,
             "#276419"
            ]
           ],
           "sequential": [
            [
             0,
             "#0d0887"
            ],
            [
             0.1111111111111111,
             "#46039f"
            ],
            [
             0.2222222222222222,
             "#7201a8"
            ],
            [
             0.3333333333333333,
             "#9c179e"
            ],
            [
             0.4444444444444444,
             "#bd3786"
            ],
            [
             0.5555555555555556,
             "#d8576b"
            ],
            [
             0.6666666666666666,
             "#ed7953"
            ],
            [
             0.7777777777777778,
             "#fb9f3a"
            ],
            [
             0.8888888888888888,
             "#fdca26"
            ],
            [
             1,
             "#f0f921"
            ]
           ],
           "sequentialminus": [
            [
             0,
             "#0d0887"
            ],
            [
             0.1111111111111111,
             "#46039f"
            ],
            [
             0.2222222222222222,
             "#7201a8"
            ],
            [
             0.3333333333333333,
             "#9c179e"
            ],
            [
             0.4444444444444444,
             "#bd3786"
            ],
            [
             0.5555555555555556,
             "#d8576b"
            ],
            [
             0.6666666666666666,
             "#ed7953"
            ],
            [
             0.7777777777777778,
             "#fb9f3a"
            ],
            [
             0.8888888888888888,
             "#fdca26"
            ],
            [
             1,
             "#f0f921"
            ]
           ]
          },
          "colorway": [
           "#636efa",
           "#EF553B",
           "#00cc96",
           "#ab63fa",
           "#FFA15A",
           "#19d3f3",
           "#FF6692",
           "#B6E880",
           "#FF97FF",
           "#FECB52"
          ],
          "font": {
           "color": "#2a3f5f"
          },
          "geo": {
           "bgcolor": "white",
           "lakecolor": "white",
           "landcolor": "#E5ECF6",
           "showlakes": true,
           "showland": true,
           "subunitcolor": "white"
          },
          "hoverlabel": {
           "align": "left"
          },
          "hovermode": "closest",
          "mapbox": {
           "style": "light"
          },
          "paper_bgcolor": "white",
          "plot_bgcolor": "#E5ECF6",
          "polar": {
           "angularaxis": {
            "gridcolor": "white",
            "linecolor": "white",
            "ticks": ""
           },
           "bgcolor": "#E5ECF6",
           "radialaxis": {
            "gridcolor": "white",
            "linecolor": "white",
            "ticks": ""
           }
          },
          "scene": {
           "xaxis": {
            "backgroundcolor": "#E5ECF6",
            "gridcolor": "white",
            "gridwidth": 2,
            "linecolor": "white",
            "showbackground": true,
            "ticks": "",
            "zerolinecolor": "white"
           },
           "yaxis": {
            "backgroundcolor": "#E5ECF6",
            "gridcolor": "white",
            "gridwidth": 2,
            "linecolor": "white",
            "showbackground": true,
            "ticks": "",
            "zerolinecolor": "white"
           },
           "zaxis": {
            "backgroundcolor": "#E5ECF6",
            "gridcolor": "white",
            "gridwidth": 2,
            "linecolor": "white",
            "showbackground": true,
            "ticks": "",
            "zerolinecolor": "white"
           }
          },
          "shapedefaults": {
           "line": {
            "color": "#2a3f5f"
           }
          },
          "ternary": {
           "aaxis": {
            "gridcolor": "white",
            "linecolor": "white",
            "ticks": ""
           },
           "baxis": {
            "gridcolor": "white",
            "linecolor": "white",
            "ticks": ""
           },
           "bgcolor": "#E5ECF6",
           "caxis": {
            "gridcolor": "white",
            "linecolor": "white",
            "ticks": ""
           }
          },
          "title": {
           "x": 0.05
          },
          "xaxis": {
           "automargin": true,
           "gridcolor": "white",
           "linecolor": "white",
           "ticks": "",
           "title": {
            "standoff": 15
           },
           "zerolinecolor": "white",
           "zerolinewidth": 2
          },
          "yaxis": {
           "automargin": true,
           "gridcolor": "white",
           "linecolor": "white",
           "ticks": "",
           "title": {
            "standoff": 15
           },
           "zerolinecolor": "white",
           "zerolinewidth": 2
          }
         }
        },
        "title": {
         "text": "report_count_histogram"
        },
        "xaxis": {
         "title": {
          "text": "report_count"
         }
        },
        "yaxis": {
         "title": {
          "text": "count"
         }
        }
       }
      }
     },
     "metadata": {},
     "output_type": "display_data"
    }
   ],
   "source": [
    "# 데이터프레임에서 데이터 추출\n",
    "lst = filtered_police_report['repo_total']\n",
    "\n",
    "# 조건에 따라 각 막대의 색상을 설정\n",
    "colors = ['green' if x > 600 else 'yellow' if x > 300 else 'red' for x in lst]\n",
    "\n",
    "# 히스토그램을 생성\n",
    "fig = go.Figure(go.Histogram(x=lst, marker_color=colors, nbinsx=len(filtered_police_report)))\n",
    "\n",
    "# 레이아웃 설정\n",
    "fig.update_xaxes(title_text='report_count')\n",
    "fig.update_yaxes(title_text='count')\n",
    "fig.update_layout(title_text='report_count_histogram')\n",
    "\n",
    "# 플롯리 그래프 보이기\n",
    "fig.show()"
   ]
  },
  {
   "cell_type": "code",
   "execution_count": null,
   "metadata": {},
   "outputs": [],
   "source": [
    "# map 생성\n",
    "m = folium.Map(location=[36.627797, 127.511943],  zoom_start=12)\n",
    "\n",
    "# 배경지도 타일 설정하기\n",
    "layer = \"Hybrid\"\n",
    "tileType = \"png\"\n",
    "tiles = f\"http://api.vworld.kr/req/wmts/1.0.0/{vworld_key}/{layer}/{{z}}/{{y}}/{{x}}.{tileType}\"\n",
    "attr = \"Vworld\"\n",
    "\n",
    "folium.TileLayer(\n",
    "    tiles=tiles,\n",
    "    attr=attr,\n",
    "    overlay=True,\n",
    "    control=True\n",
    ").add_to(m)\n",
    "\n",
    "# 신고건수에 따라 색상을 지정하는 함수\n",
    "def color_producer(repo_total):\n",
    "    if repo_total < 300:\n",
    "        return 'green'\n",
    "    elif 300 <= repo_total < 800:\n",
    "        return 'yellow'\n",
    "    else:\n",
    "        return 'red'\n",
    "        \n",
    "for _, row in filtered_police_report.iterrows() :\n",
    "    popup_text = f\"격자:{row['gid']}(신고건수 - {row['repo_total']}건)\"\n",
    "    color = color_producer(row['repo_total'])\n",
    "    folium.GeoJson(\n",
    "        row['geometry'].__geo_interface__,\n",
    "        style_function=lambda feature, color=color: {\n",
    "            'fillColor': color,\n",
    "            'color': 'black',\n",
    "            'weight': 0.2}\n",
    "    ).add_to(m).add_child(folium.Popup(popup_text, max_width=100))\n",
    "m"
   ]
  },
  {
   "attachments": {},
   "cell_type": "markdown",
   "metadata": {},
   "source": [
    "### 청주시 개별공시지가"
   ]
  },
  {
   "cell_type": "code",
   "execution_count": 48,
   "metadata": {},
   "outputs": [
    {
     "data": {
      "text/html": [
       "<div>\n",
       "<style scoped>\n",
       "    .dataframe tbody tr th:only-of-type {\n",
       "        vertical-align: middle;\n",
       "    }\n",
       "\n",
       "    .dataframe tbody tr th {\n",
       "        vertical-align: top;\n",
       "    }\n",
       "\n",
       "    .dataframe thead th {\n",
       "        text-align: right;\n",
       "    }\n",
       "</style>\n",
       "<table border=\"1\" class=\"dataframe\">\n",
       "  <thead>\n",
       "    <tr style=\"text-align: right;\">\n",
       "      <th></th>\n",
       "      <th>unique_no</th>\n",
       "      <th>bjd_cd</th>\n",
       "      <th>bjd_nm</th>\n",
       "      <th>s_land_nm</th>\n",
       "      <th>jibun</th>\n",
       "      <th>year</th>\n",
       "      <th>month</th>\n",
       "      <th>land_value</th>\n",
       "      <th>st_gbn</th>\n",
       "    </tr>\n",
       "  </thead>\n",
       "  <tbody>\n",
       "    <tr>\n",
       "      <th>0</th>\n",
       "      <td>4311110100100010001</td>\n",
       "      <td>4311110100</td>\n",
       "      <td>충청북도 청주시 상당구영동</td>\n",
       "      <td>일반</td>\n",
       "      <td>1-1</td>\n",
       "      <td>2017</td>\n",
       "      <td>1</td>\n",
       "      <td>231000</td>\n",
       "      <td>N</td>\n",
       "    </tr>\n",
       "    <tr>\n",
       "      <th>1</th>\n",
       "      <td>4311110100100010001</td>\n",
       "      <td>4311110100</td>\n",
       "      <td>충청북도 청주시 상당구영동</td>\n",
       "      <td>일반</td>\n",
       "      <td>1-1</td>\n",
       "      <td>2018</td>\n",
       "      <td>1</td>\n",
       "      <td>240900</td>\n",
       "      <td>N</td>\n",
       "    </tr>\n",
       "    <tr>\n",
       "      <th>2</th>\n",
       "      <td>4311110100100010001</td>\n",
       "      <td>4311110100</td>\n",
       "      <td>충청북도 청주시 상당구영동</td>\n",
       "      <td>일반</td>\n",
       "      <td>1-1</td>\n",
       "      <td>2019</td>\n",
       "      <td>1</td>\n",
       "      <td>264000</td>\n",
       "      <td>N</td>\n",
       "    </tr>\n",
       "    <tr>\n",
       "      <th>3</th>\n",
       "      <td>4311110100100010001</td>\n",
       "      <td>4311110100</td>\n",
       "      <td>충청북도 청주시 상당구영동</td>\n",
       "      <td>일반</td>\n",
       "      <td>1-1</td>\n",
       "      <td>2020</td>\n",
       "      <td>1</td>\n",
       "      <td>273200</td>\n",
       "      <td>N</td>\n",
       "    </tr>\n",
       "    <tr>\n",
       "      <th>4</th>\n",
       "      <td>4311110100100010001</td>\n",
       "      <td>4311110100</td>\n",
       "      <td>충청북도 청주시 상당구영동</td>\n",
       "      <td>일반</td>\n",
       "      <td>1-1</td>\n",
       "      <td>2021</td>\n",
       "      <td>1</td>\n",
       "      <td>287500</td>\n",
       "      <td>N</td>\n",
       "    </tr>\n",
       "    <tr>\n",
       "      <th>...</th>\n",
       "      <td>...</td>\n",
       "      <td>...</td>\n",
       "      <td>...</td>\n",
       "      <td>...</td>\n",
       "      <td>...</td>\n",
       "      <td>...</td>\n",
       "      <td>...</td>\n",
       "      <td>...</td>\n",
       "      <td>...</td>\n",
       "    </tr>\n",
       "    <tr>\n",
       "      <th>3265862</th>\n",
       "      <td>4311431046200630008</td>\n",
       "      <td>4311431046</td>\n",
       "      <td>충청북도 청주시 청원구 북이면 송정리</td>\n",
       "      <td>산</td>\n",
       "      <td>63-8</td>\n",
       "      <td>2019</td>\n",
       "      <td>1</td>\n",
       "      <td>3760</td>\n",
       "      <td>N</td>\n",
       "    </tr>\n",
       "    <tr>\n",
       "      <th>3265863</th>\n",
       "      <td>4311431046200630008</td>\n",
       "      <td>4311431046</td>\n",
       "      <td>충청북도 청주시 청원구 북이면 송정리</td>\n",
       "      <td>산</td>\n",
       "      <td>63-8</td>\n",
       "      <td>2020</td>\n",
       "      <td>1</td>\n",
       "      <td>3940</td>\n",
       "      <td>N</td>\n",
       "    </tr>\n",
       "    <tr>\n",
       "      <th>3265864</th>\n",
       "      <td>4311431046200630008</td>\n",
       "      <td>4311431046</td>\n",
       "      <td>충청북도 청주시 청원구 북이면 송정리</td>\n",
       "      <td>산</td>\n",
       "      <td>63-8</td>\n",
       "      <td>2021</td>\n",
       "      <td>1</td>\n",
       "      <td>4290</td>\n",
       "      <td>N</td>\n",
       "    </tr>\n",
       "    <tr>\n",
       "      <th>3265865</th>\n",
       "      <td>4311431046200630008</td>\n",
       "      <td>4311431046</td>\n",
       "      <td>충청북도 청주시 청원구 북이면 송정리</td>\n",
       "      <td>산</td>\n",
       "      <td>63-8</td>\n",
       "      <td>2022</td>\n",
       "      <td>1</td>\n",
       "      <td>4630</td>\n",
       "      <td>N</td>\n",
       "    </tr>\n",
       "    <tr>\n",
       "      <th>3265866</th>\n",
       "      <td>4311431046200630008</td>\n",
       "      <td>4311431046</td>\n",
       "      <td>충청북도 청주시 청원구 북이면 송정리</td>\n",
       "      <td>산</td>\n",
       "      <td>63-8</td>\n",
       "      <td>2023</td>\n",
       "      <td>1</td>\n",
       "      <td>4350</td>\n",
       "      <td>N</td>\n",
       "    </tr>\n",
       "  </tbody>\n",
       "</table>\n",
       "<p>3265867 rows × 9 columns</p>\n",
       "</div>"
      ],
      "text/plain": [
       "                   unique_no      bjd_cd                bjd_nm s_land_nm  \\\n",
       "0        4311110100100010001  4311110100        충청북도 청주시 상당구영동        일반   \n",
       "1        4311110100100010001  4311110100        충청북도 청주시 상당구영동        일반   \n",
       "2        4311110100100010001  4311110100        충청북도 청주시 상당구영동        일반   \n",
       "3        4311110100100010001  4311110100        충청북도 청주시 상당구영동        일반   \n",
       "4        4311110100100010001  4311110100        충청북도 청주시 상당구영동        일반   \n",
       "...                      ...         ...                   ...       ...   \n",
       "3265862  4311431046200630008  4311431046  충청북도 청주시 청원구 북이면 송정리         산   \n",
       "3265863  4311431046200630008  4311431046  충청북도 청주시 청원구 북이면 송정리         산   \n",
       "3265864  4311431046200630008  4311431046  충청북도 청주시 청원구 북이면 송정리         산   \n",
       "3265865  4311431046200630008  4311431046  충청북도 청주시 청원구 북이면 송정리         산   \n",
       "3265866  4311431046200630008  4311431046  충청북도 청주시 청원구 북이면 송정리         산   \n",
       "\n",
       "        jibun  year  month  land_value st_gbn  \n",
       "0         1-1  2017      1      231000      N  \n",
       "1         1-1  2018      1      240900      N  \n",
       "2         1-1  2019      1      264000      N  \n",
       "3         1-1  2020      1      273200      N  \n",
       "4         1-1  2021      1      287500      N  \n",
       "...       ...   ...    ...         ...    ...  \n",
       "3265862  63-8  2019      1        3760      N  \n",
       "3265863  63-8  2020      1        3940      N  \n",
       "3265864  63-8  2021      1        4290      N  \n",
       "3265865  63-8  2022      1        4630      N  \n",
       "3265866  63-8  2023      1        4350      N  \n",
       "\n",
       "[3265867 rows x 9 columns]"
      ]
     },
     "execution_count": 48,
     "metadata": {},
     "output_type": "execute_result"
    }
   ],
   "source": [
    "pd.read_csv('SBJ_2309_001/21.청주시_개별공시지가.csv')"
   ]
  },
  {
   "cell_type": "code",
   "execution_count": null,
   "metadata": {},
   "outputs": [],
   "source": [
    "# 열 'properties.피복-대분류' 값을 기준으로 다른 색상을 매핑하는 함수 생성\n",
    "def get_color(feature):\n",
    "    category = feature['properties.피복-대분류']\n",
    "    if category == '불투수':\n",
    "        return 'darkred'\n",
    "    elif category == '투수':\n",
    "        return 'yellow'\n",
    "    elif category == '녹지':\n",
    "        return 'darkgreen'\n",
    "    else:\n",
    "        return 'darkblue'\n",
    "\n",
    "# 지도의 중심 좌표 설정\n",
    "m = folium.Map(location=[37.37105949652944, 126.88130200939035], zoom_start=12)\n",
    "\n",
    "# GeoDataFrame을 순회하면서 Polygon을 지도에 추가\n",
    "for idx, row in land_cover_df.iterrows():\n",
    "    color = get_color(row)\n",
    "    popup_text = f\"{row['properties.피복-소분류']}({row['properties.피복-대분류']} - {row['properties.피복-중분류']})\"\n",
    "    folium.GeoJson(\n",
    "        row['geometry'].__geo_interface__,\n",
    "        style_function=lambda feature, color=color: {'fillColor': color, 'color': 'black', 'weight': 0.3}\n",
    "    ).add_to(m).add_child(folium.Popup(popup_text, max_width=200))  # 팝업 메시지 추가\n",
    "    \n",
    "m.save('land_cover.html')"
   ]
  },
  {
   "attachments": {},
   "cell_type": "markdown",
   "metadata": {},
   "source": [
    "### 현존 식생도"
   ]
  },
  {
   "cell_type": "code",
   "execution_count": null,
   "metadata": {},
   "outputs": [],
   "source": [
    "# GeoJSON 파일 불러오기\n",
    "with open('dataset/7.안산시_현존식생도.geojson') as geojson_file:\n",
    "    geojson_data = json.load(geojson_file)\n",
    "vegetation_map_df = pd.json_normalize(geojson_data['features'])\n",
    "vegetation_map_df['geometry'] = vegetation_map_df['geometry.coordinates'].apply(lambda x : Polygon(x[0][0]))\n",
    "vegetation_map_df['properties.현존식생유형_소분류'] = vegetation_map_df['properties.현존식생유형_소분류'].apply(lambda x : x.split('. ')[1])\n",
    "vegetation_map_df"
   ]
  },
  {
   "cell_type": "code",
   "execution_count": null,
   "metadata": {},
   "outputs": [],
   "source": [
    "# 열 'properties.피복-대분류' 값을 기준으로 다른 색상을 매핑하는 함수 생성\n",
    "def get_color(feature):\n",
    "    category = feature['properties.현존식생유형_구분']\n",
    "    if category == '비식생':\n",
    "        return 'darkred'\n",
    "    else:\n",
    "        return 'darkgreen'\n",
    "\n",
    "# 지도의 중심 좌표 설정\n",
    "m = folium.Map(location=[37.37105949652944, 126.88130200939035], zoom_start=12)\n",
    "\n",
    "# GeoDataFrame을 순회하면서 Polygon을 지도에 추가\n",
    "for idx, row in vegetation_map_df.iterrows():\n",
    "    color = get_color(row)\n",
    "    popup_text = f\"{row['properties.현존식생유형_구분']}(properties.현존식생유형_소분류)\"\n",
    "    folium.GeoJson(\n",
    "        row['geometry'].__geo_interface__,\n",
    "        style_function=lambda feature, color=color: {'fillColor': color, 'color': 'black', 'weight': 0.5}\n",
    "    ).add_to(m).add_child(folium.Popup(popup_text, max_width=200))  # 팝업 메시지 추가\n",
    "    \n",
    "m.save('vegetation_map.html')"
   ]
  },
  {
   "attachments": {},
   "cell_type": "markdown",
   "metadata": {},
   "source": [
    "### 연속지적도"
   ]
  },
  {
   "cell_type": "code",
   "execution_count": null,
   "metadata": {},
   "outputs": [],
   "source": [
    "# GeoJSON 파일 불러오기\n",
    "with open('dataset/8.안산시_연속지적도.geojson') as geojson_file:\n",
    "    geojson_data = json.load(geojson_file)\n",
    "registration_map_df = pd.json_normalize(geojson_data['features'])\n",
    "registration_map_df['geometry'] = registration_map_df['geometry.coordinates'].apply(lambda x : make_geo(x))\n",
    "registration_map_df"
   ]
  },
  {
   "cell_type": "code",
   "execution_count": null,
   "metadata": {},
   "outputs": [],
   "source": [
    "# 지도의 중심 좌표 설정\n",
    "m = folium.Map(location=[37.37105949652944, 126.88130200939035], zoom_start=12)\n",
    "\n",
    "# GeoDataFrame을 순회하면서 Polygon을 지도에 추가\n",
    "for idx, row in registration_map_df.iterrows():\n",
    "    color = 'blue'\n",
    "    popup_text = f\"{row['properties.jibun']}(properties.pnu)\"\n",
    "    folium.GeoJson(\n",
    "        row['geometry'].__geo_interface__,\n",
    "        style_function=lambda feature, color=color: {'fillColor': color, 'color': 'black', 'weight': 0.3}\n",
    "    ).add_to(m).add_child(folium.Popup(popup_text, max_width=200))  # 팝업 메시지 추가\n",
    "    \n",
    "m.save('registration_map.html')"
   ]
  },
  {
   "attachments": {},
   "cell_type": "markdown",
   "metadata": {},
   "source": [
    "### 토지이용현황도"
   ]
  },
  {
   "cell_type": "code",
   "execution_count": null,
   "metadata": {},
   "outputs": [],
   "source": [
    "# GeoJSON 파일 불러오기\n",
    "with open('dataset/9.안산시_토지이용현황도.geojson') as geojson_file:\n",
    "    geojson_data = json.load(geojson_file)\n",
    "land_use_df = pd.json_normalize(geojson_data['features'])\n",
    "land_use_df['geometry'] = land_use_df['geometry.coordinates'].apply(lambda x : Polygon(x[0][0]))\n",
    "land_use_df['properties.이용현황-대분류'] = land_use_df['properties.이용현황-대분류'].apply(lambda x : x.split('. ')[1])\n",
    "land_use_df['properties.이용현황-중분류'] = land_use_df['properties.이용현황-중분류'].apply(lambda x : x.split('. ')[1])\n",
    "land_use_df['properties.이용현황-소분류'] = land_use_df['properties.이용현황-소분류'].apply(lambda x : x.split('. ')[1])\n",
    "land_use_df"
   ]
  },
  {
   "cell_type": "code",
   "execution_count": null,
   "metadata": {},
   "outputs": [],
   "source": [
    "# 열 'properties.피복-대분류' 값을 기준으로 다른 색상을 매핑하는 함수 생성\n",
    "def get_color(feature):\n",
    "    category = feature['properties.이용현황-대분류']\n",
    "    if category == '산림지역':\n",
    "        return 'darkgreen'\n",
    "    elif category == '초지':\n",
    "        return 'green'\n",
    "    elif category == '나지':\n",
    "        return 'yellow'\n",
    "    elif category == '시가화 건조지역':\n",
    "        return 'darkred'\n",
    "    elif category == '농업지역':\n",
    "        return 'green'\n",
    "    else:\n",
    "        return 'darkblue'\n",
    "\n",
    "# 지도의 중심 좌표 설정\n",
    "m = folium.Map(location=[37.37105949652944, 126.88130200939035], zoom_start=12)\n",
    "\n",
    "# GeoDataFrame을 순회하면서 Polygon을 지도에 추가\n",
    "for idx, row in land_use_df.iterrows():\n",
    "    color = get_color(row)\n",
    "    popup_text = f\"{row['properties.이용현황-소분류']}({row['properties.이용현황-대분류']} - {row['properties.이용현황-중분류']})\"\n",
    "    folium.GeoJson(\n",
    "        row['geometry'].__geo_interface__,\n",
    "        style_function=lambda feature, color=color: {'fillColor': color, 'color': 'black', 'weight': 0.5}\n",
    "    ).add_to(m).add_child(folium.Popup(popup_text, max_width=200))  # 팝업 메시지 추가\n",
    "    \n",
    "m.save('land_use.html')"
   ]
  },
  {
   "attachments": {},
   "cell_type": "markdown",
   "metadata": {},
   "source": [
    "### 건물일반공간정보"
   ]
  },
  {
   "cell_type": "code",
   "execution_count": null,
   "metadata": {},
   "outputs": [],
   "source": [
    "# GeoJSON 파일 불러오기\n",
    "with open('dataset/10.안산시_GIS건물일반공간정보_.geojson') as geojson_file:\n",
    "    geojson_data = json.load(geojson_file)\n",
    "building_df = pd.json_normalize(geojson_data['features'])\n",
    "building_df"
   ]
  },
  {
   "attachments": {},
   "cell_type": "markdown",
   "metadata": {},
   "source": [
    "### 도로명주소"
   ]
  },
  {
   "cell_type": "code",
   "execution_count": null,
   "metadata": {},
   "outputs": [],
   "source": [
    "# GeoJSON 파일 불러오기\n",
    "with open('dataset/11.안산시_도로명주소(도로).geojson') as geojson_file:\n",
    "    geojson_data = json.load(geojson_file)\n",
    "roadname_df = pd.json_normalize(geojson_data['features'])\n",
    "roadname_df"
   ]
  },
  {
   "attachments": {},
   "cell_type": "markdown",
   "metadata": {},
   "source": [
    "### 실폭도로"
   ]
  },
  {
   "cell_type": "code",
   "execution_count": null,
   "metadata": {},
   "outputs": [],
   "source": [
    "# GeoJSON 파일 불러오기\n",
    "with open('dataset/12.안산시_실폭도로.geojson') as geojson_file:\n",
    "    geojson_data = json.load(geojson_file)\n",
    "real_road_df = pd.json_normalize(geojson_data['features'])\n",
    "real_road_df['geometry'] = real_road_df['geometry.coordinates'].apply(lambda x : make_geo(x))\n",
    "real_road_df"
   ]
  },
  {
   "cell_type": "code",
   "execution_count": null,
   "metadata": {},
   "outputs": [],
   "source": [
    "# 지도의 중심 좌표 설정\n",
    "m = folium.Map(location=[37.37105949652944, 126.88130200939035], zoom_start=12)\n",
    "\n",
    "# GeoDataFrame을 순회하면서 Polygon을 지도에 추가\n",
    "for idx, row in real_road_df.iterrows():\n",
    "    popup_text = f\"{row['properties.RW_SN']}\"\n",
    "    folium.GeoJson(\n",
    "        row['geometry'].__geo_interface__,\n",
    "        style_function=lambda feature, color='black': {'fillColor': 'black', 'color': 'black', 'weight': 0.5}\n",
    "    ).add_to(m).add_child(folium.Popup(popup_text, max_width=100))  # 팝업 메시지 추가\n",
    "    \n",
    "m.save('real_road_map.html')"
   ]
  },
  {
   "attachments": {},
   "cell_type": "markdown",
   "metadata": {},
   "source": [
    "### 거주인구"
   ]
  },
  {
   "cell_type": "code",
   "execution_count": null,
   "metadata": {},
   "outputs": [],
   "source": [
    "population_df = pd.read_csv('dataset/14.안산시_거주인구.csv')\n",
    "# 'total_pop' 열의 NaN 값을 0으로 치환\n",
    "population_df['total_pop'].fillna(0, inplace=True)\n",
    "# 'total_pop' 열을 int로 변환\n",
    "population_df['total_pop'] = population_df['total_pop'].astype(int)\n",
    "population_df"
   ]
  },
  {
   "cell_type": "code",
   "execution_count": null,
   "metadata": {},
   "outputs": [],
   "source": [
    "# grid_map_df와 filtered_population_df를 'gid' 열을 기준으로 병합합니다.\n",
    "merged_df = grid_map_df.merge(population_df, left_on='properties.gid', right_on='gid', how='left')\n",
    "merged_df"
   ]
  },
  {
   "attachments": {},
   "cell_type": "markdown",
   "metadata": {},
   "source": [
    "### 유동인구 관련"
   ]
  },
  {
   "cell_type": "code",
   "execution_count": null,
   "metadata": {},
   "outputs": [],
   "source": [
    "pd.read_csv('dataset/15.안산시_성연령별_유동인구.csv')"
   ]
  },
  {
   "cell_type": "code",
   "execution_count": null,
   "metadata": {},
   "outputs": [],
   "source": [
    "pd.read_csv('dataset/16.안산시_시간대별_유동인구.csv')"
   ]
  },
  {
   "cell_type": "code",
   "execution_count": null,
   "metadata": {},
   "outputs": [],
   "source": [
    "pd.read_csv('dataset/17.안산시_요일별_유동인구.csv') # 50M 단위의 셀로 추정한 해당 월의 일 평균 추정 데이터(명)"
   ]
  },
  {
   "attachments": {},
   "cell_type": "markdown",
   "metadata": {},
   "source": [
    "### 대기질 관련"
   ]
  },
  {
   "cell_type": "code",
   "execution_count": null,
   "metadata": {},
   "outputs": [],
   "source": [
    "# 사용자 정의 함수: 문자열 열을 그대로 반환하는 함수\n",
    "def keep_string(column):\n",
    "    return column.iloc[0]  # 첫 번째 값을 반환합니다."
   ]
  },
  {
   "cell_type": "code",
   "execution_count": null,
   "metadata": {},
   "outputs": [],
   "source": [
    "air_quality_df = pd.read_csv('dataset/18.안산시_대기질측정이력.csv')\n",
    "\n",
    "# 'MESURE_DAY_TM' 열을 datetime 형식으로 파싱\n",
    "air_quality_df['MESURE_DAY_TM'] = pd.to_datetime(air_quality_df['MESURE_DAY_TM'])\n",
    "\n",
    "def airdf_deviding(dataframe):\n",
    "    # 날짜를 기준으로 그룹화하고 각 그룹에 대한 측정값을 평균내어 새로운 데이터프레임을 생성\n",
    "    # .dt.date(datetime accessor)는 datetime 열에서 날짜 부분만 추출하는 역할\n",
    "    dataframe = dataframe.groupby(dataframe['MESURE_DAY_TM'].dt.date).agg({'MESURSTN_NM': keep_string, 'MESRNW_NM':keep_string, 'SUA_GAS_DNST_VL': 'mean', 'COMNXD_DNST_VL': 'mean', 'OZONE_DNST_VL': 'mean', 'NO2_DNST_VL': 'mean', 'FINEDUST_PM10_DNST_VL': 'mean', 'FINEDUST_PM2_5_DNST_VL': 'mean'}).reset_index()\n",
    "    return dataframe\n",
    "\n",
    "air_quality_df_원시동 = airdf_deviding(air_quality_df[air_quality_df['MESURSTN_NM'] == '원시동'])\n",
    "air_quality_df_본오동 = airdf_deviding(air_quality_df[air_quality_df['MESURSTN_NM'] == '본오동'])\n",
    "air_quality_df_원곡동 = airdf_deviding(air_quality_df[air_quality_df['MESURSTN_NM'] == '원곡동'])\n",
    "air_quality_df_부곡동1 = airdf_deviding(air_quality_df[air_quality_df['MESURSTN_NM'] == '부곡동1'])\n",
    "air_quality_df_호수동 = airdf_deviding(air_quality_df[air_quality_df['MESURSTN_NM'] == '호수동'])\n",
    "air_quality_df_고잔동 = airdf_deviding(air_quality_df[air_quality_df['MESURSTN_NM'] == '고잔동'])\n",
    "air_quality_df_고잔중앙대로 = airdf_deviding(air_quality_df[air_quality_df['MESURSTN_NM'] == '중앙대로(고잔동)'])"
   ]
  },
  {
   "cell_type": "code",
   "execution_count": null,
   "metadata": {},
   "outputs": [],
   "source": [
    "air_quality_df_원시동"
   ]
  },
  {
   "cell_type": "code",
   "execution_count": null,
   "metadata": {},
   "outputs": [],
   "source": [
    "# Plotly Express를 사용하여 시계열 그래프를 그립니다.\n",
    "fig = px.line(air_quality_df_원시동, x='MESURE_DAY_TM', y=['SUA_GAS_DNST_VL', 'COMNXD_DNST_VL', 'OZONE_DNST_VL', 'NO2_DNST_VL'], title='날짜별 측정값의 평균 시계열')\n",
    "fig.update_xaxes(title_text='일자')\n",
    "fig.update_yaxes(title_text='평균 측정값')\n",
    "\n",
    "# 그래프를 표시합니다.\n",
    "fig.show()"
   ]
  },
  {
   "cell_type": "code",
   "execution_count": null,
   "metadata": {},
   "outputs": [],
   "source": [
    "air_spot_df = pd.read_csv('dataset/19.안산시_대기질측정소현황.csv')\n",
    "air_spot_df"
   ]
  },
  {
   "cell_type": "code",
   "execution_count": null,
   "metadata": {},
   "outputs": [],
   "source": [
    "def geo_transform(DataFrame) :\n",
    "    # csv to geopandas\n",
    "    # lon, lat data를 geometry로 변경\n",
    "    DataFrame['lat'] = DataFrame['lat'].astype(float)\n",
    "    DataFrame['lon'] = DataFrame['lon'].astype(float)\n",
    "    DataFrame['geometry'] = DataFrame.apply(lambda row : Point([row['lon'], row['lat']]), axis=1)\n",
    "    DataFrame = gpd.GeoDataFrame(DataFrame, geometry='geometry')\n",
    "    DataFrame.crs = {'init':'epsg:4326'}\n",
    "    DataFrame = DataFrame.to_crs({'init':'epsg:4326'}) # 좌표계 epsg : 4326\n",
    "    return DataFrame"
   ]
  },
  {
   "cell_type": "code",
   "execution_count": null,
   "metadata": {},
   "outputs": [],
   "source": [
    "air_spot_df = geo_transform(air_spot_df)\n",
    "\n",
    "# map 생성\n",
    "m = folium.Map(location=[np.mean(air_spot_df['lat'].tolist()), np.mean(air_spot_df['lon'].tolist())],  zoom_start=11, tiles='CartoDB positron')\n",
    "\n",
    "for _, row in air_spot_df.iterrows() :\n",
    "    folium.Circle(location=(row['lat'], row['lon']), popup=row['MESURSTN_NM'], radius=2000, color='#FF580B',\n",
    "            fill='#FF580B').add_to(m)\n",
    "    \n",
    "m # 지도 표현"
   ]
  }
 ],
 "metadata": {
  "kernelspec": {
   "display_name": "Python 3",
   "language": "python",
   "name": "python3"
  },
  "language_info": {
   "codemirror_mode": {
    "name": "ipython",
    "version": 3
   },
   "file_extension": ".py",
   "mimetype": "text/x-python",
   "name": "python",
   "nbconvert_exporter": "python",
   "pygments_lexer": "ipython3",
   "version": "3.8.16"
  },
  "orig_nbformat": 4
 },
 "nbformat": 4,
 "nbformat_minor": 2
}
