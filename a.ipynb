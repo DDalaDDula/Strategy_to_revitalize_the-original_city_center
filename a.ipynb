{
 "cells": [
  {
   "attachments": {},
   "cell_type": "markdown",
   "metadata": {},
   "source": [
    "안산시 데이터 온도 측정지점을 기준으로 3곳으로 나눌 수 있음."
   ]
  },
  {
   "cell_type": "code",
   "execution_count": null,
   "metadata": {},
   "outputs": [],
   "source": [
    "import pandas as pd\n",
    "import numpy as np\n",
    "import plotly.express as px\n",
    "import plotly.graph_objects as go\n",
    "from plotly.subplots import make_subplots\n",
    "import folium\n",
    "from folium import plugins\n",
    "from folium import FeatureGroup\n",
    "from config import vworld_key\n",
    "import json\n",
    "import math\n",
    "import re\n",
    "from datetime import datetime\n",
    "import os\n",
    "import glob\n",
    "import subprocess\n",
    "from bs4 import BeautifulSoup as bs\n",
    "from shapely.geometry import Point, Polygon, LineString\n",
    "import geopandas as gpd\n",
    "\n",
    "# 모든 열이 생략되지 않도록 설정\n",
    "pd.set_option('display.max_columns', None)"
   ]
  },
  {
   "cell_type": "code",
   "execution_count": 4,
   "metadata": {},
   "outputs": [],
   "source": [
    "def make_geo(x):\n",
    "    try:\n",
    "        return Polygon(x[0])\n",
    "    except:\n",
    "        return Polygon(x[0][0])"
   ]
  },
  {
   "attachments": {},
   "cell_type": "markdown",
   "metadata": {},
   "source": [
    "### 격자(매핑용)"
   ]
  },
  {
   "cell_type": "code",
   "execution_count": 5,
   "metadata": {},
   "outputs": [
    {
     "data": {
      "text/html": [
       "<div>\n",
       "<style scoped>\n",
       "    .dataframe tbody tr th:only-of-type {\n",
       "        vertical-align: middle;\n",
       "    }\n",
       "\n",
       "    .dataframe tbody tr th {\n",
       "        vertical-align: top;\n",
       "    }\n",
       "\n",
       "    .dataframe thead th {\n",
       "        text-align: right;\n",
       "    }\n",
       "</style>\n",
       "<table border=\"1\" class=\"dataframe\">\n",
       "  <thead>\n",
       "    <tr style=\"text-align: right;\">\n",
       "      <th></th>\n",
       "      <th>type</th>\n",
       "      <th>properties.gid</th>\n",
       "      <th>geometry.type</th>\n",
       "      <th>geometry.coordinates</th>\n",
       "      <th>geometry</th>\n",
       "    </tr>\n",
       "  </thead>\n",
       "  <tbody>\n",
       "    <tr>\n",
       "      <th>0</th>\n",
       "      <td>Feature</td>\n",
       "      <td>라바122456</td>\n",
       "      <td>Polygon</td>\n",
       "      <td>[[[127.63641867895493, 36.608165744671886], [1...</td>\n",
       "      <td>POLYGON ((127.63641867895493 36.60816574467188...</td>\n",
       "    </tr>\n",
       "    <tr>\n",
       "      <th>1</th>\n",
       "      <td>Feature</td>\n",
       "      <td>다바841455</td>\n",
       "      <td>Polygon</td>\n",
       "      <td>[[[127.32221067151384, 36.60720970472786], [12...</td>\n",
       "      <td>POLYGON ((127.32221067151384 36.60720970472786...</td>\n",
       "    </tr>\n",
       "    <tr>\n",
       "      <th>2</th>\n",
       "      <td>Feature</td>\n",
       "      <td>라바189471</td>\n",
       "      <td>Polygon</td>\n",
       "      <td>[[[127.71137365974974, 36.62157886605511], [12...</td>\n",
       "      <td>POLYGON ((127.71137365974974 36.62157886605511...</td>\n",
       "    </tr>\n",
       "    <tr>\n",
       "      <th>3</th>\n",
       "      <td>Feature</td>\n",
       "      <td>다바852482</td>\n",
       "      <td>Polygon</td>\n",
       "      <td>[[[127.33445848271631, 36.631567839444976], [1...</td>\n",
       "      <td>POLYGON ((127.33445848271631 36.63156783944497...</td>\n",
       "    </tr>\n",
       "    <tr>\n",
       "      <th>4</th>\n",
       "      <td>Feature</td>\n",
       "      <td>다바959488</td>\n",
       "      <td>Polygon</td>\n",
       "      <td>[[[127.45413724007568, 36.63708300728262], [12...</td>\n",
       "      <td>POLYGON ((127.45413724007568 36.63708300728262...</td>\n",
       "    </tr>\n",
       "    <tr>\n",
       "      <th>...</th>\n",
       "      <td>...</td>\n",
       "      <td>...</td>\n",
       "      <td>...</td>\n",
       "      <td>...</td>\n",
       "      <td>...</td>\n",
       "    </tr>\n",
       "    <tr>\n",
       "      <th>95251</th>\n",
       "      <td>Feature</td>\n",
       "      <td>다바868478</td>\n",
       "      <td>Polygon</td>\n",
       "      <td>[[[127.35236168440159, 36.62798537617458], [12...</td>\n",
       "      <td>POLYGON ((127.35236168440159 36.62798537617458...</td>\n",
       "    </tr>\n",
       "    <tr>\n",
       "      <th>95252</th>\n",
       "      <td>Feature</td>\n",
       "      <td>다바974324</td>\n",
       "      <td>Polygon</td>\n",
       "      <td>[[[127.47097166337947, 36.48924077421588], [12...</td>\n",
       "      <td>POLYGON ((127.47097166337947 36.48924077421588...</td>\n",
       "    </tr>\n",
       "    <tr>\n",
       "      <th>95253</th>\n",
       "      <td>Feature</td>\n",
       "      <td>라바151492</td>\n",
       "      <td>Polygon</td>\n",
       "      <td>[[[127.66891675313607, 36.640578073348856], [1...</td>\n",
       "      <td>POLYGON ((127.66891675313607 36.64057807334885...</td>\n",
       "    </tr>\n",
       "    <tr>\n",
       "      <th>95254</th>\n",
       "      <td>Feature</td>\n",
       "      <td>다바841537</td>\n",
       "      <td>Polygon</td>\n",
       "      <td>[[[127.3220406982908, 36.681132105366395], [12...</td>\n",
       "      <td>POLYGON ((127.3220406982908 36.681132105366395...</td>\n",
       "    </tr>\n",
       "    <tr>\n",
       "      <th>95255</th>\n",
       "      <td>Feature</td>\n",
       "      <td>라바026284</td>\n",
       "      <td>Polygon</td>\n",
       "      <td>[[[127.52901489351359, 36.45317984850046], [12...</td>\n",
       "      <td>POLYGON ((127.52901489351359 36.45317984850046...</td>\n",
       "    </tr>\n",
       "  </tbody>\n",
       "</table>\n",
       "<p>95256 rows × 5 columns</p>\n",
       "</div>"
      ],
      "text/plain": [
       "          type properties.gid geometry.type  \\\n",
       "0      Feature       라바122456       Polygon   \n",
       "1      Feature       다바841455       Polygon   \n",
       "2      Feature       라바189471       Polygon   \n",
       "3      Feature       다바852482       Polygon   \n",
       "4      Feature       다바959488       Polygon   \n",
       "...        ...            ...           ...   \n",
       "95251  Feature       다바868478       Polygon   \n",
       "95252  Feature       다바974324       Polygon   \n",
       "95253  Feature       라바151492       Polygon   \n",
       "95254  Feature       다바841537       Polygon   \n",
       "95255  Feature       라바026284       Polygon   \n",
       "\n",
       "                                    geometry.coordinates  \\\n",
       "0      [[[127.63641867895493, 36.608165744671886], [1...   \n",
       "1      [[[127.32221067151384, 36.60720970472786], [12...   \n",
       "2      [[[127.71137365974974, 36.62157886605511], [12...   \n",
       "3      [[[127.33445848271631, 36.631567839444976], [1...   \n",
       "4      [[[127.45413724007568, 36.63708300728262], [12...   \n",
       "...                                                  ...   \n",
       "95251  [[[127.35236168440159, 36.62798537617458], [12...   \n",
       "95252  [[[127.47097166337947, 36.48924077421588], [12...   \n",
       "95253  [[[127.66891675313607, 36.640578073348856], [1...   \n",
       "95254  [[[127.3220406982908, 36.681132105366395], [12...   \n",
       "95255  [[[127.52901489351359, 36.45317984850046], [12...   \n",
       "\n",
       "                                                geometry  \n",
       "0      POLYGON ((127.63641867895493 36.60816574467188...  \n",
       "1      POLYGON ((127.32221067151384 36.60720970472786...  \n",
       "2      POLYGON ((127.71137365974974 36.62157886605511...  \n",
       "3      POLYGON ((127.33445848271631 36.63156783944497...  \n",
       "4      POLYGON ((127.45413724007568 36.63708300728262...  \n",
       "...                                                  ...  \n",
       "95251  POLYGON ((127.35236168440159 36.62798537617458...  \n",
       "95252  POLYGON ((127.47097166337947 36.48924077421588...  \n",
       "95253  POLYGON ((127.66891675313607 36.64057807334885...  \n",
       "95254  POLYGON ((127.3220406982908 36.681132105366395...  \n",
       "95255  POLYGON ((127.52901489351359 36.45317984850046...  \n",
       "\n",
       "[95256 rows x 5 columns]"
      ]
     },
     "execution_count": 5,
     "metadata": {},
     "output_type": "execute_result"
    }
   ],
   "source": [
    "# GeoJSON 파일 불러오기\n",
    "with open('SBJ_2309_001/26.청주시_격자(매핑용).geojson') as geojson_file:\n",
    "    geojson_data = json.load(geojson_file)\n",
    "grid_map_df = pd.json_normalize(geojson_data['features'])\n",
    "grid_map_df['geometry'] = grid_map_df['geometry.coordinates'].apply(lambda x : make_geo(x))\n",
    "grid_map_df"
   ]
  },
  {
   "cell_type": "code",
   "execution_count": null,
   "metadata": {},
   "outputs": [],
   "source": [
    "# 지도의 중심 좌표 설정\n",
    "m = folium.Map(location=[36.60720970472786, 127.63641867895493], zoom_start=12)\n",
    "\n",
    "# GeoDataFrame을 순회하면서 Polygon을 지도에 추가\n",
    "for idx, row in grid_map_df.iterrows():\n",
    "    popup_text = f\"{row['properties.gid']}\"\n",
    "    folium.GeoJson(\n",
    "        row['geometry'].__geo_interface__,\n",
    "        style_function=lambda feature, color='black': {'fillColor': 'black', 'color': 'black', 'weight': 0.1}\n",
    "    ).add_to(m).add_child(folium.Popup(popup_text, max_width=100))  # 팝업 메시지 추가\n",
    "    \n",
    "m"
   ]
  },
  {
   "attachments": {},
   "cell_type": "markdown",
   "metadata": {},
   "source": [
    "### 거주인구 격자에 매핑"
   ]
  },
  {
   "cell_type": "code",
   "execution_count": null,
   "metadata": {},
   "outputs": [],
   "source": [
    "pd.read_csv('SBJ_2309_001/1.청주시_거주인구.csv')"
   ]
  },
  {
   "cell_type": "code",
   "execution_count": null,
   "metadata": {},
   "outputs": [],
   "source": [
    "pd.read_csv('SBJ_2309_001/2.청주시_성연령별_유동인구.csv')"
   ]
  },
  {
   "attachments": {},
   "cell_type": "markdown",
   "metadata": {},
   "source": [
    "### 청주시_도시재생계획구역"
   ]
  },
  {
   "cell_type": "code",
   "execution_count": 113,
   "metadata": {},
   "outputs": [
    {
     "data": {
      "text/html": [
       "<div>\n",
       "<style scoped>\n",
       "    .dataframe tbody tr th:only-of-type {\n",
       "        vertical-align: middle;\n",
       "    }\n",
       "\n",
       "    .dataframe tbody tr th {\n",
       "        vertical-align: top;\n",
       "    }\n",
       "\n",
       "    .dataframe thead th {\n",
       "        text-align: right;\n",
       "    }\n",
       "</style>\n",
       "<table border=\"1\" class=\"dataframe\">\n",
       "  <thead>\n",
       "    <tr style=\"text-align: right;\">\n",
       "      <th></th>\n",
       "      <th>type</th>\n",
       "      <th>properties.fid</th>\n",
       "      <th>properties.구역명</th>\n",
       "      <th>geometry.type</th>\n",
       "      <th>geometry.coordinates</th>\n",
       "      <th>geometry</th>\n",
       "      <th>centroid_polygon_geometry</th>\n",
       "    </tr>\n",
       "  </thead>\n",
       "  <tbody>\n",
       "    <tr>\n",
       "      <th>0</th>\n",
       "      <td>Feature</td>\n",
       "      <td>5</td>\n",
       "      <td>도시재생구역도</td>\n",
       "      <td>Polygon</td>\n",
       "      <td>[[[127.4833417, 36.6318644], [127.4833417, 36....</td>\n",
       "      <td>POLYGON ((127.4833417 36.6318644, 127.4833417 ...</td>\n",
       "      <td>POLYGON ((127.50347965416363 36.63603755594320...</td>\n",
       "    </tr>\n",
       "  </tbody>\n",
       "</table>\n",
       "</div>"
      ],
      "text/plain": [
       "      type  properties.fid properties.구역명 geometry.type  \\\n",
       "0  Feature               5        도시재생구역도       Polygon   \n",
       "\n",
       "                                geometry.coordinates  \\\n",
       "0  [[[127.4833417, 36.6318644], [127.4833417, 36....   \n",
       "\n",
       "                                            geometry  \\\n",
       "0  POLYGON ((127.4833417 36.6318644, 127.4833417 ...   \n",
       "\n",
       "                           centroid_polygon_geometry  \n",
       "0  POLYGON ((127.50347965416363 36.63603755594320...  "
      ]
     },
     "execution_count": 113,
     "metadata": {},
     "output_type": "execute_result"
    }
   ],
   "source": [
    "# GeoJSON 파일 불러오기\n",
    "with open('SBJ_2309_001/27.청주시_도시재생계획구역.geojson') as geojson_file:\n",
    "    geojson_data = json.load(geojson_file)\n",
    "crp_df = pd.json_normalize(geojson_data) # city_revitalize_planning_map_df\n",
    "crp_df['geometry'] = crp_df['geometry.coordinates'].apply(lambda x : make_geo(x))\n",
    "# crp_df에서 첫 번째 폴리곤 영역을 선택 = crp_df는 원도심 영역(도시재생 대상지역)\n",
    "\n",
    "# 폴리곤의 중점을 찾음\n",
    "centroid = crp_df['geometry'].iloc[0].centroid.buffer(0.015) # 1도의 위도 변화는 대략 111.32 킬로미터\n",
    "crp_df['centroid_polygon_geometry'] = [centroid]\n",
    "crp_df"
   ]
  },
  {
   "cell_type": "code",
   "execution_count": null,
   "metadata": {},
   "outputs": [],
   "source": [
    "# 지도의 중심 좌표 설정\n",
    "m = folium.Map(location=[36.60720970472786, 127.63641867895493], zoom_start=12)\n",
    "\n",
    "# GeoDataFrame을 순회하면서 Polygon을 지도에 추가\n",
    "for idx, row in crp_df.iterrows():\n",
    "    popup_text = f\"{row['properties.구역명']}\"\n",
    "    folium.GeoJson(\n",
    "        row['geometry'].__geo_interface__,\n",
    "        style_function=lambda feature, color='blue': {'fillColor': 'blue', 'color': 'black', 'weight': 0.1}\n",
    "    ).add_to(m).add_child(folium.Popup(popup_text, max_width=100))  # 팝업 메시지 추가\n",
    "    \n",
    "m"
   ]
  },
  {
   "attachments": {},
   "cell_type": "markdown",
   "metadata": {},
   "source": [
    "### 청주시 폐공장현황"
   ]
  },
  {
   "cell_type": "code",
   "execution_count": null,
   "metadata": {},
   "outputs": [],
   "source": [
    "factory_df = pd.read_csv('SBJ_2309_001/9.청주시_폐공장현황.csv')\n",
    "factory_df"
   ]
  },
  {
   "cell_type": "code",
   "execution_count": 34,
   "metadata": {},
   "outputs": [],
   "source": [
    "# 데이터프레임을 GeoPandas 데이터프레임으로 변환하는 함수 정의\n",
    "def geo_transform(DataFrame) :\n",
    "    # csv to geopandas\n",
    "    # lon, lat data를 geometry로 변경\n",
    "    DataFrame['lat'] = DataFrame['lat'].astype(float)\n",
    "    DataFrame['lon'] = DataFrame['lon'].astype(float)\n",
    "    DataFrame['geometry'] = DataFrame.apply(lambda row : Point([row['lon'], row['lat']]), axis=1) # 위도 및 경도롤 GeoPandas Point 객체로 변환\n",
    "    DataFrame = gpd.GeoDataFrame(DataFrame, geometry='geometry')\n",
    "    DataFrame.crs = {'init':'epsg:4326'} # geopandas 데이터프레임의 좌표계를 EPSG 4326으로 설정\n",
    "    DataFrame = DataFrame.to_crs({'init':'epsg:4326'}) # 데이터프레임의 좌표계를 자체 좌표계에서 EPSG 4326으로 변환\n",
    "    return DataFrame"
   ]
  },
  {
   "cell_type": "code",
   "execution_count": 42,
   "metadata": {},
   "outputs": [
    {
     "name": "stderr",
     "output_type": "stream",
     "text": [
      "c:\\Users\\user\\anaconda3\\envs\\GIS\\lib\\site-packages\\pyproj\\crs\\crs.py:141: FutureWarning: '+init=<authority>:<code>' syntax is deprecated. '<authority>:<code>' is the preferred initialization method. When making the change, be mindful of axis order changes: https://pyproj4.github.io/pyproj/stable/gotchas.html#axis-order-changes-in-proj-6\n",
      "  in_crs_string = _prepare_from_proj_string(in_crs_string)\n",
      "c:\\Users\\user\\anaconda3\\envs\\GIS\\lib\\site-packages\\pyproj\\crs\\crs.py:141: FutureWarning: '+init=<authority>:<code>' syntax is deprecated. '<authority>:<code>' is the preferred initialization method. When making the change, be mindful of axis order changes: https://pyproj4.github.io/pyproj/stable/gotchas.html#axis-order-changes-in-proj-6\n",
      "  in_crs_string = _prepare_from_proj_string(in_crs_string)\n"
     ]
    }
   ],
   "source": [
    "# 데이터프레임을 GeoPandas 데이터프레임으로 변환\n",
    "factory_df = geo_transform(factory_df)\n",
    "\n",
    "# crp_df에서 첫 번째 폴리곤 영역을 선택 = crp_df는 원도심 영역(도시재생 대상지역)\n",
    "polygon = crp_df['geometry'].iloc[0]\n",
    "\n",
    "# factory_df의 'geometry' 열을 사용하여 Point 객체를 필터링\n",
    "filtered_points = factory_df[factory_df['geometry'].within(polygon)]"
   ]
  },
  {
   "cell_type": "code",
   "execution_count": null,
   "metadata": {},
   "outputs": [],
   "source": [
    "from folium.plugins import MarkerCluster\n",
    "# Folium 지도 생성\n",
    "m = folium.Map(location=[36.522164, 127.414516], zoom_start=13, width='100%', height='100%')\n",
    "\n",
    "# 배경지도 타일 설정하기\n",
    "layer = \"Hybrid\"\n",
    "tileType = \"png\"\n",
    "tiles = f\"http://api.vworld.kr/req/wmts/1.0.0/{vworld_key}/{layer}/{{z}}/{{y}}/{{x}}.{tileType}\"\n",
    "attr = \"Vworld\"\n",
    "\n",
    "folium.TileLayer(\n",
    "    tiles=tiles,\n",
    "    attr=attr,\n",
    "    overlay=True,\n",
    "    control=True\n",
    ").add_to(m)\n",
    "\n",
    "# GeoJSON 데이터를 지도에 추가\n",
    "for index, row in filtered_points.iterrows():\n",
    "    marker = folium.CircleMarker(\n",
    "        location=[row['geometry'].y, row['geometry'].x],\n",
    "        radius=5,\n",
    "        fill=True,\n",
    "    )\n",
    "    marker.add_to(m)\n",
    "\n",
    "# 지도 저장\n",
    "m"
   ]
  },
  {
   "attachments": {},
   "cell_type": "markdown",
   "metadata": {},
   "source": [
    "### 청주시 문화재 현황 (폴리곤 영역확장 변경으로 교통분석 후 문화재 필터링 해야할 듯)"
   ]
  },
  {
   "cell_type": "code",
   "execution_count": null,
   "metadata": {},
   "outputs": [],
   "source": [
    "culture_assets_df = pd.read_csv('SBJ_2309_001/5.청주시_유적지_문화재현황.csv')\n",
    "culture_assets_df"
   ]
  },
  {
   "cell_type": "code",
   "execution_count": 82,
   "metadata": {},
   "outputs": [
    {
     "name": "stderr",
     "output_type": "stream",
     "text": [
      "c:\\Users\\user\\anaconda3\\envs\\GIS\\lib\\site-packages\\pyproj\\crs\\crs.py:141: FutureWarning: '+init=<authority>:<code>' syntax is deprecated. '<authority>:<code>' is the preferred initialization method. When making the change, be mindful of axis order changes: https://pyproj4.github.io/pyproj/stable/gotchas.html#axis-order-changes-in-proj-6\n",
      "  in_crs_string = _prepare_from_proj_string(in_crs_string)\n",
      "c:\\Users\\user\\anaconda3\\envs\\GIS\\lib\\site-packages\\pyproj\\crs\\crs.py:141: FutureWarning: '+init=<authority>:<code>' syntax is deprecated. '<authority>:<code>' is the preferred initialization method. When making the change, be mindful of axis order changes: https://pyproj4.github.io/pyproj/stable/gotchas.html#axis-order-changes-in-proj-6\n",
      "  in_crs_string = _prepare_from_proj_string(in_crs_string)\n"
     ]
    }
   ],
   "source": [
    "# 데이터프레임을 GeoPandas 데이터프레임으로 변환\n",
    "culture_assets_df = geo_transform(culture_assets_df)\n",
    "\n",
    "# crp_df에서 첫 번째 폴리곤 영역을 선택 = crp_df는 원도심 영역(도시재생 대상지역)\n",
    "polygon = crp_df['geometry'].iloc[0]\n",
    "\n",
    "# 폴리곤을 확장 (예: 0.1 도 또는 10 킬로미터 확장)\n",
    "expanded_polygon = polygon.buffer(0.015)  # 0.015은 확장할 크기. EPSG 4326 좌표계에서는 위도 및 경도가 0.015도씩 확장됨.(약 1.7km 나중에 변경 될 수 있음)\n",
    "\n",
    "# factory_df의 'geometry' 열을 사용하여 Point 객체를 필터링\n",
    "filtered_points_culture = culture_assets_df[culture_assets_df['geometry'].within(expanded_polygon)].reset_index(drop=True)"
   ]
  },
  {
   "cell_type": "code",
   "execution_count": null,
   "metadata": {},
   "outputs": [],
   "source": [
    "filtered_points_culture"
   ]
  },
  {
   "cell_type": "code",
   "execution_count": null,
   "metadata": {},
   "outputs": [],
   "source": [
    "from folium.plugins import MarkerCluster\n",
    "# Folium 지도 생성\n",
    "m = folium.Map(location=[36.522164, 127.414516], zoom_start=13, width='100%', height='100%')\n",
    "\n",
    "# 배경지도 타일 설정하기\n",
    "layer = \"Hybrid\"\n",
    "tileType = \"png\"\n",
    "tiles = f\"http://api.vworld.kr/req/wmts/1.0.0/{vworld_key}/{layer}/{{z}}/{{y}}/{{x}}.{tileType}\"\n",
    "attr = \"Vworld\"\n",
    "\n",
    "folium.TileLayer(\n",
    "    tiles=tiles,\n",
    "    attr=attr,\n",
    "    overlay=True,\n",
    "    control=True\n",
    ").add_to(m)\n",
    "\n",
    "# GeoJSON 데이터를 지도에 추가\n",
    "for index, row in filtered_points_culture.iterrows():\n",
    "    marker = folium.CircleMarker(\n",
    "        location=[row['lat'], row['lon']],\n",
    "        radius=5,\n",
    "        fill=True,\n",
    "    )\n",
    "    marker.add_to(m)\n",
    "\n",
    "# 지도 저장\n",
    "m"
   ]
  },
  {
   "attachments": {},
   "cell_type": "markdown",
   "metadata": {},
   "source": [
    "### 청주시 시장 현황 (폴리곤 영역확장 없이 범위 내 시장들만 필터링)"
   ]
  },
  {
   "cell_type": "code",
   "execution_count": 108,
   "metadata": {},
   "outputs": [
    {
     "data": {
      "text/html": [
       "<div>\n",
       "<style scoped>\n",
       "    .dataframe tbody tr th:only-of-type {\n",
       "        vertical-align: middle;\n",
       "    }\n",
       "\n",
       "    .dataframe tbody tr th {\n",
       "        vertical-align: top;\n",
       "    }\n",
       "\n",
       "    .dataframe thead th {\n",
       "        text-align: right;\n",
       "    }\n",
       "</style>\n",
       "<table border=\"1\" class=\"dataframe\">\n",
       "  <thead>\n",
       "    <tr style=\"text-align: right;\">\n",
       "      <th></th>\n",
       "      <th>market_nm</th>\n",
       "      <th>addr</th>\n",
       "      <th>area</th>\n",
       "      <th>lon</th>\n",
       "      <th>lat</th>\n",
       "    </tr>\n",
       "  </thead>\n",
       "  <tbody>\n",
       "    <tr>\n",
       "      <th>0</th>\n",
       "      <td>육거리종합시장</td>\n",
       "      <td>상당구 청남로2197번길 42(석교동)</td>\n",
       "      <td>86273</td>\n",
       "      <td>127.488184</td>\n",
       "      <td>36.627938</td>\n",
       "    </tr>\n",
       "    <tr>\n",
       "      <th>1</th>\n",
       "      <td>서문시장</td>\n",
       "      <td>상당구 남사로89번길 57(서문동)</td>\n",
       "      <td>10285</td>\n",
       "      <td>127.485365</td>\n",
       "      <td>36.634894</td>\n",
       "    </tr>\n",
       "    <tr>\n",
       "      <th>2</th>\n",
       "      <td>중앙시장</td>\n",
       "      <td>상당구 중앙로 26(북문로2가)</td>\n",
       "      <td>7305</td>\n",
       "      <td>127.489192</td>\n",
       "      <td>36.639385</td>\n",
       "    </tr>\n",
       "    <tr>\n",
       "      <th>3</th>\n",
       "      <td>사직시장</td>\n",
       "      <td>서원구 사직대로265번길 7(사직동)</td>\n",
       "      <td>9200</td>\n",
       "      <td>127.476868</td>\n",
       "      <td>36.636143</td>\n",
       "    </tr>\n",
       "    <tr>\n",
       "      <th>4</th>\n",
       "      <td>북부시장</td>\n",
       "      <td>청원구 향군로31번길 19(우암동)</td>\n",
       "      <td>22133</td>\n",
       "      <td>127.486221</td>\n",
       "      <td>36.647973</td>\n",
       "    </tr>\n",
       "  </tbody>\n",
       "</table>\n",
       "</div>"
      ],
      "text/plain": [
       "  market_nm                   addr   area         lon        lat\n",
       "0   육거리종합시장  상당구 청남로2197번길 42(석교동)  86273  127.488184  36.627938\n",
       "1      서문시장    상당구 남사로89번길 57(서문동)  10285  127.485365  36.634894\n",
       "2      중앙시장      상당구 중앙로 26(북문로2가)   7305  127.489192  36.639385\n",
       "3      사직시장   서원구 사직대로265번길 7(사직동)   9200  127.476868  36.636143\n",
       "4      북부시장    청원구 향군로31번길 19(우암동)  22133  127.486221  36.647973"
      ]
     },
     "execution_count": 108,
     "metadata": {},
     "output_type": "execute_result"
    }
   ],
   "source": [
    "market_df = pd.read_csv('SBJ_2309_001/6.청주시_시장현황.csv')\n",
    "market_df"
   ]
  },
  {
   "cell_type": "code",
   "execution_count": 109,
   "metadata": {},
   "outputs": [
    {
     "name": "stderr",
     "output_type": "stream",
     "text": [
      "c:\\Users\\user\\anaconda3\\envs\\GIS\\lib\\site-packages\\pyproj\\crs\\crs.py:141: FutureWarning: '+init=<authority>:<code>' syntax is deprecated. '<authority>:<code>' is the preferred initialization method. When making the change, be mindful of axis order changes: https://pyproj4.github.io/pyproj/stable/gotchas.html#axis-order-changes-in-proj-6\n",
      "  in_crs_string = _prepare_from_proj_string(in_crs_string)\n",
      "c:\\Users\\user\\anaconda3\\envs\\GIS\\lib\\site-packages\\pyproj\\crs\\crs.py:141: FutureWarning: '+init=<authority>:<code>' syntax is deprecated. '<authority>:<code>' is the preferred initialization method. When making the change, be mindful of axis order changes: https://pyproj4.github.io/pyproj/stable/gotchas.html#axis-order-changes-in-proj-6\n",
      "  in_crs_string = _prepare_from_proj_string(in_crs_string)\n"
     ]
    }
   ],
   "source": [
    "# 데이터프레임을 GeoPandas 데이터프레임으로 변환\n",
    "market_df = geo_transform(market_df)\n",
    "\n",
    "# crp_df에서 첫 번째 폴리곤 영역을 선택 = crp_df는 원도심 영역(도시재생 대상지역)\n",
    "polygon = crp_df['geometry'].iloc[0]\n",
    "\n",
    "# factory_df의 'geometry' 열을 사용하여 Point 객체를 필터링\n",
    "filtered_points_market = market_df[market_df['geometry'].within(polygon)].reset_index(drop=True)"
   ]
  },
  {
   "cell_type": "code",
   "execution_count": 110,
   "metadata": {},
   "outputs": [
    {
     "data": {
      "text/html": [
       "<div>\n",
       "<style scoped>\n",
       "    .dataframe tbody tr th:only-of-type {\n",
       "        vertical-align: middle;\n",
       "    }\n",
       "\n",
       "    .dataframe tbody tr th {\n",
       "        vertical-align: top;\n",
       "    }\n",
       "\n",
       "    .dataframe thead th {\n",
       "        text-align: right;\n",
       "    }\n",
       "</style>\n",
       "<table border=\"1\" class=\"dataframe\">\n",
       "  <thead>\n",
       "    <tr style=\"text-align: right;\">\n",
       "      <th></th>\n",
       "      <th>market_nm</th>\n",
       "      <th>addr</th>\n",
       "      <th>area</th>\n",
       "      <th>lon</th>\n",
       "      <th>lat</th>\n",
       "      <th>geometry</th>\n",
       "    </tr>\n",
       "  </thead>\n",
       "  <tbody>\n",
       "    <tr>\n",
       "      <th>0</th>\n",
       "      <td>육거리종합시장</td>\n",
       "      <td>상당구 청남로2197번길 42(석교동)</td>\n",
       "      <td>86273</td>\n",
       "      <td>127.488184</td>\n",
       "      <td>36.627938</td>\n",
       "      <td>POINT (127.48818 36.62794)</td>\n",
       "    </tr>\n",
       "    <tr>\n",
       "      <th>1</th>\n",
       "      <td>서문시장</td>\n",
       "      <td>상당구 남사로89번길 57(서문동)</td>\n",
       "      <td>10285</td>\n",
       "      <td>127.485365</td>\n",
       "      <td>36.634894</td>\n",
       "      <td>POINT (127.48536 36.63489)</td>\n",
       "    </tr>\n",
       "    <tr>\n",
       "      <th>2</th>\n",
       "      <td>중앙시장</td>\n",
       "      <td>상당구 중앙로 26(북문로2가)</td>\n",
       "      <td>7305</td>\n",
       "      <td>127.489192</td>\n",
       "      <td>36.639385</td>\n",
       "      <td>POINT (127.48919 36.63938)</td>\n",
       "    </tr>\n",
       "  </tbody>\n",
       "</table>\n",
       "</div>"
      ],
      "text/plain": [
       "  market_nm                   addr   area         lon        lat  \\\n",
       "0   육거리종합시장  상당구 청남로2197번길 42(석교동)  86273  127.488184  36.627938   \n",
       "1      서문시장    상당구 남사로89번길 57(서문동)  10285  127.485365  36.634894   \n",
       "2      중앙시장      상당구 중앙로 26(북문로2가)   7305  127.489192  36.639385   \n",
       "\n",
       "                     geometry  \n",
       "0  POINT (127.48818 36.62794)  \n",
       "1  POINT (127.48536 36.63489)  \n",
       "2  POINT (127.48919 36.63938)  "
      ]
     },
     "execution_count": 110,
     "metadata": {},
     "output_type": "execute_result"
    }
   ],
   "source": [
    "filtered_points_market"
   ]
  },
  {
   "cell_type": "code",
   "execution_count": null,
   "metadata": {},
   "outputs": [],
   "source": [
    "from folium.plugins import MarkerCluster\n",
    "# Folium 지도 생성\n",
    "m = folium.Map(location=[36.522164, 127.414516], zoom_start=13, width='100%', height='100%')\n",
    "\n",
    "# 배경지도 타일 설정하기\n",
    "layer = \"Hybrid\"\n",
    "tileType = \"png\"\n",
    "tiles = f\"http://api.vworld.kr/req/wmts/1.0.0/{vworld_key}/{layer}/{{z}}/{{y}}/{{x}}.{tileType}\"\n",
    "attr = \"Vworld\"\n",
    "\n",
    "folium.TileLayer(\n",
    "    tiles=tiles,\n",
    "    attr=attr,\n",
    "    overlay=True,\n",
    "    control=True\n",
    ").add_to(m)\n",
    "\n",
    "# GeoJSON 데이터를 지도에 추가\n",
    "for index, row in filtered_points_market.iterrows():\n",
    "    marker = folium.CircleMarker(\n",
    "        location=[row['lat'], row['lon']],\n",
    "        radius=5,\n",
    "        fill=True,\n",
    "    )\n",
    "    marker.add_to(m)\n",
    "\n",
    "# 지도 저장\n",
    "m"
   ]
  },
  {
   "attachments": {},
   "cell_type": "markdown",
   "metadata": {},
   "source": [
    "### 청주시 주차장 현황 (폴리곤 영역확장 고민해봐야 할듯)"
   ]
  },
  {
   "cell_type": "code",
   "execution_count": null,
   "metadata": {},
   "outputs": [],
   "source": [
    "parking_df = pd.read_csv('SBJ_2309_001/7.청주시_주차장현황.csv')\n",
    "parking_df"
   ]
  },
  {
   "cell_type": "code",
   "execution_count": null,
   "metadata": {},
   "outputs": [],
   "source": [
    "# 데이터프레임을 GeoPandas 데이터프레임으로 변환\n",
    "parking_df = geo_transform(parking_df)\n",
    "\n",
    "# crp_df에서 첫 번째 폴리곤 영역을 선택 = crp_df는 원도심 영역(도시재생 대상지역)\n",
    "polygon = crp_df['geometry'].iloc[0] # 또는 centroid_polygon_geometry\n",
    "\n",
    "# factory_df의 'geometry' 열을 사용하여 Point 객체를 필터링\n",
    "filtered_points_parking = parking_df[parking_df['geometry'].within(polygon)].reset_index(drop=True)"
   ]
  },
  {
   "cell_type": "code",
   "execution_count": null,
   "metadata": {},
   "outputs": [],
   "source": [
    "filtered_points_parking # 노상 : 도로 위 한켠에 주차를 하고 일정 비용을 받음(정부 또는 지자체 관할), 노외 : 공용주차장처럼 별도 대지에 설치되어 제공되는 주차장"
   ]
  },
  {
   "cell_type": "code",
   "execution_count": null,
   "metadata": {},
   "outputs": [],
   "source": [
    "from folium.plugins import MarkerCluster\n",
    "# Folium 지도 생성\n",
    "m = folium.Map(location=[36.522164, 127.414516], zoom_start=13, width='100%', height='100%')\n",
    "\n",
    "# 배경지도 타일 설정하기\n",
    "layer = \"Hybrid\"\n",
    "tileType = \"png\"\n",
    "tiles = f\"http://api.vworld.kr/req/wmts/1.0.0/{vworld_key}/{layer}/{{z}}/{{y}}/{{x}}.{tileType}\"\n",
    "attr = \"Vworld\"\n",
    "\n",
    "folium.TileLayer(\n",
    "    tiles=tiles,\n",
    "    attr=attr,\n",
    "    overlay=True,\n",
    "    control=True\n",
    ").add_to(m)\n",
    "\n",
    "# GeoJSON 데이터를 지도에 추가\n",
    "for index, row in filtered_points_parking.iterrows():\n",
    "    marker = folium.CircleMarker(\n",
    "        location=[row['lat'], row['lon']],\n",
    "        radius=5,\n",
    "        fill=True,\n",
    "    )\n",
    "    marker.add_to(m)\n",
    "\n",
    "# 지도 저장\n",
    "m"
   ]
  },
  {
   "attachments": {},
   "cell_type": "markdown",
   "metadata": {},
   "source": [
    "### 청주시 공원 현황 (폴리곤 영역확장 고민해봐야 할듯)"
   ]
  },
  {
   "cell_type": "code",
   "execution_count": null,
   "metadata": {},
   "outputs": [],
   "source": [
    "park_df = pd.read_csv('SBJ_2309_001/8.청주시_공원현황.csv')\n",
    "park_df"
   ]
  },
  {
   "cell_type": "code",
   "execution_count": null,
   "metadata": {},
   "outputs": [],
   "source": [
    "# 데이터프레임을 GeoPandas 데이터프레임으로 변환\n",
    "park_df = geo_transform(park_df)\n",
    "\n",
    "# crp_df에서 첫 번째 폴리곤 영역을 선택 = crp_df는 원도심 영역(도시재생 대상지역)\n",
    "polygon = crp_df['geometry'].iloc[0] # 또는 centroid_polygon_geometry\n",
    "\n",
    "# factory_df의 'geometry' 열을 사용하여 Point 객체를 필터링\n",
    "filtered_points_park = park_df[park_df['geometry'].within(polygon)].reset_index(drop=True)"
   ]
  },
  {
   "cell_type": "code",
   "execution_count": null,
   "metadata": {},
   "outputs": [],
   "source": [
    "filtered_points_park"
   ]
  },
  {
   "cell_type": "code",
   "execution_count": null,
   "metadata": {},
   "outputs": [],
   "source": [
    "from folium.plugins import MarkerCluster\n",
    "# Folium 지도 생성\n",
    "m = folium.Map(location=[36.522164, 127.414516], zoom_start=13, width='100%', height='100%')\n",
    "\n",
    "# 배경지도 타일 설정하기\n",
    "layer = \"Hybrid\"\n",
    "tileType = \"png\"\n",
    "tiles = f\"http://api.vworld.kr/req/wmts/1.0.0/{vworld_key}/{layer}/{{z}}/{{y}}/{{x}}.{tileType}\"\n",
    "attr = \"Vworld\"\n",
    "\n",
    "folium.TileLayer(\n",
    "    tiles=tiles,\n",
    "    attr=attr,\n",
    "    overlay=True,\n",
    "    control=True\n",
    ").add_to(m)\n",
    "\n",
    "# GeoJSON 데이터를 지도에 추가\n",
    "for index, row in filtered_points_park.iterrows():\n",
    "    marker = folium.CircleMarker(\n",
    "        location=[row['lat'], row['lon']],\n",
    "        radius=5,\n",
    "        fill=True,\n",
    "    )\n",
    "    marker.add_to(m)\n",
    "\n",
    "# 지도 저장\n",
    "m"
   ]
  },
  {
   "attachments": {},
   "cell_type": "markdown",
   "metadata": {},
   "source": [
    "### 청주시 학교 현황"
   ]
  },
  {
   "cell_type": "code",
   "execution_count": null,
   "metadata": {},
   "outputs": [],
   "source": [
    "school_df = pd.read_csv('SBJ_2309_001/24.청주시_학교현황.csv')\n",
    "park_df"
   ]
  },
  {
   "cell_type": "code",
   "execution_count": null,
   "metadata": {},
   "outputs": [],
   "source": [
    "# 데이터프레임을 GeoPandas 데이터프레임으로 변환\n",
    "park_df = geo_transform(park_df)\n",
    "\n",
    "# crp_df에서 첫 번째 폴리곤 영역을 선택 = crp_df는 원도심 영역(도시재생 대상지역)\n",
    "polygon = crp_df['geometry'].iloc[0] # 또는 centroid_polygon_geometry\n",
    "\n",
    "# factory_df의 'geometry' 열을 사용하여 Point 객체를 필터링\n",
    "filtered_points_park = park_df[park_df['geometry'].within(polygon)].reset_index(drop=True)"
   ]
  },
  {
   "cell_type": "code",
   "execution_count": null,
   "metadata": {},
   "outputs": [],
   "source": [
    "filtered_points_park"
   ]
  },
  {
   "cell_type": "code",
   "execution_count": null,
   "metadata": {},
   "outputs": [],
   "source": [
    "from folium.plugins import MarkerCluster\n",
    "# Folium 지도 생성\n",
    "m = folium.Map(location=[36.522164, 127.414516], zoom_start=13, width='100%', height='100%')\n",
    "\n",
    "# 배경지도 타일 설정하기\n",
    "layer = \"Hybrid\"\n",
    "tileType = \"png\"\n",
    "tiles = f\"http://api.vworld.kr/req/wmts/1.0.0/{vworld_key}/{layer}/{{z}}/{{y}}/{{x}}.{tileType}\"\n",
    "attr = \"Vworld\"\n",
    "\n",
    "folium.TileLayer(\n",
    "    tiles=tiles,\n",
    "    attr=attr,\n",
    "    overlay=True,\n",
    "    control=True\n",
    ").add_to(m)\n",
    "\n",
    "# GeoJSON 데이터를 지도에 추가\n",
    "for index, row in filtered_points_park.iterrows():\n",
    "    marker = folium.CircleMarker(\n",
    "        location=[row['lat'], row['lon']],\n",
    "        radius=5,\n",
    "        fill=True,\n",
    "    )\n",
    "    marker.add_to(m)\n",
    "\n",
    "# 지도 저장\n",
    "m"
   ]
  },
  {
   "attachments": {},
   "cell_type": "markdown",
   "metadata": {},
   "source": [
    "### 청주시 공원 현황 (폴리곤 영역확장 고민해봐야 할듯)"
   ]
  },
  {
   "cell_type": "code",
   "execution_count": null,
   "metadata": {},
   "outputs": [],
   "source": [
    "park_df = pd.read_csv('SBJ_2309_001/8.청주시_공원현황.csv')\n",
    "park_df"
   ]
  },
  {
   "cell_type": "code",
   "execution_count": null,
   "metadata": {},
   "outputs": [],
   "source": [
    "# 데이터프레임을 GeoPandas 데이터프레임으로 변환\n",
    "park_df = geo_transform(park_df)\n",
    "\n",
    "# crp_df에서 첫 번째 폴리곤 영역을 선택 = crp_df는 원도심 영역(도시재생 대상지역)\n",
    "polygon = crp_df['geometry'].iloc[0] # 또는 centroid_polygon_geometry\n",
    "\n",
    "# factory_df의 'geometry' 열을 사용하여 Point 객체를 필터링\n",
    "filtered_points_park = park_df[park_df['geometry'].within(polygon)].reset_index(drop=True)"
   ]
  },
  {
   "cell_type": "code",
   "execution_count": null,
   "metadata": {},
   "outputs": [],
   "source": [
    "filtered_points_park"
   ]
  },
  {
   "cell_type": "code",
   "execution_count": null,
   "metadata": {},
   "outputs": [],
   "source": [
    "from folium.plugins import MarkerCluster\n",
    "# Folium 지도 생성\n",
    "m = folium.Map(location=[36.522164, 127.414516], zoom_start=13, width='100%', height='100%')\n",
    "\n",
    "# 배경지도 타일 설정하기\n",
    "layer = \"Hybrid\"\n",
    "tileType = \"png\"\n",
    "tiles = f\"http://api.vworld.kr/req/wmts/1.0.0/{vworld_key}/{layer}/{{z}}/{{y}}/{{x}}.{tileType}\"\n",
    "attr = \"Vworld\"\n",
    "\n",
    "folium.TileLayer(\n",
    "    tiles=tiles,\n",
    "    attr=attr,\n",
    "    overlay=True,\n",
    "    control=True\n",
    ").add_to(m)\n",
    "\n",
    "# GeoJSON 데이터를 지도에 추가\n",
    "for index, row in filtered_points_park.iterrows():\n",
    "    marker = folium.CircleMarker(\n",
    "        location=[row['lat'], row['lon']],\n",
    "        radius=5,\n",
    "        fill=True,\n",
    "    )\n",
    "    marker.add_to(m)\n",
    "\n",
    "# 지도 저장\n",
    "m"
   ]
  },
  {
   "attachments": {},
   "cell_type": "markdown",
   "metadata": {},
   "source": [
    "### 청주시 공원 현황 (폴리곤 영역확장 고민해봐야 할듯)"
   ]
  },
  {
   "cell_type": "code",
   "execution_count": null,
   "metadata": {},
   "outputs": [],
   "source": [
    "park_df = pd.read_csv('SBJ_2309_001/8.청주시_공원현황.csv')\n",
    "park_df"
   ]
  },
  {
   "cell_type": "code",
   "execution_count": null,
   "metadata": {},
   "outputs": [],
   "source": [
    "# 데이터프레임을 GeoPandas 데이터프레임으로 변환\n",
    "park_df = geo_transform(park_df)\n",
    "\n",
    "# crp_df에서 첫 번째 폴리곤 영역을 선택 = crp_df는 원도심 영역(도시재생 대상지역)\n",
    "polygon = crp_df['geometry'].iloc[0] # 또는 centroid_polygon_geometry\n",
    "\n",
    "# factory_df의 'geometry' 열을 사용하여 Point 객체를 필터링\n",
    "filtered_points_park = park_df[park_df['geometry'].within(polygon)].reset_index(drop=True)"
   ]
  },
  {
   "cell_type": "code",
   "execution_count": null,
   "metadata": {},
   "outputs": [],
   "source": [
    "filtered_points_park"
   ]
  },
  {
   "cell_type": "code",
   "execution_count": null,
   "metadata": {},
   "outputs": [],
   "source": [
    "from folium.plugins import MarkerCluster\n",
    "# Folium 지도 생성\n",
    "m = folium.Map(location=[36.522164, 127.414516], zoom_start=13, width='100%', height='100%')\n",
    "\n",
    "# 배경지도 타일 설정하기\n",
    "layer = \"Hybrid\"\n",
    "tileType = \"png\"\n",
    "tiles = f\"http://api.vworld.kr/req/wmts/1.0.0/{vworld_key}/{layer}/{{z}}/{{y}}/{{x}}.{tileType}\"\n",
    "attr = \"Vworld\"\n",
    "\n",
    "folium.TileLayer(\n",
    "    tiles=tiles,\n",
    "    attr=attr,\n",
    "    overlay=True,\n",
    "    control=True\n",
    ").add_to(m)\n",
    "\n",
    "# GeoJSON 데이터를 지도에 추가\n",
    "for index, row in filtered_points_park.iterrows():\n",
    "    marker = folium.CircleMarker(\n",
    "        location=[row['lat'], row['lon']],\n",
    "        radius=5,\n",
    "        fill=True,\n",
    "    )\n",
    "    marker.add_to(m)\n",
    "\n",
    "# 지도 저장\n",
    "m"
   ]
  },
  {
   "attachments": {},
   "cell_type": "markdown",
   "metadata": {},
   "source": [
    "### 청주시 공원 현황 (폴리곤 영역확장 고민해봐야 할듯)"
   ]
  },
  {
   "cell_type": "code",
   "execution_count": null,
   "metadata": {},
   "outputs": [],
   "source": [
    "park_df = pd.read_csv('SBJ_2309_001/8.청주시_공원현황.csv')\n",
    "park_df"
   ]
  },
  {
   "cell_type": "code",
   "execution_count": null,
   "metadata": {},
   "outputs": [],
   "source": [
    "# 데이터프레임을 GeoPandas 데이터프레임으로 변환\n",
    "park_df = geo_transform(park_df)\n",
    "\n",
    "# crp_df에서 첫 번째 폴리곤 영역을 선택 = crp_df는 원도심 영역(도시재생 대상지역)\n",
    "polygon = crp_df['geometry'].iloc[0] # 또는 centroid_polygon_geometry\n",
    "\n",
    "# factory_df의 'geometry' 열을 사용하여 Point 객체를 필터링\n",
    "filtered_points_park = park_df[park_df['geometry'].within(polygon)].reset_index(drop=True)"
   ]
  },
  {
   "cell_type": "code",
   "execution_count": null,
   "metadata": {},
   "outputs": [],
   "source": [
    "filtered_points_park"
   ]
  },
  {
   "cell_type": "code",
   "execution_count": null,
   "metadata": {},
   "outputs": [],
   "source": [
    "from folium.plugins import MarkerCluster\n",
    "# Folium 지도 생성\n",
    "m = folium.Map(location=[36.522164, 127.414516], zoom_start=13, width='100%', height='100%')\n",
    "\n",
    "# 배경지도 타일 설정하기\n",
    "layer = \"Hybrid\"\n",
    "tileType = \"png\"\n",
    "tiles = f\"http://api.vworld.kr/req/wmts/1.0.0/{vworld_key}/{layer}/{{z}}/{{y}}/{{x}}.{tileType}\"\n",
    "attr = \"Vworld\"\n",
    "\n",
    "folium.TileLayer(\n",
    "    tiles=tiles,\n",
    "    attr=attr,\n",
    "    overlay=True,\n",
    "    control=True\n",
    ").add_to(m)\n",
    "\n",
    "# GeoJSON 데이터를 지도에 추가\n",
    "for index, row in filtered_points_park.iterrows():\n",
    "    marker = folium.CircleMarker(\n",
    "        location=[row['lat'], row['lon']],\n",
    "        radius=5,\n",
    "        fill=True,\n",
    "    )\n",
    "    marker.add_to(m)\n",
    "\n",
    "# 지도 저장\n",
    "m"
   ]
  },
  {
   "attachments": {},
   "cell_type": "markdown",
   "metadata": {},
   "source": [
    "### 도시공원 현황"
   ]
  },
  {
   "cell_type": "code",
   "execution_count": null,
   "metadata": {},
   "outputs": [],
   "source": [
    "park_df = pd.read_csv('dataset/4.안산시_도시공원현황.csv')\n",
    "park_df"
   ]
  },
  {
   "cell_type": "code",
   "execution_count": null,
   "metadata": {},
   "outputs": [],
   "source": [
    "def geo_transform(DataFrame) :\n",
    "    # csv to geopandas\n",
    "    # lon, lat data를 geometry로 변경\n",
    "    DataFrame['lat'] = DataFrame['lat'].astype(float)\n",
    "    DataFrame['lon'] = DataFrame['lon'].astype(float)\n",
    "    DataFrame['geometry'] = DataFrame.apply(lambda row : Point([row['lon'], row['lat']]), axis=1)\n",
    "    DataFrame = gpd.GeoDataFrame(DataFrame, geometry='geometry')\n",
    "    DataFrame.crs = {'init':'epsg:4326'}\n",
    "    DataFrame = DataFrame.to_crs({'init':'epsg:4326'}) # 좌표계 epsg : 4326\n",
    "    return DataFrame"
   ]
  },
  {
   "cell_type": "code",
   "execution_count": null,
   "metadata": {},
   "outputs": [],
   "source": [
    "park_df = geo_transform(park_df)\n",
    "park_df"
   ]
  },
  {
   "cell_type": "code",
   "execution_count": null,
   "metadata": {},
   "outputs": [],
   "source": [
    "# map 생성\n",
    "m = folium.Map(location=[37.291292, 126.874151],  zoom_start=11, tiles='CartoDB positron')\n",
    "\n",
    "# 배경지도 타일 설정하기\n",
    "layer = \"Hybrid\"\n",
    "tileType = \"png\"\n",
    "tiles = f\"http://api.vworld.kr/req/wmts/1.0.0/{vworld_key}/{layer}/{{z}}/{{y}}/{{x}}.{tileType}\"\n",
    "attr = \"Vworld\"\n",
    "\n",
    "folium.TileLayer(\n",
    "    tiles=tiles,\n",
    "    attr=attr,\n",
    "    overlay=True,\n",
    "    control=True\n",
    ").add_to(m)\n",
    "\n",
    "# area를 통해 radius를 계산하는 함수\n",
    "def calculate_radius_from_area(area):\n",
    "    radius = math.sqrt(area / math.pi)\n",
    "    return radius\n",
    "\n",
    "for _, row in park_df.iterrows() :\n",
    "    radius = calculate_radius_from_area(row['area'])  # 면적(m^2)을 원으로 가정하여 radius계산\n",
    "    folium.Circle(location=(row['lat'], row['lon']), radius=radius, color='#FF580B',\n",
    "            fill='#FF580B').add_to(m)\n",
    "    \n",
    "m.save('park_area_radius.html')"
   ]
  },
  {
   "attachments": {},
   "cell_type": "markdown",
   "metadata": {},
   "source": [
    "### 하천현황"
   ]
  },
  {
   "cell_type": "code",
   "execution_count": null,
   "metadata": {},
   "outputs": [],
   "source": [
    "# GeoJSON 파일 불러오기\n",
    "with open('dataset/5.안산시_하천현황.geojson', 'r') as geojson_file:\n",
    "    geojson_data = json.load(geojson_file)\n",
    "river_df = pd.json_normalize(geojson_data['features'])\n",
    "river_df"
   ]
  },
  {
   "cell_type": "code",
   "execution_count": null,
   "metadata": {},
   "outputs": [],
   "source": [
    "river_df['geometry'] = river_df['geometry.coordinates'].apply(lambda x : Polygon(x[0][0]))\n",
    "river_df"
   ]
  },
  {
   "cell_type": "code",
   "execution_count": null,
   "metadata": {},
   "outputs": [],
   "source": [
    "# 지도의 중심 좌표 설정\n",
    "m = folium.Map(location=[37.37105949652944, 126.88130200939035], zoom_start=12)\n",
    "\n",
    "# GeoDataFrame을 순회하면서 Polygon을 지도에 추가\n",
    "for idx, row in river_df.iterrows():\n",
    "    folium.GeoJson(row['geometry'].__geo_interface__).add_to(m)\n",
    "    \n",
    "m.save('river_area.html')"
   ]
  },
  {
   "attachments": {},
   "cell_type": "markdown",
   "metadata": {},
   "source": [
    "### 토지피복현황도"
   ]
  },
  {
   "cell_type": "code",
   "execution_count": null,
   "metadata": {},
   "outputs": [],
   "source": [
    "# GeoJSON 파일 불러오기\n",
    "with open('dataset/6.안산시_토지피복현황도.geojson', 'r') as geojson_file:\n",
    "    geojson_data = json.load(geojson_file)\n",
    "land_cover_df = pd.json_normalize(geojson_data['features'])\n",
    "land_cover_df['geometry'] = land_cover_df['geometry.coordinates'].apply(lambda x : Polygon(x[0][0]))\n",
    "land_cover_df['properties.피복-대분류'] = land_cover_df['properties.피복-대분류'].apply(lambda x : x.split('. ')[1])\n",
    "land_cover_df['properties.피복-중분류'] = land_cover_df['properties.피복-중분류'].apply(lambda x : x.split('. ')[1])\n",
    "land_cover_df['properties.피복-소분류'] = land_cover_df['properties.피복-소분류'].apply(lambda x : x.split('. ')[1])\n",
    "land_cover_df"
   ]
  },
  {
   "cell_type": "code",
   "execution_count": null,
   "metadata": {},
   "outputs": [],
   "source": [
    "# 열 'properties.피복-대분류' 값을 기준으로 다른 색상을 매핑하는 함수 생성\n",
    "def get_color(feature):\n",
    "    category = feature['properties.피복-대분류']\n",
    "    if category == '불투수':\n",
    "        return 'darkred'\n",
    "    elif category == '투수':\n",
    "        return 'yellow'\n",
    "    elif category == '녹지':\n",
    "        return 'darkgreen'\n",
    "    else:\n",
    "        return 'darkblue'\n",
    "\n",
    "# 지도의 중심 좌표 설정\n",
    "m = folium.Map(location=[37.37105949652944, 126.88130200939035], zoom_start=12)\n",
    "\n",
    "# GeoDataFrame을 순회하면서 Polygon을 지도에 추가\n",
    "for idx, row in land_cover_df.iterrows():\n",
    "    color = get_color(row)\n",
    "    popup_text = f\"{row['properties.피복-소분류']}({row['properties.피복-대분류']} - {row['properties.피복-중분류']})\"\n",
    "    folium.GeoJson(\n",
    "        row['geometry'].__geo_interface__,\n",
    "        style_function=lambda feature, color=color: {'fillColor': color, 'color': 'black', 'weight': 0.3}\n",
    "    ).add_to(m).add_child(folium.Popup(popup_text, max_width=200))  # 팝업 메시지 추가\n",
    "    \n",
    "m.save('land_cover.html')"
   ]
  },
  {
   "attachments": {},
   "cell_type": "markdown",
   "metadata": {},
   "source": [
    "### 현존 식생도"
   ]
  },
  {
   "cell_type": "code",
   "execution_count": null,
   "metadata": {},
   "outputs": [],
   "source": [
    "# GeoJSON 파일 불러오기\n",
    "with open('dataset/7.안산시_현존식생도.geojson') as geojson_file:\n",
    "    geojson_data = json.load(geojson_file)\n",
    "vegetation_map_df = pd.json_normalize(geojson_data['features'])\n",
    "vegetation_map_df['geometry'] = vegetation_map_df['geometry.coordinates'].apply(lambda x : Polygon(x[0][0]))\n",
    "vegetation_map_df['properties.현존식생유형_소분류'] = vegetation_map_df['properties.현존식생유형_소분류'].apply(lambda x : x.split('. ')[1])\n",
    "vegetation_map_df"
   ]
  },
  {
   "cell_type": "code",
   "execution_count": null,
   "metadata": {},
   "outputs": [],
   "source": [
    "# 열 'properties.피복-대분류' 값을 기준으로 다른 색상을 매핑하는 함수 생성\n",
    "def get_color(feature):\n",
    "    category = feature['properties.현존식생유형_구분']\n",
    "    if category == '비식생':\n",
    "        return 'darkred'\n",
    "    else:\n",
    "        return 'darkgreen'\n",
    "\n",
    "# 지도의 중심 좌표 설정\n",
    "m = folium.Map(location=[37.37105949652944, 126.88130200939035], zoom_start=12)\n",
    "\n",
    "# GeoDataFrame을 순회하면서 Polygon을 지도에 추가\n",
    "for idx, row in vegetation_map_df.iterrows():\n",
    "    color = get_color(row)\n",
    "    popup_text = f\"{row['properties.현존식생유형_구분']}(properties.현존식생유형_소분류)\"\n",
    "    folium.GeoJson(\n",
    "        row['geometry'].__geo_interface__,\n",
    "        style_function=lambda feature, color=color: {'fillColor': color, 'color': 'black', 'weight': 0.5}\n",
    "    ).add_to(m).add_child(folium.Popup(popup_text, max_width=200))  # 팝업 메시지 추가\n",
    "    \n",
    "m.save('vegetation_map.html')"
   ]
  },
  {
   "attachments": {},
   "cell_type": "markdown",
   "metadata": {},
   "source": [
    "### 연속지적도"
   ]
  },
  {
   "cell_type": "code",
   "execution_count": null,
   "metadata": {},
   "outputs": [],
   "source": [
    "# GeoJSON 파일 불러오기\n",
    "with open('dataset/8.안산시_연속지적도.geojson') as geojson_file:\n",
    "    geojson_data = json.load(geojson_file)\n",
    "registration_map_df = pd.json_normalize(geojson_data['features'])\n",
    "registration_map_df['geometry'] = registration_map_df['geometry.coordinates'].apply(lambda x : make_geo(x))\n",
    "registration_map_df"
   ]
  },
  {
   "cell_type": "code",
   "execution_count": null,
   "metadata": {},
   "outputs": [],
   "source": [
    "# 지도의 중심 좌표 설정\n",
    "m = folium.Map(location=[37.37105949652944, 126.88130200939035], zoom_start=12)\n",
    "\n",
    "# GeoDataFrame을 순회하면서 Polygon을 지도에 추가\n",
    "for idx, row in registration_map_df.iterrows():\n",
    "    color = 'blue'\n",
    "    popup_text = f\"{row['properties.jibun']}(properties.pnu)\"\n",
    "    folium.GeoJson(\n",
    "        row['geometry'].__geo_interface__,\n",
    "        style_function=lambda feature, color=color: {'fillColor': color, 'color': 'black', 'weight': 0.3}\n",
    "    ).add_to(m).add_child(folium.Popup(popup_text, max_width=200))  # 팝업 메시지 추가\n",
    "    \n",
    "m.save('registration_map.html')"
   ]
  },
  {
   "attachments": {},
   "cell_type": "markdown",
   "metadata": {},
   "source": [
    "### 토지이용현황도"
   ]
  },
  {
   "cell_type": "code",
   "execution_count": null,
   "metadata": {},
   "outputs": [],
   "source": [
    "# GeoJSON 파일 불러오기\n",
    "with open('dataset/9.안산시_토지이용현황도.geojson') as geojson_file:\n",
    "    geojson_data = json.load(geojson_file)\n",
    "land_use_df = pd.json_normalize(geojson_data['features'])\n",
    "land_use_df['geometry'] = land_use_df['geometry.coordinates'].apply(lambda x : Polygon(x[0][0]))\n",
    "land_use_df['properties.이용현황-대분류'] = land_use_df['properties.이용현황-대분류'].apply(lambda x : x.split('. ')[1])\n",
    "land_use_df['properties.이용현황-중분류'] = land_use_df['properties.이용현황-중분류'].apply(lambda x : x.split('. ')[1])\n",
    "land_use_df['properties.이용현황-소분류'] = land_use_df['properties.이용현황-소분류'].apply(lambda x : x.split('. ')[1])\n",
    "land_use_df"
   ]
  },
  {
   "cell_type": "code",
   "execution_count": null,
   "metadata": {},
   "outputs": [],
   "source": [
    "# 열 'properties.피복-대분류' 값을 기준으로 다른 색상을 매핑하는 함수 생성\n",
    "def get_color(feature):\n",
    "    category = feature['properties.이용현황-대분류']\n",
    "    if category == '산림지역':\n",
    "        return 'darkgreen'\n",
    "    elif category == '초지':\n",
    "        return 'green'\n",
    "    elif category == '나지':\n",
    "        return 'yellow'\n",
    "    elif category == '시가화 건조지역':\n",
    "        return 'darkred'\n",
    "    elif category == '농업지역':\n",
    "        return 'green'\n",
    "    else:\n",
    "        return 'darkblue'\n",
    "\n",
    "# 지도의 중심 좌표 설정\n",
    "m = folium.Map(location=[37.37105949652944, 126.88130200939035], zoom_start=12)\n",
    "\n",
    "# GeoDataFrame을 순회하면서 Polygon을 지도에 추가\n",
    "for idx, row in land_use_df.iterrows():\n",
    "    color = get_color(row)\n",
    "    popup_text = f\"{row['properties.이용현황-소분류']}({row['properties.이용현황-대분류']} - {row['properties.이용현황-중분류']})\"\n",
    "    folium.GeoJson(\n",
    "        row['geometry'].__geo_interface__,\n",
    "        style_function=lambda feature, color=color: {'fillColor': color, 'color': 'black', 'weight': 0.5}\n",
    "    ).add_to(m).add_child(folium.Popup(popup_text, max_width=200))  # 팝업 메시지 추가\n",
    "    \n",
    "m.save('land_use.html')"
   ]
  },
  {
   "attachments": {},
   "cell_type": "markdown",
   "metadata": {},
   "source": [
    "### 건물일반공간정보"
   ]
  },
  {
   "cell_type": "code",
   "execution_count": null,
   "metadata": {},
   "outputs": [],
   "source": [
    "# GeoJSON 파일 불러오기\n",
    "with open('dataset/10.안산시_GIS건물일반공간정보_.geojson') as geojson_file:\n",
    "    geojson_data = json.load(geojson_file)\n",
    "building_df = pd.json_normalize(geojson_data['features'])\n",
    "building_df"
   ]
  },
  {
   "attachments": {},
   "cell_type": "markdown",
   "metadata": {},
   "source": [
    "### 도로명주소"
   ]
  },
  {
   "cell_type": "code",
   "execution_count": null,
   "metadata": {},
   "outputs": [],
   "source": [
    "# GeoJSON 파일 불러오기\n",
    "with open('dataset/11.안산시_도로명주소(도로).geojson') as geojson_file:\n",
    "    geojson_data = json.load(geojson_file)\n",
    "roadname_df = pd.json_normalize(geojson_data['features'])\n",
    "roadname_df"
   ]
  },
  {
   "attachments": {},
   "cell_type": "markdown",
   "metadata": {},
   "source": [
    "### 실폭도로"
   ]
  },
  {
   "cell_type": "code",
   "execution_count": null,
   "metadata": {},
   "outputs": [],
   "source": [
    "# GeoJSON 파일 불러오기\n",
    "with open('dataset/12.안산시_실폭도로.geojson') as geojson_file:\n",
    "    geojson_data = json.load(geojson_file)\n",
    "real_road_df = pd.json_normalize(geojson_data['features'])\n",
    "real_road_df['geometry'] = real_road_df['geometry.coordinates'].apply(lambda x : make_geo(x))\n",
    "real_road_df"
   ]
  },
  {
   "cell_type": "code",
   "execution_count": null,
   "metadata": {},
   "outputs": [],
   "source": [
    "# 지도의 중심 좌표 설정\n",
    "m = folium.Map(location=[37.37105949652944, 126.88130200939035], zoom_start=12)\n",
    "\n",
    "# GeoDataFrame을 순회하면서 Polygon을 지도에 추가\n",
    "for idx, row in real_road_df.iterrows():\n",
    "    popup_text = f\"{row['properties.RW_SN']}\"\n",
    "    folium.GeoJson(\n",
    "        row['geometry'].__geo_interface__,\n",
    "        style_function=lambda feature, color='black': {'fillColor': 'black', 'color': 'black', 'weight': 0.5}\n",
    "    ).add_to(m).add_child(folium.Popup(popup_text, max_width=100))  # 팝업 메시지 추가\n",
    "    \n",
    "m.save('real_road_map.html')"
   ]
  },
  {
   "attachments": {},
   "cell_type": "markdown",
   "metadata": {},
   "source": [
    "### 거주인구"
   ]
  },
  {
   "cell_type": "code",
   "execution_count": null,
   "metadata": {},
   "outputs": [],
   "source": [
    "population_df = pd.read_csv('dataset/14.안산시_거주인구.csv')\n",
    "# 'total_pop' 열의 NaN 값을 0으로 치환\n",
    "population_df['total_pop'].fillna(0, inplace=True)\n",
    "# 'total_pop' 열을 int로 변환\n",
    "population_df['total_pop'] = population_df['total_pop'].astype(int)\n",
    "population_df"
   ]
  },
  {
   "cell_type": "code",
   "execution_count": null,
   "metadata": {},
   "outputs": [],
   "source": [
    "# grid_map_df와 filtered_population_df를 'gid' 열을 기준으로 병합합니다.\n",
    "merged_df = grid_map_df.merge(population_df, left_on='properties.gid', right_on='gid', how='left')\n",
    "merged_df"
   ]
  },
  {
   "attachments": {},
   "cell_type": "markdown",
   "metadata": {},
   "source": [
    "### 유동인구 관련"
   ]
  },
  {
   "cell_type": "code",
   "execution_count": null,
   "metadata": {},
   "outputs": [],
   "source": [
    "pd.read_csv('dataset/15.안산시_성연령별_유동인구.csv')"
   ]
  },
  {
   "cell_type": "code",
   "execution_count": null,
   "metadata": {},
   "outputs": [],
   "source": [
    "pd.read_csv('dataset/16.안산시_시간대별_유동인구.csv')"
   ]
  },
  {
   "cell_type": "code",
   "execution_count": null,
   "metadata": {},
   "outputs": [],
   "source": [
    "pd.read_csv('dataset/17.안산시_요일별_유동인구.csv') # 50M 단위의 셀로 추정한 해당 월의 일 평균 추정 데이터(명)"
   ]
  },
  {
   "attachments": {},
   "cell_type": "markdown",
   "metadata": {},
   "source": [
    "### 대기질 관련"
   ]
  },
  {
   "cell_type": "code",
   "execution_count": null,
   "metadata": {},
   "outputs": [],
   "source": [
    "# 사용자 정의 함수: 문자열 열을 그대로 반환하는 함수\n",
    "def keep_string(column):\n",
    "    return column.iloc[0]  # 첫 번째 값을 반환합니다."
   ]
  },
  {
   "cell_type": "code",
   "execution_count": null,
   "metadata": {},
   "outputs": [],
   "source": [
    "air_quality_df = pd.read_csv('dataset/18.안산시_대기질측정이력.csv')\n",
    "\n",
    "# 'MESURE_DAY_TM' 열을 datetime 형식으로 파싱\n",
    "air_quality_df['MESURE_DAY_TM'] = pd.to_datetime(air_quality_df['MESURE_DAY_TM'])\n",
    "\n",
    "def airdf_deviding(dataframe):\n",
    "    # 날짜를 기준으로 그룹화하고 각 그룹에 대한 측정값을 평균내어 새로운 데이터프레임을 생성\n",
    "    # .dt.date(datetime accessor)는 datetime 열에서 날짜 부분만 추출하는 역할\n",
    "    dataframe = dataframe.groupby(dataframe['MESURE_DAY_TM'].dt.date).agg({'MESURSTN_NM': keep_string, 'MESRNW_NM':keep_string, 'SUA_GAS_DNST_VL': 'mean', 'COMNXD_DNST_VL': 'mean', 'OZONE_DNST_VL': 'mean', 'NO2_DNST_VL': 'mean', 'FINEDUST_PM10_DNST_VL': 'mean', 'FINEDUST_PM2_5_DNST_VL': 'mean'}).reset_index()\n",
    "    return dataframe\n",
    "\n",
    "air_quality_df_원시동 = airdf_deviding(air_quality_df[air_quality_df['MESURSTN_NM'] == '원시동'])\n",
    "air_quality_df_본오동 = airdf_deviding(air_quality_df[air_quality_df['MESURSTN_NM'] == '본오동'])\n",
    "air_quality_df_원곡동 = airdf_deviding(air_quality_df[air_quality_df['MESURSTN_NM'] == '원곡동'])\n",
    "air_quality_df_부곡동1 = airdf_deviding(air_quality_df[air_quality_df['MESURSTN_NM'] == '부곡동1'])\n",
    "air_quality_df_호수동 = airdf_deviding(air_quality_df[air_quality_df['MESURSTN_NM'] == '호수동'])\n",
    "air_quality_df_고잔동 = airdf_deviding(air_quality_df[air_quality_df['MESURSTN_NM'] == '고잔동'])\n",
    "air_quality_df_고잔중앙대로 = airdf_deviding(air_quality_df[air_quality_df['MESURSTN_NM'] == '중앙대로(고잔동)'])"
   ]
  },
  {
   "cell_type": "code",
   "execution_count": null,
   "metadata": {},
   "outputs": [],
   "source": [
    "air_quality_df_원시동"
   ]
  },
  {
   "cell_type": "code",
   "execution_count": null,
   "metadata": {},
   "outputs": [],
   "source": [
    "# Plotly Express를 사용하여 시계열 그래프를 그립니다.\n",
    "fig = px.line(air_quality_df_원시동, x='MESURE_DAY_TM', y=['SUA_GAS_DNST_VL', 'COMNXD_DNST_VL', 'OZONE_DNST_VL', 'NO2_DNST_VL'], title='날짜별 측정값의 평균 시계열')\n",
    "fig.update_xaxes(title_text='일자')\n",
    "fig.update_yaxes(title_text='평균 측정값')\n",
    "\n",
    "# 그래프를 표시합니다.\n",
    "fig.show()"
   ]
  },
  {
   "cell_type": "code",
   "execution_count": null,
   "metadata": {},
   "outputs": [],
   "source": [
    "air_spot_df = pd.read_csv('dataset/19.안산시_대기질측정소현황.csv')\n",
    "air_spot_df"
   ]
  },
  {
   "cell_type": "code",
   "execution_count": null,
   "metadata": {},
   "outputs": [],
   "source": [
    "def geo_transform(DataFrame) :\n",
    "    # csv to geopandas\n",
    "    # lon, lat data를 geometry로 변경\n",
    "    DataFrame['lat'] = DataFrame['lat'].astype(float)\n",
    "    DataFrame['lon'] = DataFrame['lon'].astype(float)\n",
    "    DataFrame['geometry'] = DataFrame.apply(lambda row : Point([row['lon'], row['lat']]), axis=1)\n",
    "    DataFrame = gpd.GeoDataFrame(DataFrame, geometry='geometry')\n",
    "    DataFrame.crs = {'init':'epsg:4326'}\n",
    "    DataFrame = DataFrame.to_crs({'init':'epsg:4326'}) # 좌표계 epsg : 4326\n",
    "    return DataFrame"
   ]
  },
  {
   "cell_type": "code",
   "execution_count": null,
   "metadata": {},
   "outputs": [],
   "source": [
    "air_spot_df = geo_transform(air_spot_df)\n",
    "\n",
    "# map 생성\n",
    "m = folium.Map(location=[np.mean(air_spot_df['lat'].tolist()), np.mean(air_spot_df['lon'].tolist())],  zoom_start=11, tiles='CartoDB positron')\n",
    "\n",
    "for _, row in air_spot_df.iterrows() :\n",
    "    folium.Circle(location=(row['lat'], row['lon']), popup=row['MESURSTN_NM'], radius=2000, color='#FF580B',\n",
    "            fill='#FF580B').add_to(m)\n",
    "    \n",
    "m # 지도 표현"
   ]
  }
 ],
 "metadata": {
  "kernelspec": {
   "display_name": "Python 3",
   "language": "python",
   "name": "python3"
  },
  "language_info": {
   "codemirror_mode": {
    "name": "ipython",
    "version": 3
   },
   "file_extension": ".py",
   "mimetype": "text/x-python",
   "name": "python",
   "nbconvert_exporter": "python",
   "pygments_lexer": "ipython3",
   "version": "3.8.16"
  },
  "orig_nbformat": 4
 },
 "nbformat": 4,
 "nbformat_minor": 2
}
