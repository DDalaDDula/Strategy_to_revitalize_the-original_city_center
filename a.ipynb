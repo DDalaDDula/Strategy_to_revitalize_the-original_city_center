{
 "cells": [
  {
   "cell_type": "code",
   "execution_count": 3,
   "metadata": {},
   "outputs": [],
   "source": [
    "import pandas as pd\n",
    "import numpy as np\n",
    "import plotly.express as px\n",
    "import plotly.graph_objects as go\n",
    "from plotly.subplots import make_subplots\n",
    "import folium\n",
    "from folium import plugins\n",
    "from folium import FeatureGroup\n",
    "from config import vworld_key\n",
    "import json\n",
    "import math\n",
    "import re\n",
    "from datetime import datetime\n",
    "import os\n",
    "import glob\n",
    "import subprocess\n",
    "from bs4 import BeautifulSoup as bs\n",
    "from shapely.geometry import Point, Polygon, LineString\n",
    "import geopandas as gpd\n",
    "from geopandas import GeoSeries\n",
    "import pyproj\n",
    "#from keplergl import KeplerGl\n",
    "\n",
    "# 모든 열이 생략되지 않도록 설정\n",
    "pd.set_option('display.max_columns', None)"
   ]
  },
  {
   "cell_type": "code",
   "execution_count": 4,
   "metadata": {},
   "outputs": [],
   "source": [
    "# 폴리곤을 만드는 함수\n",
    "def make_pol(x):\n",
    "    try:\n",
    "        return Polygon(x[0])\n",
    "    except:\n",
    "        return Polygon(x[0][0])"
   ]
  },
  {
   "cell_type": "code",
   "execution_count": 5,
   "metadata": {},
   "outputs": [],
   "source": [
    "# 라인스트링을 만드는 함수\n",
    "def make_lin(x):\n",
    "    try:\n",
    "        return LineString(x)\n",
    "    except:\n",
    "        return LineString(x[0])"
   ]
  },
  {
   "cell_type": "code",
   "execution_count": 6,
   "metadata": {},
   "outputs": [],
   "source": [
    "# 데이터프레임을 GeoPandas 데이터프레임으로 변환하는 함수 정의\n",
    "def geo_transform(DataFrame) :\n",
    "    # csv to geopandas\n",
    "    # lon, lat data를 geometry로 변경\n",
    "    DataFrame['lat'] = DataFrame['lat'].astype(float)\n",
    "    DataFrame['lon'] = DataFrame['lon'].astype(float)\n",
    "    DataFrame['geometry'] = DataFrame.apply(lambda row : Point([row['lon'], row['lat']]), axis=1) # 위도 및 경도롤 GeoPandas Point 객체로 변환\n",
    "    DataFrame = gpd.GeoDataFrame(DataFrame, geometry='geometry')\n",
    "    DataFrame.crs = {'init':'epsg:4326'} # geopandas 데이터프레임의 좌표계를 EPSG 4326으로 설정\n",
    "    DataFrame = DataFrame.to_crs({'init':'epsg:4326'}) # 데이터프레임의 좌표계를 자체 좌표계에서 EPSG 4326으로 변환\n",
    "    return DataFrame"
   ]
  },
  {
   "attachments": {},
   "cell_type": "markdown",
   "metadata": {},
   "source": [
    "### 청주시_도시재생계획구역"
   ]
  },
  {
   "cell_type": "code",
   "execution_count": 9,
   "metadata": {},
   "outputs": [
    {
     "data": {
      "text/html": [
       "<div>\n",
       "<style scoped>\n",
       "    .dataframe tbody tr th:only-of-type {\n",
       "        vertical-align: middle;\n",
       "    }\n",
       "\n",
       "    .dataframe tbody tr th {\n",
       "        vertical-align: top;\n",
       "    }\n",
       "\n",
       "    .dataframe thead th {\n",
       "        text-align: right;\n",
       "    }\n",
       "</style>\n",
       "<table border=\"1\" class=\"dataframe\">\n",
       "  <thead>\n",
       "    <tr style=\"text-align: right;\">\n",
       "      <th></th>\n",
       "      <th>type</th>\n",
       "      <th>properties.fid</th>\n",
       "      <th>properties.구역명</th>\n",
       "      <th>geometry.type</th>\n",
       "      <th>geometry.coordinates</th>\n",
       "      <th>geometry</th>\n",
       "      <th>centroid_polygon_geometry</th>\n",
       "    </tr>\n",
       "  </thead>\n",
       "  <tbody>\n",
       "    <tr>\n",
       "      <th>0</th>\n",
       "      <td>Feature</td>\n",
       "      <td>5</td>\n",
       "      <td>도시재생구역도</td>\n",
       "      <td>Polygon</td>\n",
       "      <td>[[[127.4833417, 36.6318644], [127.4833417, 36....</td>\n",
       "      <td>POLYGON ((127.4833417 36.6318644, 127.4833417 ...</td>\n",
       "      <td>POLYGON ((127.50347965416363 36.63603755594320...</td>\n",
       "    </tr>\n",
       "  </tbody>\n",
       "</table>\n",
       "</div>"
      ],
      "text/plain": [
       "      type  properties.fid properties.구역명 geometry.type  \\\n",
       "0  Feature               5        도시재생구역도       Polygon   \n",
       "\n",
       "                                geometry.coordinates  \\\n",
       "0  [[[127.4833417, 36.6318644], [127.4833417, 36....   \n",
       "\n",
       "                                            geometry  \\\n",
       "0  POLYGON ((127.4833417 36.6318644, 127.4833417 ...   \n",
       "\n",
       "                           centroid_polygon_geometry  \n",
       "0  POLYGON ((127.50347965416363 36.63603755594320...  "
      ]
     },
     "execution_count": 9,
     "metadata": {},
     "output_type": "execute_result"
    }
   ],
   "source": [
    "# GeoJSON 파일 불러오기\n",
    "with open('SBJ_2309_001/27.청주시_도시재생계획구역.geojson') as geojson_file:\n",
    "    geojson_data = json.load(geojson_file)\n",
    "crp_df = pd.json_normalize(geojson_data) # city_revitalize_planning_map_df\n",
    "crp_df['geometry'] = crp_df['geometry.coordinates'].apply(lambda x : make_pol(x))\n",
    "# crp_df에서 첫 번째 폴리곤 영역을 선택 = crp_df는 원도심 영역(도시재생 대상지역)\n",
    "\n",
    "# 폴리곤의 중점을 찾음\n",
    "centroid = crp_df['geometry'].iloc[0].centroid.buffer(0.015) # 1도의 위도 변화는 대략 111.32 킬로미터\n",
    "crp_df['centroid_polygon_geometry'] = [centroid]\n",
    "crp_df"
   ]
  },
  {
   "cell_type": "code",
   "execution_count": null,
   "metadata": {},
   "outputs": [],
   "source": [
    "# 지도의 중심 좌표 설정\n",
    "m = folium.Map(location=[36.60720970472786, 127.63641867895493], zoom_start=12)\n",
    "\n",
    "# GeoDataFrame을 순회하면서 Polygon을 지도에 추가\n",
    "for idx, row in crp_df.iterrows():\n",
    "    popup_text = f\"{row['properties.구역명']}\"\n",
    "    folium.GeoJson(\n",
    "        row['centroid_polygon_geometry'].__geo_interface__,\n",
    "        style_function=lambda feature, color='blue': {'fillColor': 'blue', 'color': 'black', 'weight': 0.1}\n",
    "    ).add_to(m).add_child(folium.Popup(popup_text, max_width=100))  # 팝업 메시지 추가\n",
    "    \n",
    "m"
   ]
  },
  {
   "attachments": {},
   "cell_type": "markdown",
   "metadata": {},
   "source": [
    "### 격자(매핑용)"
   ]
  },
  {
   "cell_type": "code",
   "execution_count": 11,
   "metadata": {},
   "outputs": [
    {
     "data": {
      "text/html": [
       "<div>\n",
       "<style scoped>\n",
       "    .dataframe tbody tr th:only-of-type {\n",
       "        vertical-align: middle;\n",
       "    }\n",
       "\n",
       "    .dataframe tbody tr th {\n",
       "        vertical-align: top;\n",
       "    }\n",
       "\n",
       "    .dataframe thead th {\n",
       "        text-align: right;\n",
       "    }\n",
       "</style>\n",
       "<table border=\"1\" class=\"dataframe\">\n",
       "  <thead>\n",
       "    <tr style=\"text-align: right;\">\n",
       "      <th></th>\n",
       "      <th>type</th>\n",
       "      <th>properties.gid</th>\n",
       "      <th>geometry.type</th>\n",
       "      <th>geometry.coordinates</th>\n",
       "      <th>geometry</th>\n",
       "    </tr>\n",
       "  </thead>\n",
       "  <tbody>\n",
       "    <tr>\n",
       "      <th>0</th>\n",
       "      <td>Feature</td>\n",
       "      <td>라바122456</td>\n",
       "      <td>Polygon</td>\n",
       "      <td>[[[127.63641867895493, 36.608165744671886], [1...</td>\n",
       "      <td>POLYGON ((127.63641867895493 36.60816574467188...</td>\n",
       "    </tr>\n",
       "    <tr>\n",
       "      <th>1</th>\n",
       "      <td>Feature</td>\n",
       "      <td>다바841455</td>\n",
       "      <td>Polygon</td>\n",
       "      <td>[[[127.32221067151384, 36.60720970472786], [12...</td>\n",
       "      <td>POLYGON ((127.32221067151384 36.60720970472786...</td>\n",
       "    </tr>\n",
       "    <tr>\n",
       "      <th>2</th>\n",
       "      <td>Feature</td>\n",
       "      <td>라바189471</td>\n",
       "      <td>Polygon</td>\n",
       "      <td>[[[127.71137365974974, 36.62157886605511], [12...</td>\n",
       "      <td>POLYGON ((127.71137365974974 36.62157886605511...</td>\n",
       "    </tr>\n",
       "    <tr>\n",
       "      <th>3</th>\n",
       "      <td>Feature</td>\n",
       "      <td>다바852482</td>\n",
       "      <td>Polygon</td>\n",
       "      <td>[[[127.33445848271631, 36.631567839444976], [1...</td>\n",
       "      <td>POLYGON ((127.33445848271631 36.63156783944497...</td>\n",
       "    </tr>\n",
       "    <tr>\n",
       "      <th>4</th>\n",
       "      <td>Feature</td>\n",
       "      <td>다바959488</td>\n",
       "      <td>Polygon</td>\n",
       "      <td>[[[127.45413724007568, 36.63708300728262], [12...</td>\n",
       "      <td>POLYGON ((127.45413724007568 36.63708300728262...</td>\n",
       "    </tr>\n",
       "    <tr>\n",
       "      <th>...</th>\n",
       "      <td>...</td>\n",
       "      <td>...</td>\n",
       "      <td>...</td>\n",
       "      <td>...</td>\n",
       "      <td>...</td>\n",
       "    </tr>\n",
       "    <tr>\n",
       "      <th>95251</th>\n",
       "      <td>Feature</td>\n",
       "      <td>다바868478</td>\n",
       "      <td>Polygon</td>\n",
       "      <td>[[[127.35236168440159, 36.62798537617458], [12...</td>\n",
       "      <td>POLYGON ((127.35236168440159 36.62798537617458...</td>\n",
       "    </tr>\n",
       "    <tr>\n",
       "      <th>95252</th>\n",
       "      <td>Feature</td>\n",
       "      <td>다바974324</td>\n",
       "      <td>Polygon</td>\n",
       "      <td>[[[127.47097166337947, 36.48924077421588], [12...</td>\n",
       "      <td>POLYGON ((127.47097166337947 36.48924077421588...</td>\n",
       "    </tr>\n",
       "    <tr>\n",
       "      <th>95253</th>\n",
       "      <td>Feature</td>\n",
       "      <td>라바151492</td>\n",
       "      <td>Polygon</td>\n",
       "      <td>[[[127.66891675313607, 36.640578073348856], [1...</td>\n",
       "      <td>POLYGON ((127.66891675313607 36.64057807334885...</td>\n",
       "    </tr>\n",
       "    <tr>\n",
       "      <th>95254</th>\n",
       "      <td>Feature</td>\n",
       "      <td>다바841537</td>\n",
       "      <td>Polygon</td>\n",
       "      <td>[[[127.3220406982908, 36.681132105366395], [12...</td>\n",
       "      <td>POLYGON ((127.3220406982908 36.681132105366395...</td>\n",
       "    </tr>\n",
       "    <tr>\n",
       "      <th>95255</th>\n",
       "      <td>Feature</td>\n",
       "      <td>라바026284</td>\n",
       "      <td>Polygon</td>\n",
       "      <td>[[[127.52901489351359, 36.45317984850046], [12...</td>\n",
       "      <td>POLYGON ((127.52901489351359 36.45317984850046...</td>\n",
       "    </tr>\n",
       "  </tbody>\n",
       "</table>\n",
       "<p>95256 rows × 5 columns</p>\n",
       "</div>"
      ],
      "text/plain": [
       "          type properties.gid geometry.type  \\\n",
       "0      Feature       라바122456       Polygon   \n",
       "1      Feature       다바841455       Polygon   \n",
       "2      Feature       라바189471       Polygon   \n",
       "3      Feature       다바852482       Polygon   \n",
       "4      Feature       다바959488       Polygon   \n",
       "...        ...            ...           ...   \n",
       "95251  Feature       다바868478       Polygon   \n",
       "95252  Feature       다바974324       Polygon   \n",
       "95253  Feature       라바151492       Polygon   \n",
       "95254  Feature       다바841537       Polygon   \n",
       "95255  Feature       라바026284       Polygon   \n",
       "\n",
       "                                    geometry.coordinates  \\\n",
       "0      [[[127.63641867895493, 36.608165744671886], [1...   \n",
       "1      [[[127.32221067151384, 36.60720970472786], [12...   \n",
       "2      [[[127.71137365974974, 36.62157886605511], [12...   \n",
       "3      [[[127.33445848271631, 36.631567839444976], [1...   \n",
       "4      [[[127.45413724007568, 36.63708300728262], [12...   \n",
       "...                                                  ...   \n",
       "95251  [[[127.35236168440159, 36.62798537617458], [12...   \n",
       "95252  [[[127.47097166337947, 36.48924077421588], [12...   \n",
       "95253  [[[127.66891675313607, 36.640578073348856], [1...   \n",
       "95254  [[[127.3220406982908, 36.681132105366395], [12...   \n",
       "95255  [[[127.52901489351359, 36.45317984850046], [12...   \n",
       "\n",
       "                                                geometry  \n",
       "0      POLYGON ((127.63641867895493 36.60816574467188...  \n",
       "1      POLYGON ((127.32221067151384 36.60720970472786...  \n",
       "2      POLYGON ((127.71137365974974 36.62157886605511...  \n",
       "3      POLYGON ((127.33445848271631 36.63156783944497...  \n",
       "4      POLYGON ((127.45413724007568 36.63708300728262...  \n",
       "...                                                  ...  \n",
       "95251  POLYGON ((127.35236168440159 36.62798537617458...  \n",
       "95252  POLYGON ((127.47097166337947 36.48924077421588...  \n",
       "95253  POLYGON ((127.66891675313607 36.64057807334885...  \n",
       "95254  POLYGON ((127.3220406982908 36.681132105366395...  \n",
       "95255  POLYGON ((127.52901489351359 36.45317984850046...  \n",
       "\n",
       "[95256 rows x 5 columns]"
      ]
     },
     "execution_count": 11,
     "metadata": {},
     "output_type": "execute_result"
    }
   ],
   "source": [
    "# GeoJSON 파일 불러오기\n",
    "with open('SBJ_2309_001/26.청주시_격자(매핑용).geojson') as geojson_file:\n",
    "    geojson_data = json.load(geojson_file)\n",
    "grid_map_df = pd.json_normalize(geojson_data['features'])\n",
    "grid_map_df['geometry'] = grid_map_df['geometry.coordinates'].apply(lambda x : make_pol(x))\n",
    "grid_map_df"
   ]
  },
  {
   "cell_type": "code",
   "execution_count": 12,
   "metadata": {},
   "outputs": [],
   "source": [
    "# crp_df에서 첫 번째 폴리곤 영역을 선택 = crp_df는 원도심 영역(도시재생 대상지역)\n",
    "polygon = crp_df['geometry'].iloc[0].centroid.buffer(0.01)\n",
    "\n",
    "# grid_map_df 데이터프레임을 GeoDataFrame으로 변환\n",
    "grid_map_df = gpd.GeoDataFrame(grid_map_df, geometry='geometry')\n",
    "#grid_map_df['geometry'] = GeoSeries(grid_map_df['geometry'])\n",
    "\n",
    "# factory_df의 'geometry' 열을 사용하여 Point 객체를 필터링\n",
    "filtered_grid = grid_map_df[grid_map_df['geometry'].within(polygon)].reset_index(drop=True)"
   ]
  },
  {
   "cell_type": "code",
   "execution_count": null,
   "metadata": {},
   "outputs": [],
   "source": [
    "# 지도의 중심 좌표 설정\n",
    "m = folium.Map(location=[36.60720970472786, 127.63641867895493], zoom_start=12)\n",
    "\n",
    "# GeoDataFrame을 순회하면서 Polygon을 지도에 추가\n",
    "for idx, row in filtered_grid.iterrows():\n",
    "    popup_text = f\"{row['properties.gid']}\"\n",
    "    folium.GeoJson(\n",
    "        row['geometry'].__geo_interface__,\n",
    "        style_function=lambda feature, color='black': {'fillColor': 'black', 'color': 'black', 'weight': 0.1}\n",
    "    ).add_to(m).add_child(folium.Popup(popup_text, max_width=100))  # 팝업 메시지 추가\n",
    "    \n",
    "m"
   ]
  },
  {
   "attachments": {},
   "cell_type": "markdown",
   "metadata": {},
   "source": [
    "### 거주인구 격자에 매핑"
   ]
  },
  {
   "cell_type": "code",
   "execution_count": null,
   "metadata": {},
   "outputs": [],
   "source": [
    "pd.read_csv('SBJ_2309_001/1.청주시_거주인구.csv')"
   ]
  },
  {
   "cell_type": "code",
   "execution_count": null,
   "metadata": {},
   "outputs": [],
   "source": [
    "pd.read_csv('SBJ_2309_001/2.청주시_성연령별_유동인구.csv')"
   ]
  },
  {
   "attachments": {},
   "cell_type": "markdown",
   "metadata": {},
   "source": [
    "### 청주시 폐공장현황"
   ]
  },
  {
   "cell_type": "code",
   "execution_count": null,
   "metadata": {},
   "outputs": [],
   "source": [
    "factory_df = pd.read_csv('SBJ_2309_001/9.청주시_폐공장현황.csv')\n",
    "factory_df"
   ]
  },
  {
   "cell_type": "code",
   "execution_count": 11,
   "metadata": {},
   "outputs": [
    {
     "name": "stderr",
     "output_type": "stream",
     "text": [
      "c:\\Users\\user\\anaconda3\\envs\\GIS\\lib\\site-packages\\pyproj\\crs\\crs.py:141: FutureWarning: '+init=<authority>:<code>' syntax is deprecated. '<authority>:<code>' is the preferred initialization method. When making the change, be mindful of axis order changes: https://pyproj4.github.io/pyproj/stable/gotchas.html#axis-order-changes-in-proj-6\n",
      "  in_crs_string = _prepare_from_proj_string(in_crs_string)\n",
      "c:\\Users\\user\\anaconda3\\envs\\GIS\\lib\\site-packages\\pyproj\\crs\\crs.py:141: FutureWarning: '+init=<authority>:<code>' syntax is deprecated. '<authority>:<code>' is the preferred initialization method. When making the change, be mindful of axis order changes: https://pyproj4.github.io/pyproj/stable/gotchas.html#axis-order-changes-in-proj-6\n",
      "  in_crs_string = _prepare_from_proj_string(in_crs_string)\n"
     ]
    }
   ],
   "source": [
    "# 데이터프레임을 GeoPandas 데이터프레임으로 변환\n",
    "factory_df = geo_transform(factory_df)\n",
    "\n",
    "# crp_df에서 첫 번째 폴리곤 영역을 선택 = crp_df는 원도심 영역(도시재생 대상지역)\n",
    "polygon = crp_df['geometry'].iloc[0]\n",
    "\n",
    "# factory_df의 'geometry' 열을 사용하여 Point 객체를 필터링\n",
    "filtered_points_factory = factory_df[factory_df['geometry'].within(polygon)]"
   ]
  },
  {
   "cell_type": "code",
   "execution_count": null,
   "metadata": {},
   "outputs": [],
   "source": [
    "from folium.plugins import MarkerCluster\n",
    "# Folium 지도 생성\n",
    "m = folium.Map(location=[36.627797, 127.511943], zoom_start=13, width='100%', height='100%')\n",
    "\n",
    "# 배경지도 타일 설정하기\n",
    "layer = \"Hybrid\"\n",
    "tileType = \"png\"\n",
    "tiles = f\"http://api.vworld.kr/req/wmts/1.0.0/{vworld_key}/{layer}/{{z}}/{{y}}/{{x}}.{tileType}\"\n",
    "attr = \"Vworld\"\n",
    "\n",
    "folium.TileLayer(\n",
    "    tiles=tiles,\n",
    "    attr=attr,\n",
    "    overlay=True,\n",
    "    control=True\n",
    ").add_to(m)\n",
    "\n",
    "# GeoJSON 데이터를 지도에 추가\n",
    "for index, row in filtered_points_factory.iterrows():\n",
    "    marker = folium.CircleMarker(\n",
    "        location=[row['geometry'].y, row['geometry'].x],\n",
    "        radius=5,\n",
    "        fill=True,\n",
    "    )\n",
    "    marker.add_to(m)\n",
    "\n",
    "# 지도 저장\n",
    "m"
   ]
  },
  {
   "attachments": {},
   "cell_type": "markdown",
   "metadata": {},
   "source": [
    "### 청주시 문화재 현황 (폴리곤 영역확장 변경으로 교통분석 후 문화재 필터링 해야할 듯)\n",
    "\n",
    "https://m.blog.naver.com/zukyun59/222997801975 - 역사문화전경 보존지역 관련 글"
   ]
  },
  {
   "cell_type": "code",
   "execution_count": 214,
   "metadata": {},
   "outputs": [],
   "source": [
    "culture_assets_df = pd.read_csv('SBJ_2309_001/5.청주시_유적지_문화재현황.csv')"
   ]
  },
  {
   "cell_type": "code",
   "execution_count": 210,
   "metadata": {},
   "outputs": [
    {
     "name": "stderr",
     "output_type": "stream",
     "text": [
      "c:\\Users\\user\\anaconda3\\envs\\GIS\\lib\\site-packages\\pyproj\\crs\\crs.py:141: FutureWarning:\n",
      "\n",
      "'+init=<authority>:<code>' syntax is deprecated. '<authority>:<code>' is the preferred initialization method. When making the change, be mindful of axis order changes: https://pyproj4.github.io/pyproj/stable/gotchas.html#axis-order-changes-in-proj-6\n",
      "\n",
      "c:\\Users\\user\\anaconda3\\envs\\GIS\\lib\\site-packages\\pyproj\\crs\\crs.py:141: FutureWarning:\n",
      "\n",
      "'+init=<authority>:<code>' syntax is deprecated. '<authority>:<code>' is the preferred initialization method. When making the change, be mindful of axis order changes: https://pyproj4.github.io/pyproj/stable/gotchas.html#axis-order-changes-in-proj-6\n",
      "\n"
     ]
    }
   ],
   "source": [
    "# 데이터프레임을 GeoPandas 데이터프레임으로 변환\n",
    "culture_assets_df = geo_transform(culture_assets_df)\n",
    "\n",
    "# crp_df에서 첫 번째 폴리곤 영역을 선택 = crp_df는 원도심 영역(도시재생 대상지역)\n",
    "polygon = crp_df['geometry'].iloc[0]\n",
    "\n",
    "# 폴리곤을 확장 (예: 0.1 도 또는 10 킬로미터 확장)\n",
    "expanded_polygon = polygon.buffer(0.015)  # 0.015은 확장할 크기. EPSG 4326 좌표계에서는 위도 및 경도가 0.015도씩 확장됨.(약 1.7km 나중에 변경 될 수 있음)\n",
    "\n",
    "# factory_df의 'geometry' 열을 사용하여 Point 객체를 필터링\n",
    "filtered_points_culture = culture_assets_df[culture_assets_df['geometry'].within(expanded_polygon)].reset_index(drop=True)"
   ]
  },
  {
   "cell_type": "code",
   "execution_count": 211,
   "metadata": {},
   "outputs": [
    {
     "data": {
      "text/html": [
       "<div>\n",
       "<style scoped>\n",
       "    .dataframe tbody tr th:only-of-type {\n",
       "        vertical-align: middle;\n",
       "    }\n",
       "\n",
       "    .dataframe tbody tr th {\n",
       "        vertical-align: top;\n",
       "    }\n",
       "\n",
       "    .dataframe thead th {\n",
       "        text-align: right;\n",
       "    }\n",
       "</style>\n",
       "<table border=\"1\" class=\"dataframe\">\n",
       "  <thead>\n",
       "    <tr style=\"text-align: right;\">\n",
       "      <th></th>\n",
       "      <th>gbn</th>\n",
       "      <th>clt_nm</th>\n",
       "      <th>addr</th>\n",
       "      <th>lon</th>\n",
       "      <th>lat</th>\n",
       "      <th>geometry</th>\n",
       "    </tr>\n",
       "  </thead>\n",
       "  <tbody>\n",
       "    <tr>\n",
       "      <th>0</th>\n",
       "      <td>국보</td>\n",
       "      <td>청주 용두사지 철당간</td>\n",
       "      <td>충청북도 청주시 상당구 남문로2가 48-19</td>\n",
       "      <td>127.489758</td>\n",
       "      <td>36.633095</td>\n",
       "      <td>POINT (127.48976 36.63309)</td>\n",
       "    </tr>\n",
       "    <tr>\n",
       "      <th>1</th>\n",
       "      <td>보물</td>\n",
       "      <td>청주 용화사 석조불상군</td>\n",
       "      <td>충청북도 청주시 서원구 사직동 216-1</td>\n",
       "      <td>127.482003</td>\n",
       "      <td>36.641779</td>\n",
       "      <td>POINT (127.48200 36.64178)</td>\n",
       "    </tr>\n",
       "    <tr>\n",
       "      <th>2</th>\n",
       "      <td>충북도 유형문화재</td>\n",
       "      <td>청주 충청도병마절도사영문</td>\n",
       "      <td>충청북도 청주시 상당구 남문로2가 92-6</td>\n",
       "      <td>127.488154</td>\n",
       "      <td>36.632669</td>\n",
       "      <td>POINT (127.48815 36.63267)</td>\n",
       "    </tr>\n",
       "    <tr>\n",
       "      <th>3</th>\n",
       "      <td>충북도 유형문화재</td>\n",
       "      <td>청주 탑동 오층석탑</td>\n",
       "      <td>충청북도 청주시 상당구 탑동 251</td>\n",
       "      <td>127.497987</td>\n",
       "      <td>36.629600</td>\n",
       "      <td>POINT (127.49799 36.62960)</td>\n",
       "    </tr>\n",
       "    <tr>\n",
       "      <th>4</th>\n",
       "      <td>충북도 유형문화재</td>\n",
       "      <td>청주향교</td>\n",
       "      <td>충청북도 청주시 상당구 대성동 68</td>\n",
       "      <td>127.498060</td>\n",
       "      <td>36.637203</td>\n",
       "      <td>POINT (127.49806 36.63720)</td>\n",
       "    </tr>\n",
       "    <tr>\n",
       "      <th>5</th>\n",
       "      <td>충북도 유형문화재</td>\n",
       "      <td>청주 청녕각</td>\n",
       "      <td>충청북도 청주시 상당구 북문로1가 171-3</td>\n",
       "      <td>127.488321</td>\n",
       "      <td>36.634704</td>\n",
       "      <td>POINT (127.48832 36.63470)</td>\n",
       "    </tr>\n",
       "    <tr>\n",
       "      <th>6</th>\n",
       "      <td>충북도 유형문화재</td>\n",
       "      <td>청주 망선루</td>\n",
       "      <td>충청북도 청주시 상당구 남문로2가 92-6</td>\n",
       "      <td>127.488154</td>\n",
       "      <td>36.632669</td>\n",
       "      <td>POINT (127.48815 36.63267)</td>\n",
       "    </tr>\n",
       "    <tr>\n",
       "      <th>7</th>\n",
       "      <td>충북도 유형문화재</td>\n",
       "      <td>청주 탑동 양관</td>\n",
       "      <td>충청북도 청주시 상당구 탑동 185-1</td>\n",
       "      <td>127.496569</td>\n",
       "      <td>36.627226</td>\n",
       "      <td>POINT (127.49657 36.62723)</td>\n",
       "    </tr>\n",
       "    <tr>\n",
       "      <th>8</th>\n",
       "      <td>충북도 유형문화재</td>\n",
       "      <td>청주 조헌 전장기적비</td>\n",
       "      <td>충청북도 청주시 상당구 남문로2가 92-6</td>\n",
       "      <td>127.488154</td>\n",
       "      <td>36.632669</td>\n",
       "      <td>POINT (127.48815 36.63267)</td>\n",
       "    </tr>\n",
       "    <tr>\n",
       "      <th>9</th>\n",
       "      <td>충북도 유형문화재</td>\n",
       "      <td>청주 성공회 성당</td>\n",
       "      <td>충청북도 청주시 상당구 수동 202-1</td>\n",
       "      <td>127.493948</td>\n",
       "      <td>36.638636</td>\n",
       "      <td>POINT (127.49395 36.63864)</td>\n",
       "    </tr>\n",
       "    <tr>\n",
       "      <th>10</th>\n",
       "      <td>충북도 유형문화재</td>\n",
       "      <td>청주 모충동 석조비로자나불좌상</td>\n",
       "      <td>충청북도 청주시 서원구 모충동 산36-48</td>\n",
       "      <td>127.475535</td>\n",
       "      <td>36.624034</td>\n",
       "      <td>POINT (127.47554 36.62403)</td>\n",
       "    </tr>\n",
       "    <tr>\n",
       "      <th>11</th>\n",
       "      <td>충북도 기념물</td>\n",
       "      <td>청주 압각수</td>\n",
       "      <td>충청북도 청주시 상당구 남문로2가 92-6</td>\n",
       "      <td>127.488154</td>\n",
       "      <td>36.632669</td>\n",
       "      <td>POINT (127.48815 36.63267)</td>\n",
       "    </tr>\n",
       "    <tr>\n",
       "      <th>12</th>\n",
       "      <td>충북도 기념물</td>\n",
       "      <td>청주 표충사</td>\n",
       "      <td>충청북도 청주시 상당구 수동 산6-11</td>\n",
       "      <td>127.493605</td>\n",
       "      <td>36.646842</td>\n",
       "      <td>POINT (127.49360 36.64684)</td>\n",
       "    </tr>\n",
       "    <tr>\n",
       "      <th>13</th>\n",
       "      <td>충북도 기념물</td>\n",
       "      <td>청주 척화비</td>\n",
       "      <td>충청북도 청주시 상당구 남문로2가 92-6</td>\n",
       "      <td>127.488154</td>\n",
       "      <td>36.632669</td>\n",
       "      <td>POINT (127.48815 36.63267)</td>\n",
       "    </tr>\n",
       "    <tr>\n",
       "      <th>14</th>\n",
       "      <td>충북도 기념물</td>\n",
       "      <td>청주 현풍곽씨 효자비 및 묘소</td>\n",
       "      <td>충청북도 청주시 상당구 탑동 251</td>\n",
       "      <td>127.497987</td>\n",
       "      <td>36.629600</td>\n",
       "      <td>POINT (127.49799 36.62960)</td>\n",
       "    </tr>\n",
       "    <tr>\n",
       "      <th>15</th>\n",
       "      <td>국가등록문화재</td>\n",
       "      <td>청주 문화동 일양 절충식 가옥</td>\n",
       "      <td>충청북도 청주시 상당구 문화동 3</td>\n",
       "      <td>127.493459</td>\n",
       "      <td>36.636090</td>\n",
       "      <td>POINT (127.49346 36.63609)</td>\n",
       "    </tr>\n",
       "    <tr>\n",
       "      <th>16</th>\n",
       "      <td>국가등록문화재</td>\n",
       "      <td>충북도청 본관</td>\n",
       "      <td>충청북도 청주시 상당구 문화동 89</td>\n",
       "      <td>127.491446</td>\n",
       "      <td>36.635428</td>\n",
       "      <td>POINT (127.49145 36.63543)</td>\n",
       "    </tr>\n",
       "    <tr>\n",
       "      <th>17</th>\n",
       "      <td>국가등록문화재</td>\n",
       "      <td>주성교육박물관(구 청주공립보통학교 강당)</td>\n",
       "      <td>충청북도 청주시 상당구 영동 48-1</td>\n",
       "      <td>127.485226</td>\n",
       "      <td>36.641100</td>\n",
       "      <td>POINT (127.48523 36.64110)</td>\n",
       "    </tr>\n",
       "    <tr>\n",
       "      <th>18</th>\n",
       "      <td>국가등록문화재</td>\n",
       "      <td>대성여자중학교(구 청주대학교) 강당</td>\n",
       "      <td>충청북도 청주시 상당구 수동 396-1</td>\n",
       "      <td>127.492447</td>\n",
       "      <td>36.643736</td>\n",
       "      <td>POINT (127.49245 36.64374)</td>\n",
       "    </tr>\n",
       "    <tr>\n",
       "      <th>19</th>\n",
       "      <td>국가등록문화재</td>\n",
       "      <td>구 충북산업장려관</td>\n",
       "      <td>충청북도 청주시 상당구 문화동 89-4</td>\n",
       "      <td>127.491058</td>\n",
       "      <td>36.634722</td>\n",
       "      <td>POINT (127.49106 36.63472)</td>\n",
       "    </tr>\n",
       "    <tr>\n",
       "      <th>20</th>\n",
       "      <td>국가등록문화재</td>\n",
       "      <td>충청북도지사 구 관사</td>\n",
       "      <td>충청북도 청주시 상당구 수동 36-3</td>\n",
       "      <td>127.495524</td>\n",
       "      <td>36.637426</td>\n",
       "      <td>POINT (127.49552 36.63743)</td>\n",
       "    </tr>\n",
       "    <tr>\n",
       "      <th>21</th>\n",
       "      <td>국가등록문화재</td>\n",
       "      <td>청주 동부배수지 제수변실</td>\n",
       "      <td>충청북도 청주시 상당구 대성동 150</td>\n",
       "      <td>127.496000</td>\n",
       "      <td>36.633202</td>\n",
       "      <td>POINT (127.49600 36.63320)</td>\n",
       "    </tr>\n",
       "    <tr>\n",
       "      <th>22</th>\n",
       "      <td>청주시 향토유형유적</td>\n",
       "      <td>청주 영규대사 전장기적비</td>\n",
       "      <td>충청북도 청주시 상당구 남문로2가 92-6</td>\n",
       "      <td>127.488154</td>\n",
       "      <td>36.632669</td>\n",
       "      <td>POINT (127.48815 36.63267)</td>\n",
       "    </tr>\n",
       "    <tr>\n",
       "      <th>23</th>\n",
       "      <td>청주시 향토유형유적</td>\n",
       "      <td>한봉수 의병장 송공비</td>\n",
       "      <td>충청북도 청주시 상당구 남문로2가 92-6</td>\n",
       "      <td>127.488154</td>\n",
       "      <td>36.632669</td>\n",
       "      <td>POINT (127.48815 36.63267)</td>\n",
       "    </tr>\n",
       "    <tr>\n",
       "      <th>24</th>\n",
       "      <td>청주시 향토유형유적</td>\n",
       "      <td>청주 남석교</td>\n",
       "      <td>충청북도 청주시 상당구 석교동 131</td>\n",
       "      <td>127.489600</td>\n",
       "      <td>36.627178</td>\n",
       "      <td>POINT (127.48960 36.62718)</td>\n",
       "    </tr>\n",
       "    <tr>\n",
       "      <th>25</th>\n",
       "      <td>청주시 향토유형유적</td>\n",
       "      <td>모충사</td>\n",
       "      <td>충청북도 청주시 서원구 모충동 산13-6</td>\n",
       "      <td>127.472579</td>\n",
       "      <td>36.627699</td>\n",
       "      <td>POINT (127.47258 36.62770)</td>\n",
       "    </tr>\n",
       "    <tr>\n",
       "      <th>26</th>\n",
       "      <td>청주시 향토유형유적</td>\n",
       "      <td>연최적 충효정려</td>\n",
       "      <td>충청북도 청주시 서원구 모충동 411-10</td>\n",
       "      <td>127.476979</td>\n",
       "      <td>36.628555</td>\n",
       "      <td>POINT (127.47698 36.62855)</td>\n",
       "    </tr>\n",
       "    <tr>\n",
       "      <th>27</th>\n",
       "      <td>청주시 향토유형유적</td>\n",
       "      <td>로간부인 기념비</td>\n",
       "      <td>충청북도 청주시 상당구 남문로1가 154-5</td>\n",
       "      <td>127.490255</td>\n",
       "      <td>36.628993</td>\n",
       "      <td>POINT (127.49026 36.62899)</td>\n",
       "    </tr>\n",
       "    <tr>\n",
       "      <th>28</th>\n",
       "      <td>청주시 향토유형유적</td>\n",
       "      <td>선교사 묘역 및 묘비</td>\n",
       "      <td>충청북도 청주시 상당구 탑동 185-1</td>\n",
       "      <td>127.496569</td>\n",
       "      <td>36.627226</td>\n",
       "      <td>POINT (127.49657 36.62723)</td>\n",
       "    </tr>\n",
       "    <tr>\n",
       "      <th>29</th>\n",
       "      <td>청주시 향토기념유적</td>\n",
       "      <td>청주읍성</td>\n",
       "      <td>충청북도 청주시 상당구 서문동 119</td>\n",
       "      <td>127.486985</td>\n",
       "      <td>36.632672</td>\n",
       "      <td>POINT (127.48699 36.63267)</td>\n",
       "    </tr>\n",
       "    <tr>\n",
       "      <th>30</th>\n",
       "      <td>청주시 향토기념유적</td>\n",
       "      <td>청주 당산토성</td>\n",
       "      <td>충청북도 청주시 상당구 대성동 109-4</td>\n",
       "      <td>127.495105</td>\n",
       "      <td>36.634957</td>\n",
       "      <td>POINT (127.49510 36.63496)</td>\n",
       "    </tr>\n",
       "    <tr>\n",
       "      <th>31</th>\n",
       "      <td>청주시 향토기념유적</td>\n",
       "      <td>청주 우암산 고분군</td>\n",
       "      <td>충청북도 청주시 상당구 수동 산2-1</td>\n",
       "      <td>127.502849</td>\n",
       "      <td>36.647026</td>\n",
       "      <td>POINT (127.50285 36.64703)</td>\n",
       "    </tr>\n",
       "  </tbody>\n",
       "</table>\n",
       "</div>"
      ],
      "text/plain": [
       "           gbn                  clt_nm                      addr         lon  \\\n",
       "0           국보             청주 용두사지 철당간  충청북도 청주시 상당구 남문로2가 48-19  127.489758   \n",
       "1           보물            청주 용화사 석조불상군    충청북도 청주시 서원구 사직동 216-1  127.482003   \n",
       "2    충북도 유형문화재           청주 충청도병마절도사영문   충청북도 청주시 상당구 남문로2가 92-6  127.488154   \n",
       "3    충북도 유형문화재              청주 탑동 오층석탑       충청북도 청주시 상당구 탑동 251  127.497987   \n",
       "4    충북도 유형문화재                    청주향교       충청북도 청주시 상당구 대성동 68  127.498060   \n",
       "5    충북도 유형문화재                  청주 청녕각  충청북도 청주시 상당구 북문로1가 171-3  127.488321   \n",
       "6    충북도 유형문화재                  청주 망선루   충청북도 청주시 상당구 남문로2가 92-6  127.488154   \n",
       "7    충북도 유형문화재                청주 탑동 양관     충청북도 청주시 상당구 탑동 185-1  127.496569   \n",
       "8    충북도 유형문화재             청주 조헌 전장기적비   충청북도 청주시 상당구 남문로2가 92-6  127.488154   \n",
       "9    충북도 유형문화재               청주 성공회 성당     충청북도 청주시 상당구 수동 202-1  127.493948   \n",
       "10   충북도 유형문화재        청주 모충동 석조비로자나불좌상   충청북도 청주시 서원구 모충동 산36-48  127.475535   \n",
       "11     충북도 기념물                  청주 압각수   충청북도 청주시 상당구 남문로2가 92-6  127.488154   \n",
       "12     충북도 기념물                  청주 표충사     충청북도 청주시 상당구 수동 산6-11  127.493605   \n",
       "13     충북도 기념물                  청주 척화비   충청북도 청주시 상당구 남문로2가 92-6  127.488154   \n",
       "14     충북도 기념물        청주 현풍곽씨 효자비 및 묘소       충청북도 청주시 상당구 탑동 251  127.497987   \n",
       "15     국가등록문화재        청주 문화동 일양 절충식 가옥        충청북도 청주시 상당구 문화동 3  127.493459   \n",
       "16     국가등록문화재                 충북도청 본관       충청북도 청주시 상당구 문화동 89  127.491446   \n",
       "17     국가등록문화재  주성교육박물관(구 청주공립보통학교 강당)      충청북도 청주시 상당구 영동 48-1  127.485226   \n",
       "18     국가등록문화재     대성여자중학교(구 청주대학교) 강당     충청북도 청주시 상당구 수동 396-1  127.492447   \n",
       "19     국가등록문화재               구 충북산업장려관     충청북도 청주시 상당구 문화동 89-4  127.491058   \n",
       "20     국가등록문화재             충청북도지사 구 관사      충청북도 청주시 상당구 수동 36-3  127.495524   \n",
       "21     국가등록문화재           청주 동부배수지 제수변실      충청북도 청주시 상당구 대성동 150  127.496000   \n",
       "22  청주시 향토유형유적           청주 영규대사 전장기적비   충청북도 청주시 상당구 남문로2가 92-6  127.488154   \n",
       "23  청주시 향토유형유적             한봉수 의병장 송공비   충청북도 청주시 상당구 남문로2가 92-6  127.488154   \n",
       "24  청주시 향토유형유적                  청주 남석교      충청북도 청주시 상당구 석교동 131  127.489600   \n",
       "25  청주시 향토유형유적                     모충사    충청북도 청주시 서원구 모충동 산13-6  127.472579   \n",
       "26  청주시 향토유형유적                연최적 충효정려   충청북도 청주시 서원구 모충동 411-10  127.476979   \n",
       "27  청주시 향토유형유적                로간부인 기념비  충청북도 청주시 상당구 남문로1가 154-5  127.490255   \n",
       "28  청주시 향토유형유적             선교사 묘역 및 묘비     충청북도 청주시 상당구 탑동 185-1  127.496569   \n",
       "29  청주시 향토기념유적                    청주읍성      충청북도 청주시 상당구 서문동 119  127.486985   \n",
       "30  청주시 향토기념유적                 청주 당산토성    충청북도 청주시 상당구 대성동 109-4  127.495105   \n",
       "31  청주시 향토기념유적              청주 우암산 고분군      충청북도 청주시 상당구 수동 산2-1  127.502849   \n",
       "\n",
       "          lat                    geometry  \n",
       "0   36.633095  POINT (127.48976 36.63309)  \n",
       "1   36.641779  POINT (127.48200 36.64178)  \n",
       "2   36.632669  POINT (127.48815 36.63267)  \n",
       "3   36.629600  POINT (127.49799 36.62960)  \n",
       "4   36.637203  POINT (127.49806 36.63720)  \n",
       "5   36.634704  POINT (127.48832 36.63470)  \n",
       "6   36.632669  POINT (127.48815 36.63267)  \n",
       "7   36.627226  POINT (127.49657 36.62723)  \n",
       "8   36.632669  POINT (127.48815 36.63267)  \n",
       "9   36.638636  POINT (127.49395 36.63864)  \n",
       "10  36.624034  POINT (127.47554 36.62403)  \n",
       "11  36.632669  POINT (127.48815 36.63267)  \n",
       "12  36.646842  POINT (127.49360 36.64684)  \n",
       "13  36.632669  POINT (127.48815 36.63267)  \n",
       "14  36.629600  POINT (127.49799 36.62960)  \n",
       "15  36.636090  POINT (127.49346 36.63609)  \n",
       "16  36.635428  POINT (127.49145 36.63543)  \n",
       "17  36.641100  POINT (127.48523 36.64110)  \n",
       "18  36.643736  POINT (127.49245 36.64374)  \n",
       "19  36.634722  POINT (127.49106 36.63472)  \n",
       "20  36.637426  POINT (127.49552 36.63743)  \n",
       "21  36.633202  POINT (127.49600 36.63320)  \n",
       "22  36.632669  POINT (127.48815 36.63267)  \n",
       "23  36.632669  POINT (127.48815 36.63267)  \n",
       "24  36.627178  POINT (127.48960 36.62718)  \n",
       "25  36.627699  POINT (127.47258 36.62770)  \n",
       "26  36.628555  POINT (127.47698 36.62855)  \n",
       "27  36.628993  POINT (127.49026 36.62899)  \n",
       "28  36.627226  POINT (127.49657 36.62723)  \n",
       "29  36.632672  POINT (127.48699 36.63267)  \n",
       "30  36.634957  POINT (127.49510 36.63496)  \n",
       "31  36.647026  POINT (127.50285 36.64703)  "
      ]
     },
     "execution_count": 211,
     "metadata": {},
     "output_type": "execute_result"
    }
   ],
   "source": [
    "filtered_points_culture"
   ]
  },
  {
   "cell_type": "code",
   "execution_count": null,
   "metadata": {},
   "outputs": [],
   "source": [
    "from folium.plugins import MarkerCluster\n",
    "# Folium 지도 생성\n",
    "m = folium.Map(location=[36.627797, 127.511943], zoom_start=13, width='100%', height='100%')\n",
    "\n",
    "# 배경지도 타일 설정하기\n",
    "layer = \"Hybrid\"\n",
    "tileType = \"png\"\n",
    "tiles = f\"http://api.vworld.kr/req/wmts/1.0.0/{vworld_key}/{layer}/{{z}}/{{y}}/{{x}}.{tileType}\"\n",
    "attr = \"Vworld\"\n",
    "\n",
    "folium.TileLayer(\n",
    "    tiles=tiles,\n",
    "    attr=attr,\n",
    "    overlay=True,\n",
    "    control=True\n",
    ").add_to(m)\n",
    "\n",
    "# GeoJSON 데이터를 지도에 추가\n",
    "for index, row in filtered_points_culture.iterrows():\n",
    "    popup_text = f\"{row['gbn']} - {row['clt_nm']}건\"\n",
    "    marker = folium.CircleMarker(\n",
    "        location=[row['lat'], row['lon']],\n",
    "        radius=5,\n",
    "        fill=True,\n",
    "    )\n",
    "    marker.add_to(m).add_child(folium.Popup(popup_text, max_width=100))\n",
    "\n",
    "# 지도 저장\n",
    "m"
   ]
  },
  {
   "attachments": {},
   "cell_type": "markdown",
   "metadata": {},
   "source": [
    "### 청주시 시장 현황 (폴리곤 영역확장 없이 범위 내 시장들만 필터링)"
   ]
  },
  {
   "cell_type": "code",
   "execution_count": 217,
   "metadata": {},
   "outputs": [
    {
     "data": {
      "text/html": [
       "<div>\n",
       "<style scoped>\n",
       "    .dataframe tbody tr th:only-of-type {\n",
       "        vertical-align: middle;\n",
       "    }\n",
       "\n",
       "    .dataframe tbody tr th {\n",
       "        vertical-align: top;\n",
       "    }\n",
       "\n",
       "    .dataframe thead th {\n",
       "        text-align: right;\n",
       "    }\n",
       "</style>\n",
       "<table border=\"1\" class=\"dataframe\">\n",
       "  <thead>\n",
       "    <tr style=\"text-align: right;\">\n",
       "      <th></th>\n",
       "      <th>market_nm</th>\n",
       "      <th>addr</th>\n",
       "      <th>area</th>\n",
       "      <th>lon</th>\n",
       "      <th>lat</th>\n",
       "    </tr>\n",
       "  </thead>\n",
       "  <tbody>\n",
       "    <tr>\n",
       "      <th>0</th>\n",
       "      <td>육거리종합시장</td>\n",
       "      <td>상당구 청남로2197번길 42(석교동)</td>\n",
       "      <td>86273</td>\n",
       "      <td>127.488184</td>\n",
       "      <td>36.627938</td>\n",
       "    </tr>\n",
       "    <tr>\n",
       "      <th>1</th>\n",
       "      <td>서문시장</td>\n",
       "      <td>상당구 남사로89번길 57(서문동)</td>\n",
       "      <td>10285</td>\n",
       "      <td>127.485365</td>\n",
       "      <td>36.634894</td>\n",
       "    </tr>\n",
       "    <tr>\n",
       "      <th>2</th>\n",
       "      <td>중앙시장</td>\n",
       "      <td>상당구 중앙로 26(북문로2가)</td>\n",
       "      <td>7305</td>\n",
       "      <td>127.489192</td>\n",
       "      <td>36.639385</td>\n",
       "    </tr>\n",
       "    <tr>\n",
       "      <th>3</th>\n",
       "      <td>사직시장</td>\n",
       "      <td>서원구 사직대로265번길 7(사직동)</td>\n",
       "      <td>9200</td>\n",
       "      <td>127.476868</td>\n",
       "      <td>36.636143</td>\n",
       "    </tr>\n",
       "    <tr>\n",
       "      <th>4</th>\n",
       "      <td>북부시장</td>\n",
       "      <td>청원구 향군로31번길 19(우암동)</td>\n",
       "      <td>22133</td>\n",
       "      <td>127.486221</td>\n",
       "      <td>36.647973</td>\n",
       "    </tr>\n",
       "  </tbody>\n",
       "</table>\n",
       "</div>"
      ],
      "text/plain": [
       "  market_nm                   addr   area         lon        lat\n",
       "0   육거리종합시장  상당구 청남로2197번길 42(석교동)  86273  127.488184  36.627938\n",
       "1      서문시장    상당구 남사로89번길 57(서문동)  10285  127.485365  36.634894\n",
       "2      중앙시장      상당구 중앙로 26(북문로2가)   7305  127.489192  36.639385\n",
       "3      사직시장   서원구 사직대로265번길 7(사직동)   9200  127.476868  36.636143\n",
       "4      북부시장    청원구 향군로31번길 19(우암동)  22133  127.486221  36.647973"
      ]
     },
     "execution_count": 217,
     "metadata": {},
     "output_type": "execute_result"
    }
   ],
   "source": [
    "market_df = pd.read_csv('SBJ_2309_001/6.청주시_시장현황.csv')\n",
    "market_df"
   ]
  },
  {
   "cell_type": "code",
   "execution_count": 218,
   "metadata": {},
   "outputs": [
    {
     "name": "stderr",
     "output_type": "stream",
     "text": [
      "c:\\Users\\user\\anaconda3\\envs\\GIS\\lib\\site-packages\\pyproj\\crs\\crs.py:141: FutureWarning:\n",
      "\n",
      "'+init=<authority>:<code>' syntax is deprecated. '<authority>:<code>' is the preferred initialization method. When making the change, be mindful of axis order changes: https://pyproj4.github.io/pyproj/stable/gotchas.html#axis-order-changes-in-proj-6\n",
      "\n",
      "c:\\Users\\user\\anaconda3\\envs\\GIS\\lib\\site-packages\\pyproj\\crs\\crs.py:141: FutureWarning:\n",
      "\n",
      "'+init=<authority>:<code>' syntax is deprecated. '<authority>:<code>' is the preferred initialization method. When making the change, be mindful of axis order changes: https://pyproj4.github.io/pyproj/stable/gotchas.html#axis-order-changes-in-proj-6\n",
      "\n"
     ]
    }
   ],
   "source": [
    "# 데이터프레임을 GeoPandas 데이터프레임으로 변환\n",
    "market_df = geo_transform(market_df)\n",
    "\n",
    "# crp_df에서 첫 번째 폴리곤 영역을 선택 = crp_df는 원도심 영역(도시재생 대상지역)\n",
    "polygon = crp_df['geometry'].iloc[0]\n",
    "\n",
    "# factory_df의 'geometry' 열을 사용하여 Point 객체를 필터링\n",
    "filtered_points_market = market_df[market_df['geometry'].within(polygon)].reset_index(drop=True)"
   ]
  },
  {
   "cell_type": "code",
   "execution_count": 219,
   "metadata": {},
   "outputs": [
    {
     "data": {
      "text/html": [
       "<div>\n",
       "<style scoped>\n",
       "    .dataframe tbody tr th:only-of-type {\n",
       "        vertical-align: middle;\n",
       "    }\n",
       "\n",
       "    .dataframe tbody tr th {\n",
       "        vertical-align: top;\n",
       "    }\n",
       "\n",
       "    .dataframe thead th {\n",
       "        text-align: right;\n",
       "    }\n",
       "</style>\n",
       "<table border=\"1\" class=\"dataframe\">\n",
       "  <thead>\n",
       "    <tr style=\"text-align: right;\">\n",
       "      <th></th>\n",
       "      <th>market_nm</th>\n",
       "      <th>addr</th>\n",
       "      <th>area</th>\n",
       "      <th>lon</th>\n",
       "      <th>lat</th>\n",
       "      <th>geometry</th>\n",
       "    </tr>\n",
       "  </thead>\n",
       "  <tbody>\n",
       "    <tr>\n",
       "      <th>0</th>\n",
       "      <td>육거리종합시장</td>\n",
       "      <td>상당구 청남로2197번길 42(석교동)</td>\n",
       "      <td>86273</td>\n",
       "      <td>127.488184</td>\n",
       "      <td>36.627938</td>\n",
       "      <td>POINT (127.48818 36.62794)</td>\n",
       "    </tr>\n",
       "    <tr>\n",
       "      <th>1</th>\n",
       "      <td>서문시장</td>\n",
       "      <td>상당구 남사로89번길 57(서문동)</td>\n",
       "      <td>10285</td>\n",
       "      <td>127.485365</td>\n",
       "      <td>36.634894</td>\n",
       "      <td>POINT (127.48536 36.63489)</td>\n",
       "    </tr>\n",
       "    <tr>\n",
       "      <th>2</th>\n",
       "      <td>중앙시장</td>\n",
       "      <td>상당구 중앙로 26(북문로2가)</td>\n",
       "      <td>7305</td>\n",
       "      <td>127.489192</td>\n",
       "      <td>36.639385</td>\n",
       "      <td>POINT (127.48919 36.63938)</td>\n",
       "    </tr>\n",
       "  </tbody>\n",
       "</table>\n",
       "</div>"
      ],
      "text/plain": [
       "  market_nm                   addr   area         lon        lat  \\\n",
       "0   육거리종합시장  상당구 청남로2197번길 42(석교동)  86273  127.488184  36.627938   \n",
       "1      서문시장    상당구 남사로89번길 57(서문동)  10285  127.485365  36.634894   \n",
       "2      중앙시장      상당구 중앙로 26(북문로2가)   7305  127.489192  36.639385   \n",
       "\n",
       "                     geometry  \n",
       "0  POINT (127.48818 36.62794)  \n",
       "1  POINT (127.48536 36.63489)  \n",
       "2  POINT (127.48919 36.63938)  "
      ]
     },
     "execution_count": 219,
     "metadata": {},
     "output_type": "execute_result"
    }
   ],
   "source": [
    "filtered_points_market"
   ]
  },
  {
   "cell_type": "code",
   "execution_count": null,
   "metadata": {},
   "outputs": [],
   "source": [
    "from folium.plugins import MarkerCluster\n",
    "# Folium 지도 생성\n",
    "m = folium.Map(location=[36.627797, 127.511943], zoom_start=13, width='100%', height='100%')\n",
    "\n",
    "# 배경지도 타일 설정하기\n",
    "layer = \"Hybrid\"\n",
    "tileType = \"png\"\n",
    "tiles = f\"http://api.vworld.kr/req/wmts/1.0.0/{vworld_key}/{layer}/{{z}}/{{y}}/{{x}}.{tileType}\"\n",
    "attr = \"Vworld\"\n",
    "\n",
    "folium.TileLayer(\n",
    "    tiles=tiles,\n",
    "    attr=attr,\n",
    "    overlay=True,\n",
    "    control=True\n",
    ").add_to(m)\n",
    "\n",
    "# GeoJSON 데이터를 지도에 추가\n",
    "for index, row in filtered_points_market.iterrows():\n",
    "    marker = folium.CircleMarker(\n",
    "        location=[row['lat'], row['lon']],\n",
    "        radius=5,\n",
    "        fill=True,\n",
    "    )\n",
    "    marker.add_to(m)\n",
    "\n",
    "# 지도 저장\n",
    "m"
   ]
  },
  {
   "attachments": {},
   "cell_type": "markdown",
   "metadata": {},
   "source": [
    "### 청주시 주차장 현황 (폴리곤 영역확장 고민해봐야 할듯)"
   ]
  },
  {
   "cell_type": "code",
   "execution_count": null,
   "metadata": {},
   "outputs": [],
   "source": [
    "parking_df = pd.read_csv('SBJ_2309_001/7.청주시_주차장현황.csv')\n",
    "parking_df"
   ]
  },
  {
   "cell_type": "code",
   "execution_count": null,
   "metadata": {},
   "outputs": [],
   "source": [
    "# 데이터프레임을 GeoPandas 데이터프레임으로 변환\n",
    "parking_df = geo_transform(parking_df)\n",
    "\n",
    "# crp_df에서 첫 번째 폴리곤 영역을 선택 = crp_df는 원도심 영역(도시재생 대상지역)\n",
    "polygon = crp_df['geometry'].iloc[0] # 또는 centroid_polygon_geometry\n",
    "\n",
    "# factory_df의 'geometry' 열을 사용하여 Point 객체를 필터링\n",
    "filtered_points_parking = parking_df[parking_df['geometry'].within(polygon)].reset_index(drop=True)"
   ]
  },
  {
   "cell_type": "code",
   "execution_count": null,
   "metadata": {},
   "outputs": [],
   "source": [
    "filtered_points_parking # 노상 : 도로 위 한켠에 주차를 하고 일정 비용을 받음(정부 또는 지자체 관할), 노외 : 공용주차장처럼 별도 대지에 설치되어 제공되는 주차장"
   ]
  },
  {
   "cell_type": "code",
   "execution_count": null,
   "metadata": {},
   "outputs": [],
   "source": [
    "from folium.plugins import MarkerCluster\n",
    "# Folium 지도 생성\n",
    "m = folium.Map(location=[36.627797, 127.511943], zoom_start=13, width='100%', height='100%')\n",
    "\n",
    "# 배경지도 타일 설정하기\n",
    "layer = \"Hybrid\"\n",
    "tileType = \"png\"\n",
    "tiles = f\"http://api.vworld.kr/req/wmts/1.0.0/{vworld_key}/{layer}/{{z}}/{{y}}/{{x}}.{tileType}\"\n",
    "attr = \"Vworld\"\n",
    "\n",
    "folium.TileLayer(\n",
    "    tiles=tiles,\n",
    "    attr=attr,\n",
    "    overlay=True,\n",
    "    control=True\n",
    ").add_to(m)\n",
    "\n",
    "# GeoJSON 데이터를 지도에 추가\n",
    "for index, row in filtered_points_parking.iterrows():\n",
    "    marker = folium.CircleMarker(\n",
    "        location=[row['lat'], row['lon']],\n",
    "        radius=5,\n",
    "        fill=True,\n",
    "    )\n",
    "    marker.add_to(m)\n",
    "\n",
    "# 지도 저장\n",
    "m"
   ]
  },
  {
   "attachments": {},
   "cell_type": "markdown",
   "metadata": {},
   "source": [
    "### 청주시 공원 현황 (폴리곤 영역확장 고민해봐야 할듯)"
   ]
  },
  {
   "cell_type": "code",
   "execution_count": null,
   "metadata": {},
   "outputs": [],
   "source": [
    "park_df = pd.read_csv('SBJ_2309_001/8.청주시_공원현황.csv')\n",
    "park_df"
   ]
  },
  {
   "cell_type": "code",
   "execution_count": null,
   "metadata": {},
   "outputs": [],
   "source": [
    "# 데이터프레임을 GeoPandas 데이터프레임으로 변환\n",
    "park_df = geo_transform(park_df)\n",
    "\n",
    "# crp_df에서 첫 번째 폴리곤 영역을 선택 = crp_df는 원도심 영역(도시재생 대상지역)\n",
    "polygon = crp_df['geometry'].iloc[0] # 또는 centroid_polygon_geometry\n",
    "\n",
    "# factory_df의 'geometry' 열을 사용하여 Point 객체를 필터링\n",
    "filtered_points_park = park_df[park_df['geometry'].within(polygon)].reset_index(drop=True)"
   ]
  },
  {
   "cell_type": "code",
   "execution_count": null,
   "metadata": {},
   "outputs": [],
   "source": [
    "filtered_points_park"
   ]
  },
  {
   "cell_type": "code",
   "execution_count": null,
   "metadata": {},
   "outputs": [],
   "source": [
    "from folium.plugins import MarkerCluster\n",
    "# Folium 지도 생성\n",
    "m = folium.Map(location=[36.627797, 127.511943], zoom_start=13, width='100%', height='100%')\n",
    "\n",
    "# 배경지도 타일 설정하기\n",
    "layer = \"Hybrid\"\n",
    "tileType = \"png\"\n",
    "tiles = f\"http://api.vworld.kr/req/wmts/1.0.0/{vworld_key}/{layer}/{{z}}/{{y}}/{{x}}.{tileType}\"\n",
    "attr = \"Vworld\"\n",
    "\n",
    "folium.TileLayer(\n",
    "    tiles=tiles,\n",
    "    attr=attr,\n",
    "    overlay=True,\n",
    "    control=True\n",
    ").add_to(m)\n",
    "\n",
    "# GeoJSON 데이터를 지도에 추가\n",
    "for index, row in filtered_points_park.iterrows():\n",
    "    marker = folium.CircleMarker(\n",
    "        location=[row['lat'], row['lon']],\n",
    "        radius=5,\n",
    "        fill=True,\n",
    "    )\n",
    "    marker.add_to(m)\n",
    "\n",
    "# 지도 저장\n",
    "m"
   ]
  },
  {
   "attachments": {},
   "cell_type": "markdown",
   "metadata": {},
   "source": [
    "### 청주시 학교 현황"
   ]
  },
  {
   "cell_type": "code",
   "execution_count": null,
   "metadata": {},
   "outputs": [],
   "source": [
    "school_df = pd.read_csv('SBJ_2309_001/24.청주시_학교현황.csv')\n",
    "school_df"
   ]
  },
  {
   "cell_type": "code",
   "execution_count": 128,
   "metadata": {},
   "outputs": [
    {
     "name": "stderr",
     "output_type": "stream",
     "text": [
      "c:\\Users\\user\\anaconda3\\envs\\GIS\\lib\\site-packages\\pyproj\\crs\\crs.py:141: FutureWarning: '+init=<authority>:<code>' syntax is deprecated. '<authority>:<code>' is the preferred initialization method. When making the change, be mindful of axis order changes: https://pyproj4.github.io/pyproj/stable/gotchas.html#axis-order-changes-in-proj-6\n",
      "  in_crs_string = _prepare_from_proj_string(in_crs_string)\n",
      "c:\\Users\\user\\anaconda3\\envs\\GIS\\lib\\site-packages\\pyproj\\crs\\crs.py:141: FutureWarning: '+init=<authority>:<code>' syntax is deprecated. '<authority>:<code>' is the preferred initialization method. When making the change, be mindful of axis order changes: https://pyproj4.github.io/pyproj/stable/gotchas.html#axis-order-changes-in-proj-6\n",
      "  in_crs_string = _prepare_from_proj_string(in_crs_string)\n"
     ]
    }
   ],
   "source": [
    "# 데이터프레임을 GeoPandas 데이터프레임으로 변환\n",
    "school_df = geo_transform(school_df)\n",
    "\n",
    "# crp_df에서 첫 번째 폴리곤 영역을 선택 = crp_df는 원도심 영역(도시재생 대상지역)\n",
    "polygon = crp_df['geometry'].iloc[0] # 또는 centroid_polygon_geometry\n",
    "\n",
    "# factory_df의 'geometry' 열을 사용하여 Point 객체를 필터링\n",
    "filtered_points_school = school_df[school_df['geometry'].within(polygon)].reset_index(drop=True)"
   ]
  },
  {
   "cell_type": "code",
   "execution_count": null,
   "metadata": {},
   "outputs": [],
   "source": [
    "filtered_points_school"
   ]
  },
  {
   "cell_type": "code",
   "execution_count": null,
   "metadata": {},
   "outputs": [],
   "source": [
    "from folium.plugins import MarkerCluster\n",
    "# Folium 지도 생성\n",
    "m = folium.Map(location=[36.627797, 127.511943], zoom_start=13, width='100%', height='100%')\n",
    "\n",
    "# 배경지도 타일 설정하기\n",
    "layer = \"Hybrid\"\n",
    "tileType = \"png\"\n",
    "tiles = f\"http://api.vworld.kr/req/wmts/1.0.0/{vworld_key}/{layer}/{{z}}/{{y}}/{{x}}.{tileType}\"\n",
    "attr = \"Vworld\"\n",
    "\n",
    "folium.TileLayer(\n",
    "    tiles=tiles,\n",
    "    attr=attr,\n",
    "    overlay=True,\n",
    "    control=True\n",
    ").add_to(m)\n",
    "\n",
    "# GeoJSON 데이터를 지도에 추가\n",
    "for index, row in filtered_points_school.iterrows():\n",
    "    marker = folium.CircleMarker(\n",
    "        location=[row['lat'], row['lon']],\n",
    "        radius=5,\n",
    "        fill=True,\n",
    "    )\n",
    "    marker.add_to(m)\n",
    "\n",
    "# 지도 저장\n",
    "m"
   ]
  },
  {
   "attachments": {},
   "cell_type": "markdown",
   "metadata": {},
   "source": [
    "### 청주시 어린이집 유치원 현황"
   ]
  },
  {
   "cell_type": "code",
   "execution_count": null,
   "metadata": {},
   "outputs": [],
   "source": [
    "kinder_df = pd.read_csv('SBJ_2309_001/28.청주시_어린이집_유치원현황.csv')\n",
    "kinder_df"
   ]
  },
  {
   "cell_type": "code",
   "execution_count": 39,
   "metadata": {},
   "outputs": [
    {
     "name": "stderr",
     "output_type": "stream",
     "text": [
      "c:\\Users\\HJK\\anaconda3\\envs\\GIS\\lib\\site-packages\\pyproj\\crs\\crs.py:141: FutureWarning: '+init=<authority>:<code>' syntax is deprecated. '<authority>:<code>' is the preferred initialization method. When making the change, be mindful of axis order changes: https://pyproj4.github.io/pyproj/stable/gotchas.html#axis-order-changes-in-proj-6\n",
      "  in_crs_string = _prepare_from_proj_string(in_crs_string)\n",
      "c:\\Users\\HJK\\anaconda3\\envs\\GIS\\lib\\site-packages\\pyproj\\crs\\crs.py:141: FutureWarning: '+init=<authority>:<code>' syntax is deprecated. '<authority>:<code>' is the preferred initialization method. When making the change, be mindful of axis order changes: https://pyproj4.github.io/pyproj/stable/gotchas.html#axis-order-changes-in-proj-6\n",
      "  in_crs_string = _prepare_from_proj_string(in_crs_string)\n"
     ]
    }
   ],
   "source": [
    "# 데이터프레임을 GeoPandas 데이터프레임으로 변환\n",
    "kinder_df = geo_transform(kinder_df)\n",
    "\n",
    "# crp_df에서 첫 번째 폴리곤 영역을 선택 = crp_df는 원도심 영역(도시재생 대상지역)\n",
    "polygon = crp_df['geometry'].iloc[0] # 또는 centroid_polygon_geometry\n",
    "\n",
    "# factory_df의 'geometry' 열을 사용하여 Point 객체를 필터링\n",
    "filtered_points_kinder = kinder_df[kinder_df['geometry'].within(polygon)].reset_index(drop=True)"
   ]
  },
  {
   "cell_type": "code",
   "execution_count": null,
   "metadata": {},
   "outputs": [],
   "source": [
    "filtered_points_kinder"
   ]
  },
  {
   "cell_type": "code",
   "execution_count": null,
   "metadata": {},
   "outputs": [],
   "source": [
    "from folium.plugins import MarkerCluster\n",
    "# Folium 지도 생성\n",
    "m = folium.Map(location=[36.627797, 127.511943], zoom_start=13, width='100%', height='100%')\n",
    "\n",
    "# 배경지도 타일 설정하기\n",
    "layer = \"Hybrid\"\n",
    "tileType = \"png\"\n",
    "tiles = f\"http://api.vworld.kr/req/wmts/1.0.0/{vworld_key}/{layer}/{{z}}/{{y}}/{{x}}.{tileType}\"\n",
    "attr = \"Vworld\"\n",
    "\n",
    "folium.TileLayer(\n",
    "    tiles=tiles,\n",
    "    attr=attr,\n",
    "    overlay=True,\n",
    "    control=True\n",
    ").add_to(m)\n",
    "\n",
    "# GeoJSON 데이터를 지도에 추가\n",
    "for index, row in filtered_points_kinder.iterrows():\n",
    "    marker = folium.CircleMarker(\n",
    "        location=[row['lat'], row['lon']],\n",
    "        radius=5,\n",
    "        fill=True,\n",
    "    )\n",
    "    marker.add_to(m)\n",
    "\n",
    "# 지도 저장\n",
    "m"
   ]
  },
  {
   "attachments": {},
   "cell_type": "markdown",
   "metadata": {},
   "source": [
    "### 청주시 가로수 현황 (공공데이터포털 - 산림청_도시숲가로수관리 가로수 현황 data https://www.data.go.kr/data/15120900/fileData.do)"
   ]
  },
  {
   "cell_type": "code",
   "execution_count": null,
   "metadata": {},
   "outputs": [],
   "source": [
    "'''산림청_도시숲가로수관리 가로수 현황_20221231 데이터 정제 완료 -'''\n",
    "# street_tree_df = pd.read_csv('SBJ_2309_001/산림청_도시숲가로수관리 가로수 현황_20221231.csv', encoding='cp949')\n",
    "# street_tree_df = street_tree_df[['시군구명', '도로구간명', '수종명', '지역X좌표', '지역Y좌표']]\n",
    "# street_tree_df = street_tree_df[street_tree_df['시군구명'].str.contains('청주')].reset_index(drop=True)\n",
    "\n",
    "# # EPSG 5186에서 EPSG 4326으로 좌표 변환을 수행하는 함수 생성\n",
    "# def transform_coordinates(row):\n",
    "#     in_proj = pyproj.Proj(init='epsg:5186')\n",
    "#     out_proj = pyproj.Proj(init='epsg:4326')\n",
    "#     lon, lat = pyproj.transform(in_proj, out_proj, row['지역X좌표'], row['지역Y좌표'])\n",
    "#     return pd.Series({'lat': lat, 'lon': lon})\n",
    "\n",
    "# # '지역X좌표'와 '지역Y좌표'를 EPSG 4326으로 변환하고 'lat' 및 'lon' 열로 이름 변경\n",
    "# street_tree_df[['lat', 'lon']] = street_tree_df.apply(transform_coordinates, axis=1)\n",
    "# # '지역X좌표'와 '지역Y좌표' 열을 삭제 (선택 사항)\n",
    "# street_tree_df.drop(['지역X좌표', '지역Y좌표'], axis=1, inplace=True)\n",
    "\n",
    "# "
   ]
  },
  {
   "cell_type": "code",
   "execution_count": 5,
   "metadata": {},
   "outputs": [
    {
     "data": {
      "text/html": [
       "<div>\n",
       "<style scoped>\n",
       "    .dataframe tbody tr th:only-of-type {\n",
       "        vertical-align: middle;\n",
       "    }\n",
       "\n",
       "    .dataframe tbody tr th {\n",
       "        vertical-align: top;\n",
       "    }\n",
       "\n",
       "    .dataframe thead th {\n",
       "        text-align: right;\n",
       "    }\n",
       "</style>\n",
       "<table border=\"1\" class=\"dataframe\">\n",
       "  <thead>\n",
       "    <tr style=\"text-align: right;\">\n",
       "      <th></th>\n",
       "      <th>시군구명</th>\n",
       "      <th>도로구간명</th>\n",
       "      <th>수종명</th>\n",
       "      <th>lat</th>\n",
       "      <th>lon</th>\n",
       "    </tr>\n",
       "  </thead>\n",
       "  <tbody>\n",
       "    <tr>\n",
       "      <th>0</th>\n",
       "      <td>충청북도 청주시 청원구</td>\n",
       "      <td>오창대로</td>\n",
       "      <td>벚나무</td>\n",
       "      <td>36.708975</td>\n",
       "      <td>127.481089</td>\n",
       "    </tr>\n",
       "    <tr>\n",
       "      <th>1</th>\n",
       "      <td>충청북도 청주시 청원구</td>\n",
       "      <td>오창대로</td>\n",
       "      <td>벚나무</td>\n",
       "      <td>36.708883</td>\n",
       "      <td>127.480707</td>\n",
       "    </tr>\n",
       "    <tr>\n",
       "      <th>2</th>\n",
       "      <td>충청북도 청주시 청원구</td>\n",
       "      <td>오창대로</td>\n",
       "      <td>벚나무</td>\n",
       "      <td>36.708996</td>\n",
       "      <td>127.481787</td>\n",
       "    </tr>\n",
       "    <tr>\n",
       "      <th>3</th>\n",
       "      <td>충청북도 청주시 청원구</td>\n",
       "      <td>오창대로</td>\n",
       "      <td>벚나무</td>\n",
       "      <td>36.708625</td>\n",
       "      <td>127.480314</td>\n",
       "    </tr>\n",
       "    <tr>\n",
       "      <th>4</th>\n",
       "      <td>충청북도 청주시 청원구</td>\n",
       "      <td>오창대로</td>\n",
       "      <td>벚나무</td>\n",
       "      <td>36.708993</td>\n",
       "      <td>127.481158</td>\n",
       "    </tr>\n",
       "    <tr>\n",
       "      <th>...</th>\n",
       "      <td>...</td>\n",
       "      <td>...</td>\n",
       "      <td>...</td>\n",
       "      <td>...</td>\n",
       "      <td>...</td>\n",
       "    </tr>\n",
       "    <tr>\n",
       "      <th>24481</th>\n",
       "      <td>충청북도 청주시 청원구</td>\n",
       "      <td>율중로29번길</td>\n",
       "      <td>이팝나무</td>\n",
       "      <td>36.660599</td>\n",
       "      <td>127.507634</td>\n",
       "    </tr>\n",
       "    <tr>\n",
       "      <th>24482</th>\n",
       "      <td>충청북도 청주시 청원구</td>\n",
       "      <td>율중로29번길</td>\n",
       "      <td>이팝나무</td>\n",
       "      <td>36.660668</td>\n",
       "      <td>127.507612</td>\n",
       "    </tr>\n",
       "    <tr>\n",
       "      <th>24483</th>\n",
       "      <td>충청북도 청주시 청원구</td>\n",
       "      <td>율중로29번길</td>\n",
       "      <td>이팝나무</td>\n",
       "      <td>36.660737</td>\n",
       "      <td>127.507589</td>\n",
       "    </tr>\n",
       "    <tr>\n",
       "      <th>24484</th>\n",
       "      <td>충청북도 청주시 청원구</td>\n",
       "      <td>율중로29번길</td>\n",
       "      <td>이팝나무</td>\n",
       "      <td>36.660249</td>\n",
       "      <td>127.507748</td>\n",
       "    </tr>\n",
       "    <tr>\n",
       "      <th>24485</th>\n",
       "      <td>충청북도 청주시 청원구</td>\n",
       "      <td>율중로29번길</td>\n",
       "      <td>이팝나무</td>\n",
       "      <td>36.660320</td>\n",
       "      <td>127.507725</td>\n",
       "    </tr>\n",
       "  </tbody>\n",
       "</table>\n",
       "<p>24486 rows × 5 columns</p>\n",
       "</div>"
      ],
      "text/plain": [
       "               시군구명    도로구간명   수종명        lat         lon\n",
       "0      충청북도 청주시 청원구     오창대로   벚나무  36.708975  127.481089\n",
       "1      충청북도 청주시 청원구     오창대로   벚나무  36.708883  127.480707\n",
       "2      충청북도 청주시 청원구     오창대로   벚나무  36.708996  127.481787\n",
       "3      충청북도 청주시 청원구     오창대로   벚나무  36.708625  127.480314\n",
       "4      충청북도 청주시 청원구     오창대로   벚나무  36.708993  127.481158\n",
       "...             ...      ...   ...        ...         ...\n",
       "24481  충청북도 청주시 청원구  율중로29번길  이팝나무  36.660599  127.507634\n",
       "24482  충청북도 청주시 청원구  율중로29번길  이팝나무  36.660668  127.507612\n",
       "24483  충청북도 청주시 청원구  율중로29번길  이팝나무  36.660737  127.507589\n",
       "24484  충청북도 청주시 청원구  율중로29번길  이팝나무  36.660249  127.507748\n",
       "24485  충청북도 청주시 청원구  율중로29번길  이팝나무  36.660320  127.507725\n",
       "\n",
       "[24486 rows x 5 columns]"
      ]
     },
     "execution_count": 5,
     "metadata": {},
     "output_type": "execute_result"
    }
   ],
   "source": [
    "street_tree_df = pd.read_csv('SBJ_2309_001/29.청주시_가로수현황.csv', encoding='UTF8')\n",
    "street_tree_df"
   ]
  },
  {
   "cell_type": "code",
   "execution_count": 6,
   "metadata": {},
   "outputs": [
    {
     "name": "stderr",
     "output_type": "stream",
     "text": [
      "c:\\Users\\HJK\\anaconda3\\envs\\GIS\\lib\\site-packages\\pyproj\\crs\\crs.py:141: FutureWarning: '+init=<authority>:<code>' syntax is deprecated. '<authority>:<code>' is the preferred initialization method. When making the change, be mindful of axis order changes: https://pyproj4.github.io/pyproj/stable/gotchas.html#axis-order-changes-in-proj-6\n",
      "  in_crs_string = _prepare_from_proj_string(in_crs_string)\n",
      "c:\\Users\\HJK\\anaconda3\\envs\\GIS\\lib\\site-packages\\pyproj\\crs\\crs.py:141: FutureWarning: '+init=<authority>:<code>' syntax is deprecated. '<authority>:<code>' is the preferred initialization method. When making the change, be mindful of axis order changes: https://pyproj4.github.io/pyproj/stable/gotchas.html#axis-order-changes-in-proj-6\n",
      "  in_crs_string = _prepare_from_proj_string(in_crs_string)\n"
     ]
    }
   ],
   "source": [
    "# 데이터프레임을 GeoPandas 데이터프레임으로 변환\n",
    "street_tree_df = geo_transform(street_tree_df)\n",
    "\n",
    "# crp_df에서 첫 번째 폴리곤 영역을 선택 = crp_df는 원도심 영역(도시재생 대상지역)\n",
    "polygon = crp_df['geometry'].iloc[0] # 또는 centroid_polygon_geometry\n",
    "\n",
    "# factory_df의 'geometry' 열을 사용하여 Point 객체를 필터링\n",
    "filtered_points_tree = street_tree_df[street_tree_df['geometry'].within(polygon)].reset_index(drop=True)"
   ]
  },
  {
   "cell_type": "code",
   "execution_count": null,
   "metadata": {},
   "outputs": [],
   "source": [
    "filtered_points_tree"
   ]
  },
  {
   "cell_type": "code",
   "execution_count": null,
   "metadata": {},
   "outputs": [],
   "source": [
    "from folium.plugins import MarkerCluster\n",
    "# Folium 지도 생성\n",
    "m = folium.Map(location=[36.627797, 127.511943], zoom_start=13, width='100%', height='100%')\n",
    "\n",
    "# 배경지도 타일 설정하기\n",
    "layer = \"Hybrid\"\n",
    "tileType = \"png\"\n",
    "tiles = f\"http://api.vworld.kr/req/wmts/1.0.0/{vworld_key}/{layer}/{{z}}/{{y}}/{{x}}.{tileType}\"\n",
    "attr = \"Vworld\"\n",
    "\n",
    "folium.TileLayer(\n",
    "    tiles=tiles,\n",
    "    attr=attr,\n",
    "    overlay=True,\n",
    "    control=True\n",
    ").add_to(m)\n",
    "\n",
    "# GeoJSON 데이터를 지도에 추가\n",
    "for index, row in filtered_points_tree.iterrows():\n",
    "    marker = folium.CircleMarker(\n",
    "        location=[row['lat'], row['lon']],\n",
    "        radius=5,\n",
    "        fill=True,\n",
    "    )\n",
    "    marker.add_to(m)\n",
    "\n",
    "# 지도 저장\n",
    "m"
   ]
  },
  {
   "attachments": {},
   "cell_type": "markdown",
   "metadata": {},
   "source": [
    "### 청주시 상세 도로망 시각화"
   ]
  },
  {
   "cell_type": "code",
   "execution_count": 9,
   "metadata": {},
   "outputs": [],
   "source": [
    "# GeoJSON 파일 불러오기\n",
    "with open('SBJ_2309_001/13.청주시_상세도로망.geojson', 'r') as geojson_file:\n",
    "    geojson_data = json.load(geojson_file)\n",
    "roadsystem_df = pd.json_normalize(geojson_data['features'])\n",
    "roadsystem_df['geometry'] = roadsystem_df['geometry.coordinates'].apply(lambda x : LineString(x))\n",
    "# roadsystem_df 데이터프레임을 GeoDataFrame으로 변환\n",
    "roadsystem_df = gpd.GeoDataFrame(roadsystem_df, geometry='geometry')"
   ]
  },
  {
   "cell_type": "code",
   "execution_count": null,
   "metadata": {},
   "outputs": [],
   "source": [
    "# crp_df에서 첫 번째 폴리곤 영역을 선택 = crp_df는 원도심 영역(도시재생 대상지역)\n",
    "polygon = crp_df['geometry'].iloc[0].centroid.buffer(0.02) # 또는 centroid_polygon_geometry\n",
    "\n",
    "# factory_df의 'geometry' 열을 사용하여 Point 객체를 필터링\n",
    "filtered_roadsystem = roadsystem_df[roadsystem_df['geometry'].within(polygon)].reset_index(drop=True)\n",
    "filtered_roadsystem"
   ]
  },
  {
   "cell_type": "code",
   "execution_count": null,
   "metadata": {},
   "outputs": [],
   "source": [
    "# 지도의 중심 좌표 설정\n",
    "m = folium.Map(location=[36.627797, 127.511943], zoom_start=12)\n",
    "\n",
    "# GeoDataFrame을 순회하면서 Polygon을 지도에 추가\n",
    "for idx, row in filtered_roadsystem.iterrows():\n",
    "    folium.GeoJson(\n",
    "        row['geometry'].__geo_interface__,\n",
    "        style_function=lambda feature, color='black': {'color': 'black', 'weight': 1}\n",
    "    ).add_to(m)\n",
    "    \n",
    "m"
   ]
  },
  {
   "attachments": {},
   "cell_type": "markdown",
   "metadata": {},
   "source": [
    "### 청주시 불법주정차"
   ]
  },
  {
   "cell_type": "code",
   "execution_count": 179,
   "metadata": {},
   "outputs": [
    {
     "name": "stderr",
     "output_type": "stream",
     "text": [
      "c:\\Users\\user\\anaconda3\\envs\\GIS\\lib\\site-packages\\pyproj\\crs\\crs.py:141: FutureWarning: '+init=<authority>:<code>' syntax is deprecated. '<authority>:<code>' is the preferred initialization method. When making the change, be mindful of axis order changes: https://pyproj4.github.io/pyproj/stable/gotchas.html#axis-order-changes-in-proj-6\n",
      "  in_crs_string = _prepare_from_proj_string(in_crs_string)\n",
      "c:\\Users\\user\\anaconda3\\envs\\GIS\\lib\\site-packages\\pyproj\\crs\\crs.py:141: FutureWarning: '+init=<authority>:<code>' syntax is deprecated. '<authority>:<code>' is the preferred initialization method. When making the change, be mindful of axis order changes: https://pyproj4.github.io/pyproj/stable/gotchas.html#axis-order-changes-in-proj-6\n",
      "  in_crs_string = _prepare_from_proj_string(in_crs_string)\n"
     ]
    },
    {
     "data": {
      "text/html": [
       "<div>\n",
       "<style scoped>\n",
       "    .dataframe tbody tr th:only-of-type {\n",
       "        vertical-align: middle;\n",
       "    }\n",
       "\n",
       "    .dataframe tbody tr th {\n",
       "        vertical-align: top;\n",
       "    }\n",
       "\n",
       "    .dataframe thead th {\n",
       "        text-align: right;\n",
       "    }\n",
       "</style>\n",
       "<table border=\"1\" class=\"dataframe\">\n",
       "  <thead>\n",
       "    <tr style=\"text-align: right;\">\n",
       "      <th></th>\n",
       "      <th>cd_type</th>\n",
       "      <th>cd_loc</th>\n",
       "      <th>cd_dong</th>\n",
       "      <th>cd_cnt</th>\n",
       "      <th>lon</th>\n",
       "      <th>lat</th>\n",
       "      <th>geometry</th>\n",
       "    </tr>\n",
       "  </thead>\n",
       "  <tbody>\n",
       "    <tr>\n",
       "      <th>0</th>\n",
       "      <td>고정형</td>\n",
       "      <td>상당로 남궁요양병원사거리부근1</td>\n",
       "      <td>문화동</td>\n",
       "      <td>13</td>\n",
       "      <td>127.490864</td>\n",
       "      <td>36.632164</td>\n",
       "      <td>POINT (127.49086 36.63216)</td>\n",
       "    </tr>\n",
       "    <tr>\n",
       "      <th>1</th>\n",
       "      <td>고정형</td>\n",
       "      <td>사직대로 대현지하상가나도약국부근</td>\n",
       "      <td>북문로1가</td>\n",
       "      <td>15</td>\n",
       "      <td>127.487698</td>\n",
       "      <td>36.636797</td>\n",
       "      <td>POINT (127.48770 36.63680)</td>\n",
       "    </tr>\n",
       "    <tr>\n",
       "      <th>2</th>\n",
       "      <td>고정형</td>\n",
       "      <td>사직대로 지하상가성안길입구부근</td>\n",
       "      <td>북문로2가</td>\n",
       "      <td>17</td>\n",
       "      <td>127.488849</td>\n",
       "      <td>36.636973</td>\n",
       "      <td>POINT (127.48885 36.63697)</td>\n",
       "    </tr>\n",
       "    <tr>\n",
       "      <th>3</th>\n",
       "      <td>고정형</td>\n",
       "      <td>상당로 도청사거리부근</td>\n",
       "      <td>북문로1가</td>\n",
       "      <td>20</td>\n",
       "      <td>127.490597</td>\n",
       "      <td>36.634411</td>\n",
       "      <td>POINT (127.49060 36.63441)</td>\n",
       "    </tr>\n",
       "    <tr>\n",
       "      <th>4</th>\n",
       "      <td>고정형</td>\n",
       "      <td>무심동로 육거리주차장부근</td>\n",
       "      <td>석교동</td>\n",
       "      <td>20</td>\n",
       "      <td>127.487675</td>\n",
       "      <td>36.627044</td>\n",
       "      <td>POINT (127.48768 36.62704)</td>\n",
       "    </tr>\n",
       "    <tr>\n",
       "      <th>5</th>\n",
       "      <td>고정형</td>\n",
       "      <td>청소년광장사거리부근</td>\n",
       "      <td>북문로2가</td>\n",
       "      <td>272</td>\n",
       "      <td>127.488643</td>\n",
       "      <td>36.639136</td>\n",
       "      <td>POINT (127.48864 36.63914)</td>\n",
       "    </tr>\n",
       "    <tr>\n",
       "      <th>6</th>\n",
       "      <td>고정형</td>\n",
       "      <td>홈플러스후문사거리부근</td>\n",
       "      <td>서문동</td>\n",
       "      <td>374</td>\n",
       "      <td>127.488256</td>\n",
       "      <td>36.635447</td>\n",
       "      <td>POINT (127.48826 36.63545)</td>\n",
       "    </tr>\n",
       "    <tr>\n",
       "      <th>7</th>\n",
       "      <td>고정형</td>\n",
       "      <td>상당로81번길 산업은행청주점부근</td>\n",
       "      <td>북문로1가</td>\n",
       "      <td>133</td>\n",
       "      <td>127.488747</td>\n",
       "      <td>36.635504</td>\n",
       "      <td>POINT (127.48875 36.63550)</td>\n",
       "    </tr>\n",
       "    <tr>\n",
       "      <th>8</th>\n",
       "      <td>고정형</td>\n",
       "      <td>사직대로350번길 청주상호저축은행부근</td>\n",
       "      <td>서문동</td>\n",
       "      <td>129</td>\n",
       "      <td>127.486397</td>\n",
       "      <td>36.634354</td>\n",
       "      <td>POINT (127.48640 36.63435)</td>\n",
       "    </tr>\n",
       "    <tr>\n",
       "      <th>9</th>\n",
       "      <td>고정형</td>\n",
       "      <td>교서로 청주공고부근</td>\n",
       "      <td>영동</td>\n",
       "      <td>52</td>\n",
       "      <td>127.486449</td>\n",
       "      <td>36.637435</td>\n",
       "      <td>POINT (127.48645 36.63744)</td>\n",
       "    </tr>\n",
       "    <tr>\n",
       "      <th>10</th>\n",
       "      <td>고정형</td>\n",
       "      <td>무심동로 서문대교삼거리부근</td>\n",
       "      <td>서문동</td>\n",
       "      <td>54</td>\n",
       "      <td>127.484107</td>\n",
       "      <td>36.635743</td>\n",
       "      <td>POINT (127.48411 36.63574)</td>\n",
       "    </tr>\n",
       "    <tr>\n",
       "      <th>11</th>\n",
       "      <td>고정형</td>\n",
       "      <td>사직대로350번길 중앙공원서문부근</td>\n",
       "      <td>서문동</td>\n",
       "      <td>44</td>\n",
       "      <td>127.486346</td>\n",
       "      <td>36.632588</td>\n",
       "      <td>POINT (127.48635 36.63259)</td>\n",
       "    </tr>\n",
       "    <tr>\n",
       "      <th>12</th>\n",
       "      <td>고정형</td>\n",
       "      <td>상당로69번길 청주시청별관부근</td>\n",
       "      <td>북문로1가</td>\n",
       "      <td>133</td>\n",
       "      <td>127.488298</td>\n",
       "      <td>36.634406</td>\n",
       "      <td>POINT (127.48830 36.63441)</td>\n",
       "    </tr>\n",
       "  </tbody>\n",
       "</table>\n",
       "</div>"
      ],
      "text/plain": [
       "   cd_type                cd_loc cd_dong  cd_cnt         lon        lat  \\\n",
       "0      고정형      상당로 남궁요양병원사거리부근1     문화동      13  127.490864  36.632164   \n",
       "1      고정형     사직대로 대현지하상가나도약국부근   북문로1가      15  127.487698  36.636797   \n",
       "2      고정형      사직대로 지하상가성안길입구부근   북문로2가      17  127.488849  36.636973   \n",
       "3      고정형           상당로 도청사거리부근   북문로1가      20  127.490597  36.634411   \n",
       "4      고정형         무심동로 육거리주차장부근     석교동      20  127.487675  36.627044   \n",
       "5      고정형            청소년광장사거리부근   북문로2가     272  127.488643  36.639136   \n",
       "6      고정형           홈플러스후문사거리부근     서문동     374  127.488256  36.635447   \n",
       "7      고정형     상당로81번길 산업은행청주점부근   북문로1가     133  127.488747  36.635504   \n",
       "8      고정형  사직대로350번길 청주상호저축은행부근     서문동     129  127.486397  36.634354   \n",
       "9      고정형            교서로 청주공고부근      영동      52  127.486449  36.637435   \n",
       "10     고정형        무심동로 서문대교삼거리부근     서문동      54  127.484107  36.635743   \n",
       "11     고정형    사직대로350번길 중앙공원서문부근     서문동      44  127.486346  36.632588   \n",
       "12     고정형      상당로69번길 청주시청별관부근   북문로1가     133  127.488298  36.634406   \n",
       "\n",
       "                      geometry  \n",
       "0   POINT (127.49086 36.63216)  \n",
       "1   POINT (127.48770 36.63680)  \n",
       "2   POINT (127.48885 36.63697)  \n",
       "3   POINT (127.49060 36.63441)  \n",
       "4   POINT (127.48768 36.62704)  \n",
       "5   POINT (127.48864 36.63914)  \n",
       "6   POINT (127.48826 36.63545)  \n",
       "7   POINT (127.48875 36.63550)  \n",
       "8   POINT (127.48640 36.63435)  \n",
       "9   POINT (127.48645 36.63744)  \n",
       "10  POINT (127.48411 36.63574)  \n",
       "11  POINT (127.48635 36.63259)  \n",
       "12  POINT (127.48830 36.63441)  "
      ]
     },
     "execution_count": 179,
     "metadata": {},
     "output_type": "execute_result"
    }
   ],
   "source": [
    "illegal_parking_df = pd.read_csv('SBJ_2309_001/14.청주시_불법주정차단속통계.csv')\n",
    "illegal_parking_df = geo_transform(illegal_parking_df)\n",
    "illegal_parking_df"
   ]
  },
  {
   "cell_type": "code",
   "execution_count": null,
   "metadata": {},
   "outputs": [],
   "source": [
    "# map 생성\n",
    "m = folium.Map(location=[36.627797, 127.511943],  zoom_start=12)\n",
    "\n",
    "# 배경지도 타일 설정하기\n",
    "layer = \"Hybrid\"\n",
    "tileType = \"png\"\n",
    "tiles = f\"http://api.vworld.kr/req/wmts/1.0.0/{vworld_key}/{layer}/{{z}}/{{y}}/{{x}}.{tileType}\"\n",
    "attr = \"Vworld\"\n",
    "\n",
    "folium.TileLayer(\n",
    "    tiles=tiles,\n",
    "    attr=attr,\n",
    "    overlay=True,\n",
    "    control=True\n",
    ").add_to(m)\n",
    "\n",
    "for _, row in illegal_parking_df.iterrows() :\n",
    "    popup_text = f\"{row['cd_loc']}({row['cd_dong']} - {row['cd_cnt']}건)\"\n",
    "    folium.Circle(location=(row['lat'], row['lon']), radius=30, color='#FF580B',\n",
    "            fill='#FF580B').add_to(m).add_child(folium.Popup(popup_text, max_width=200))\n",
    "    \n",
    "m"
   ]
  },
  {
   "attachments": {},
   "cell_type": "markdown",
   "metadata": {},
   "source": [
    "### 청주시 112신고 통계 (격자매핑 형식)"
   ]
  },
  {
   "cell_type": "code",
   "execution_count": 181,
   "metadata": {},
   "outputs": [
    {
     "name": "stderr",
     "output_type": "stream",
     "text": [
      "C:\\Users\\user\\AppData\\Local\\Temp\\ipykernel_2952\\1370399623.py:10: SettingWithCopyWarning: \n",
      "A value is trying to be set on a copy of a slice from a DataFrame.\n",
      "Try using .loc[row_indexer,col_indexer] = value instead\n",
      "\n",
      "See the caveats in the documentation: https://pandas.pydata.org/pandas-docs/stable/user_guide/indexing.html#returning-a-view-versus-a-copy\n",
      "  filtered_police_report['geometry'] = filtered_grid['geometry'].tolist()\n",
      "C:\\Users\\user\\AppData\\Local\\Temp\\ipykernel_2952\\1370399623.py:11: SettingWithCopyWarning: \n",
      "A value is trying to be set on a copy of a slice from a DataFrame\n",
      "\n",
      "See the caveats in the documentation: https://pandas.pydata.org/pandas-docs/stable/user_guide/indexing.html#returning-a-view-versus-a-copy\n",
      "  filtered_police_report.sort_values(by='repo_total', ascending=False, inplace=True)\n"
     ]
    },
    {
     "data": {
      "text/html": [
       "<div>\n",
       "<style scoped>\n",
       "    .dataframe tbody tr th:only-of-type {\n",
       "        vertical-align: middle;\n",
       "    }\n",
       "\n",
       "    .dataframe tbody tr th {\n",
       "        vertical-align: top;\n",
       "    }\n",
       "\n",
       "    .dataframe thead th {\n",
       "        text-align: right;\n",
       "    }\n",
       "</style>\n",
       "<table border=\"1\" class=\"dataframe\">\n",
       "  <thead>\n",
       "    <tr style=\"text-align: right;\">\n",
       "      <th></th>\n",
       "      <th>gid</th>\n",
       "      <th>repo_total</th>\n",
       "      <th>geometry</th>\n",
       "    </tr>\n",
       "  </thead>\n",
       "  <tbody>\n",
       "    <tr>\n",
       "      <th>0</th>\n",
       "      <td>다바989482</td>\n",
       "      <td>1519</td>\n",
       "      <td>POLYGON ((127.48769621544852 36.63168220843648...</td>\n",
       "    </tr>\n",
       "    <tr>\n",
       "      <th>1</th>\n",
       "      <td>다바988483</td>\n",
       "      <td>1510</td>\n",
       "      <td>POLYGON ((127.4865775332584 36.63258358652596,...</td>\n",
       "    </tr>\n",
       "    <tr>\n",
       "      <th>2</th>\n",
       "      <td>다바992477</td>\n",
       "      <td>1406</td>\n",
       "      <td>POLYGON ((127.49105231410148 36.62717501134686...</td>\n",
       "    </tr>\n",
       "    <tr>\n",
       "      <th>3</th>\n",
       "      <td>다바991478</td>\n",
       "      <td>953</td>\n",
       "      <td>POLYGON ((127.48993373614363 36.62807642164767...</td>\n",
       "    </tr>\n",
       "    <tr>\n",
       "      <th>4</th>\n",
       "      <td>다바990486</td>\n",
       "      <td>887</td>\n",
       "      <td>POLYGON ((127.4888142201003 36.635288313298695...</td>\n",
       "    </tr>\n",
       "    <tr>\n",
       "      <th>...</th>\n",
       "      <td>...</td>\n",
       "      <td>...</td>\n",
       "      <td>...</td>\n",
       "    </tr>\n",
       "    <tr>\n",
       "      <th>268</th>\n",
       "      <td>다바994489</td>\n",
       "      <td>2</td>\n",
       "      <td>POLYGON ((127.49328829744827 36.637993143918, ...</td>\n",
       "    </tr>\n",
       "    <tr>\n",
       "      <th>269</th>\n",
       "      <td>다바996484</td>\n",
       "      <td>2</td>\n",
       "      <td>POLYGON ((127.49552579225157 36.63348575733207...</td>\n",
       "    </tr>\n",
       "    <tr>\n",
       "      <th>270</th>\n",
       "      <td>다바984494</td>\n",
       "      <td>2</td>\n",
       "      <td>POLYGON ((127.48210108412849 36.64249947656094...</td>\n",
       "    </tr>\n",
       "    <tr>\n",
       "      <th>271</th>\n",
       "      <td>다바995485</td>\n",
       "      <td>1</td>\n",
       "      <td>POLYGON ((127.49440717516781 36.63438720867091...</td>\n",
       "    </tr>\n",
       "    <tr>\n",
       "      <th>272</th>\n",
       "      <td>다바996490</td>\n",
       "      <td>0</td>\n",
       "      <td>POLYGON ((127.49552547949207 36.63889474686325...</td>\n",
       "    </tr>\n",
       "  </tbody>\n",
       "</table>\n",
       "<p>273 rows × 3 columns</p>\n",
       "</div>"
      ],
      "text/plain": [
       "          gid  repo_total                                           geometry\n",
       "0    다바989482        1519  POLYGON ((127.48769621544852 36.63168220843648...\n",
       "1    다바988483        1510  POLYGON ((127.4865775332584 36.63258358652596,...\n",
       "2    다바992477        1406  POLYGON ((127.49105231410148 36.62717501134686...\n",
       "3    다바991478         953  POLYGON ((127.48993373614363 36.62807642164767...\n",
       "4    다바990486         887  POLYGON ((127.4888142201003 36.635288313298695...\n",
       "..        ...         ...                                                ...\n",
       "268  다바994489           2  POLYGON ((127.49328829744827 36.637993143918, ...\n",
       "269  다바996484           2  POLYGON ((127.49552579225157 36.63348575733207...\n",
       "270  다바984494           2  POLYGON ((127.48210108412849 36.64249947656094...\n",
       "271  다바995485           1  POLYGON ((127.49440717516781 36.63438720867091...\n",
       "272  다바996490           0  POLYGON ((127.49552547949207 36.63889474686325...\n",
       "\n",
       "[273 rows x 3 columns]"
      ]
     },
     "execution_count": 181,
     "metadata": {},
     "output_type": "execute_result"
    }
   ],
   "source": [
    "police_report_df = pd.read_csv('SBJ_2309_001/20.청주시_112신고통계.csv')\n",
    "# 5개년 신고건수 총합\n",
    "police_report_df['repo_total'] = police_report_df['repo_2018'] + police_report_df['repo_2019'] + police_report_df['repo_2020'] + police_report_df['repo_2021'] + police_report_df['repo_2022']\n",
    "police_report_df['repo_total'] = police_report_df['repo_total'].astype(int)\n",
    "police_report_df = police_report_df[['gid', 'repo_total']]\n",
    "\n",
    "#원도심 영역 grid id 리스트 로드 및 police_report_df 필터링\n",
    "grid_id = filtered_grid['properties.gid'].tolist()\n",
    "filtered_police_report = police_report_df[police_report_df['gid'].isin(grid_id)]\n",
    "filtered_police_report['geometry'] = filtered_grid['geometry'].tolist()\n",
    "filtered_police_report.sort_values(by='repo_total', ascending=False, inplace=True)\n",
    "filtered_police_report.reset_index(drop=True, inplace=True)\n",
    "filtered_police_report"
   ]
  },
  {
   "attachments": {},
   "cell_type": "markdown",
   "metadata": {},
   "source": [
    "#### 경찰신고수는 평균에 대해 얼마나 높은가를 구해서 시각화 해야할듯...?\n",
    "\n",
    "KeplerGl로 시각화 해보기"
   ]
  },
  {
   "cell_type": "code",
   "execution_count": 184,
   "metadata": {},
   "outputs": [
    {
     "data": {
      "text/plain": [
       "273"
      ]
     },
     "execution_count": 184,
     "metadata": {},
     "output_type": "execute_result"
    }
   ],
   "source": [
    "len(filtered_police_report)"
   ]
  },
  {
   "cell_type": "code",
   "execution_count": 186,
   "metadata": {},
   "outputs": [
    {
     "data": {
      "application/vnd.plotly.v1+json": {
       "config": {
        "plotlyServerURL": "https://plot.ly"
       },
       "data": [
        {
         "marker": {
          "color": [
           "green",
           "green",
           "green",
           "green",
           "green",
           "green",
           "green",
           "green",
           "green",
           "green",
           "green",
           "green",
           "green",
           "green",
           "green",
           "yellow",
           "yellow",
           "yellow",
           "yellow",
           "yellow",
           "yellow",
           "yellow",
           "yellow",
           "yellow",
           "yellow",
           "yellow",
           "yellow",
           "yellow",
           "yellow",
           "yellow",
           "yellow",
           "yellow",
           "yellow",
           "yellow",
           "yellow",
           "yellow",
           "yellow",
           "yellow",
           "yellow",
           "yellow",
           "yellow",
           "yellow",
           "yellow",
           "yellow",
           "yellow",
           "yellow",
           "yellow",
           "yellow",
           "yellow",
           "yellow",
           "yellow",
           "red",
           "red",
           "red",
           "red",
           "red",
           "red",
           "red",
           "red",
           "red",
           "red",
           "red",
           "red",
           "red",
           "red",
           "red",
           "red",
           "red",
           "red",
           "red",
           "red",
           "red",
           "red",
           "red",
           "red",
           "red",
           "red",
           "red",
           "red",
           "red",
           "red",
           "red",
           "red",
           "red",
           "red",
           "red",
           "red",
           "red",
           "red",
           "red",
           "red",
           "red",
           "red",
           "red",
           "red",
           "red",
           "red",
           "red",
           "red",
           "red",
           "red",
           "red",
           "red",
           "red",
           "red",
           "red",
           "red",
           "red",
           "red",
           "red",
           "red",
           "red",
           "red",
           "red",
           "red",
           "red",
           "red",
           "red",
           "red",
           "red",
           "red",
           "red",
           "red",
           "red",
           "red",
           "red",
           "red",
           "red",
           "red",
           "red",
           "red",
           "red",
           "red",
           "red",
           "red",
           "red",
           "red",
           "red",
           "red",
           "red",
           "red",
           "red",
           "red",
           "red",
           "red",
           "red",
           "red",
           "red",
           "red",
           "red",
           "red",
           "red",
           "red",
           "red",
           "red",
           "red",
           "red",
           "red",
           "red",
           "red",
           "red",
           "red",
           "red",
           "red",
           "red",
           "red",
           "red",
           "red",
           "red",
           "red",
           "red",
           "red",
           "red",
           "red",
           "red",
           "red",
           "red",
           "red",
           "red",
           "red",
           "red",
           "red",
           "red",
           "red",
           "red",
           "red",
           "red",
           "red",
           "red",
           "red",
           "red",
           "red",
           "red",
           "red",
           "red",
           "red",
           "red",
           "red",
           "red",
           "red",
           "red",
           "red",
           "red",
           "red",
           "red",
           "red",
           "red",
           "red",
           "red",
           "red",
           "red",
           "red",
           "red",
           "red",
           "red",
           "red",
           "red",
           "red",
           "red",
           "red",
           "red",
           "red",
           "red",
           "red",
           "red",
           "red",
           "red",
           "red",
           "red",
           "red",
           "red",
           "red",
           "red",
           "red",
           "red",
           "red",
           "red",
           "red",
           "red",
           "red",
           "red",
           "red",
           "red",
           "red",
           "red",
           "red",
           "red",
           "red",
           "red",
           "red",
           "red",
           "red",
           "red",
           "red",
           "red",
           "red",
           "red",
           "red",
           "red",
           "red",
           "red",
           "red",
           "red",
           "red",
           "red",
           "red",
           "red",
           "red",
           "red",
           "red",
           "red",
           "red",
           "red"
          ]
         },
         "nbinsx": 1000,
         "type": "histogram",
         "x": [
          1519,
          1510,
          1406,
          953,
          887,
          824,
          817,
          813,
          801,
          783,
          703,
          639,
          633,
          629,
          603,
          574,
          562,
          559,
          538,
          537,
          531,
          521,
          513,
          503,
          501,
          499,
          469,
          467,
          461,
          436,
          433,
          420,
          408,
          407,
          404,
          400,
          384,
          372,
          368,
          360,
          356,
          351,
          347,
          345,
          344,
          344,
          339,
          331,
          329,
          327,
          321,
          300,
          291,
          290,
          289,
          283,
          279,
          278,
          275,
          275,
          274,
          272,
          269,
          266,
          265,
          261,
          260,
          252,
          251,
          248,
          237,
          234,
          233,
          228,
          219,
          219,
          214,
          213,
          210,
          205,
          204,
          198,
          197,
          193,
          192,
          190,
          190,
          189,
          172,
          170,
          170,
          170,
          168,
          166,
          164,
          164,
          162,
          158,
          154,
          153,
          151,
          150,
          147,
          146,
          145,
          144,
          143,
          143,
          143,
          141,
          138,
          138,
          137,
          136,
          129,
          129,
          128,
          126,
          125,
          125,
          124,
          121,
          121,
          120,
          120,
          119,
          119,
          115,
          115,
          114,
          113,
          113,
          109,
          106,
          106,
          104,
          103,
          101,
          99,
          99,
          99,
          96,
          96,
          96,
          95,
          94,
          91,
          91,
          87,
          86,
          86,
          83,
          82,
          81,
          81,
          80,
          74,
          74,
          72,
          70,
          65,
          65,
          65,
          63,
          63,
          63,
          62,
          61,
          61,
          61,
          61,
          60,
          59,
          57,
          56,
          55,
          54,
          53,
          52,
          52,
          51,
          51,
          50,
          49,
          47,
          46,
          41,
          41,
          41,
          40,
          40,
          38,
          38,
          37,
          37,
          37,
          37,
          37,
          36,
          36,
          36,
          35,
          33,
          33,
          32,
          32,
          31,
          31,
          30,
          30,
          30,
          29,
          27,
          27,
          27,
          26,
          26,
          26,
          25,
          25,
          25,
          24,
          24,
          23,
          23,
          23,
          23,
          21,
          20,
          20,
          20,
          20,
          20,
          19,
          18,
          17,
          16,
          16,
          16,
          16,
          15,
          15,
          15,
          14,
          13,
          12,
          12,
          12,
          11,
          11,
          11,
          10,
          10,
          9,
          9,
          9,
          9,
          8,
          7,
          5,
          5,
          5,
          5,
          5,
          4,
          4,
          4,
          3,
          2,
          2,
          2,
          1,
          0
         ]
        }
       ],
       "layout": {
        "template": {
         "data": {
          "bar": [
           {
            "error_x": {
             "color": "#2a3f5f"
            },
            "error_y": {
             "color": "#2a3f5f"
            },
            "marker": {
             "line": {
              "color": "#E5ECF6",
              "width": 0.5
             },
             "pattern": {
              "fillmode": "overlay",
              "size": 10,
              "solidity": 0.2
             }
            },
            "type": "bar"
           }
          ],
          "barpolar": [
           {
            "marker": {
             "line": {
              "color": "#E5ECF6",
              "width": 0.5
             },
             "pattern": {
              "fillmode": "overlay",
              "size": 10,
              "solidity": 0.2
             }
            },
            "type": "barpolar"
           }
          ],
          "carpet": [
           {
            "aaxis": {
             "endlinecolor": "#2a3f5f",
             "gridcolor": "white",
             "linecolor": "white",
             "minorgridcolor": "white",
             "startlinecolor": "#2a3f5f"
            },
            "baxis": {
             "endlinecolor": "#2a3f5f",
             "gridcolor": "white",
             "linecolor": "white",
             "minorgridcolor": "white",
             "startlinecolor": "#2a3f5f"
            },
            "type": "carpet"
           }
          ],
          "choropleth": [
           {
            "colorbar": {
             "outlinewidth": 0,
             "ticks": ""
            },
            "type": "choropleth"
           }
          ],
          "contour": [
           {
            "colorbar": {
             "outlinewidth": 0,
             "ticks": ""
            },
            "colorscale": [
             [
              0,
              "#0d0887"
             ],
             [
              0.1111111111111111,
              "#46039f"
             ],
             [
              0.2222222222222222,
              "#7201a8"
             ],
             [
              0.3333333333333333,
              "#9c179e"
             ],
             [
              0.4444444444444444,
              "#bd3786"
             ],
             [
              0.5555555555555556,
              "#d8576b"
             ],
             [
              0.6666666666666666,
              "#ed7953"
             ],
             [
              0.7777777777777778,
              "#fb9f3a"
             ],
             [
              0.8888888888888888,
              "#fdca26"
             ],
             [
              1,
              "#f0f921"
             ]
            ],
            "type": "contour"
           }
          ],
          "contourcarpet": [
           {
            "colorbar": {
             "outlinewidth": 0,
             "ticks": ""
            },
            "type": "contourcarpet"
           }
          ],
          "heatmap": [
           {
            "colorbar": {
             "outlinewidth": 0,
             "ticks": ""
            },
            "colorscale": [
             [
              0,
              "#0d0887"
             ],
             [
              0.1111111111111111,
              "#46039f"
             ],
             [
              0.2222222222222222,
              "#7201a8"
             ],
             [
              0.3333333333333333,
              "#9c179e"
             ],
             [
              0.4444444444444444,
              "#bd3786"
             ],
             [
              0.5555555555555556,
              "#d8576b"
             ],
             [
              0.6666666666666666,
              "#ed7953"
             ],
             [
              0.7777777777777778,
              "#fb9f3a"
             ],
             [
              0.8888888888888888,
              "#fdca26"
             ],
             [
              1,
              "#f0f921"
             ]
            ],
            "type": "heatmap"
           }
          ],
          "heatmapgl": [
           {
            "colorbar": {
             "outlinewidth": 0,
             "ticks": ""
            },
            "colorscale": [
             [
              0,
              "#0d0887"
             ],
             [
              0.1111111111111111,
              "#46039f"
             ],
             [
              0.2222222222222222,
              "#7201a8"
             ],
             [
              0.3333333333333333,
              "#9c179e"
             ],
             [
              0.4444444444444444,
              "#bd3786"
             ],
             [
              0.5555555555555556,
              "#d8576b"
             ],
             [
              0.6666666666666666,
              "#ed7953"
             ],
             [
              0.7777777777777778,
              "#fb9f3a"
             ],
             [
              0.8888888888888888,
              "#fdca26"
             ],
             [
              1,
              "#f0f921"
             ]
            ],
            "type": "heatmapgl"
           }
          ],
          "histogram": [
           {
            "marker": {
             "pattern": {
              "fillmode": "overlay",
              "size": 10,
              "solidity": 0.2
             }
            },
            "type": "histogram"
           }
          ],
          "histogram2d": [
           {
            "colorbar": {
             "outlinewidth": 0,
             "ticks": ""
            },
            "colorscale": [
             [
              0,
              "#0d0887"
             ],
             [
              0.1111111111111111,
              "#46039f"
             ],
             [
              0.2222222222222222,
              "#7201a8"
             ],
             [
              0.3333333333333333,
              "#9c179e"
             ],
             [
              0.4444444444444444,
              "#bd3786"
             ],
             [
              0.5555555555555556,
              "#d8576b"
             ],
             [
              0.6666666666666666,
              "#ed7953"
             ],
             [
              0.7777777777777778,
              "#fb9f3a"
             ],
             [
              0.8888888888888888,
              "#fdca26"
             ],
             [
              1,
              "#f0f921"
             ]
            ],
            "type": "histogram2d"
           }
          ],
          "histogram2dcontour": [
           {
            "colorbar": {
             "outlinewidth": 0,
             "ticks": ""
            },
            "colorscale": [
             [
              0,
              "#0d0887"
             ],
             [
              0.1111111111111111,
              "#46039f"
             ],
             [
              0.2222222222222222,
              "#7201a8"
             ],
             [
              0.3333333333333333,
              "#9c179e"
             ],
             [
              0.4444444444444444,
              "#bd3786"
             ],
             [
              0.5555555555555556,
              "#d8576b"
             ],
             [
              0.6666666666666666,
              "#ed7953"
             ],
             [
              0.7777777777777778,
              "#fb9f3a"
             ],
             [
              0.8888888888888888,
              "#fdca26"
             ],
             [
              1,
              "#f0f921"
             ]
            ],
            "type": "histogram2dcontour"
           }
          ],
          "mesh3d": [
           {
            "colorbar": {
             "outlinewidth": 0,
             "ticks": ""
            },
            "type": "mesh3d"
           }
          ],
          "parcoords": [
           {
            "line": {
             "colorbar": {
              "outlinewidth": 0,
              "ticks": ""
             }
            },
            "type": "parcoords"
           }
          ],
          "pie": [
           {
            "automargin": true,
            "type": "pie"
           }
          ],
          "scatter": [
           {
            "fillpattern": {
             "fillmode": "overlay",
             "size": 10,
             "solidity": 0.2
            },
            "type": "scatter"
           }
          ],
          "scatter3d": [
           {
            "line": {
             "colorbar": {
              "outlinewidth": 0,
              "ticks": ""
             }
            },
            "marker": {
             "colorbar": {
              "outlinewidth": 0,
              "ticks": ""
             }
            },
            "type": "scatter3d"
           }
          ],
          "scattercarpet": [
           {
            "marker": {
             "colorbar": {
              "outlinewidth": 0,
              "ticks": ""
             }
            },
            "type": "scattercarpet"
           }
          ],
          "scattergeo": [
           {
            "marker": {
             "colorbar": {
              "outlinewidth": 0,
              "ticks": ""
             }
            },
            "type": "scattergeo"
           }
          ],
          "scattergl": [
           {
            "marker": {
             "colorbar": {
              "outlinewidth": 0,
              "ticks": ""
             }
            },
            "type": "scattergl"
           }
          ],
          "scattermapbox": [
           {
            "marker": {
             "colorbar": {
              "outlinewidth": 0,
              "ticks": ""
             }
            },
            "type": "scattermapbox"
           }
          ],
          "scatterpolar": [
           {
            "marker": {
             "colorbar": {
              "outlinewidth": 0,
              "ticks": ""
             }
            },
            "type": "scatterpolar"
           }
          ],
          "scatterpolargl": [
           {
            "marker": {
             "colorbar": {
              "outlinewidth": 0,
              "ticks": ""
             }
            },
            "type": "scatterpolargl"
           }
          ],
          "scatterternary": [
           {
            "marker": {
             "colorbar": {
              "outlinewidth": 0,
              "ticks": ""
             }
            },
            "type": "scatterternary"
           }
          ],
          "surface": [
           {
            "colorbar": {
             "outlinewidth": 0,
             "ticks": ""
            },
            "colorscale": [
             [
              0,
              "#0d0887"
             ],
             [
              0.1111111111111111,
              "#46039f"
             ],
             [
              0.2222222222222222,
              "#7201a8"
             ],
             [
              0.3333333333333333,
              "#9c179e"
             ],
             [
              0.4444444444444444,
              "#bd3786"
             ],
             [
              0.5555555555555556,
              "#d8576b"
             ],
             [
              0.6666666666666666,
              "#ed7953"
             ],
             [
              0.7777777777777778,
              "#fb9f3a"
             ],
             [
              0.8888888888888888,
              "#fdca26"
             ],
             [
              1,
              "#f0f921"
             ]
            ],
            "type": "surface"
           }
          ],
          "table": [
           {
            "cells": {
             "fill": {
              "color": "#EBF0F8"
             },
             "line": {
              "color": "white"
             }
            },
            "header": {
             "fill": {
              "color": "#C8D4E3"
             },
             "line": {
              "color": "white"
             }
            },
            "type": "table"
           }
          ]
         },
         "layout": {
          "annotationdefaults": {
           "arrowcolor": "#2a3f5f",
           "arrowhead": 0,
           "arrowwidth": 1
          },
          "autotypenumbers": "strict",
          "coloraxis": {
           "colorbar": {
            "outlinewidth": 0,
            "ticks": ""
           }
          },
          "colorscale": {
           "diverging": [
            [
             0,
             "#8e0152"
            ],
            [
             0.1,
             "#c51b7d"
            ],
            [
             0.2,
             "#de77ae"
            ],
            [
             0.3,
             "#f1b6da"
            ],
            [
             0.4,
             "#fde0ef"
            ],
            [
             0.5,
             "#f7f7f7"
            ],
            [
             0.6,
             "#e6f5d0"
            ],
            [
             0.7,
             "#b8e186"
            ],
            [
             0.8,
             "#7fbc41"
            ],
            [
             0.9,
             "#4d9221"
            ],
            [
             1,
             "#276419"
            ]
           ],
           "sequential": [
            [
             0,
             "#0d0887"
            ],
            [
             0.1111111111111111,
             "#46039f"
            ],
            [
             0.2222222222222222,
             "#7201a8"
            ],
            [
             0.3333333333333333,
             "#9c179e"
            ],
            [
             0.4444444444444444,
             "#bd3786"
            ],
            [
             0.5555555555555556,
             "#d8576b"
            ],
            [
             0.6666666666666666,
             "#ed7953"
            ],
            [
             0.7777777777777778,
             "#fb9f3a"
            ],
            [
             0.8888888888888888,
             "#fdca26"
            ],
            [
             1,
             "#f0f921"
            ]
           ],
           "sequentialminus": [
            [
             0,
             "#0d0887"
            ],
            [
             0.1111111111111111,
             "#46039f"
            ],
            [
             0.2222222222222222,
             "#7201a8"
            ],
            [
             0.3333333333333333,
             "#9c179e"
            ],
            [
             0.4444444444444444,
             "#bd3786"
            ],
            [
             0.5555555555555556,
             "#d8576b"
            ],
            [
             0.6666666666666666,
             "#ed7953"
            ],
            [
             0.7777777777777778,
             "#fb9f3a"
            ],
            [
             0.8888888888888888,
             "#fdca26"
            ],
            [
             1,
             "#f0f921"
            ]
           ]
          },
          "colorway": [
           "#636efa",
           "#EF553B",
           "#00cc96",
           "#ab63fa",
           "#FFA15A",
           "#19d3f3",
           "#FF6692",
           "#B6E880",
           "#FF97FF",
           "#FECB52"
          ],
          "font": {
           "color": "#2a3f5f"
          },
          "geo": {
           "bgcolor": "white",
           "lakecolor": "white",
           "landcolor": "#E5ECF6",
           "showlakes": true,
           "showland": true,
           "subunitcolor": "white"
          },
          "hoverlabel": {
           "align": "left"
          },
          "hovermode": "closest",
          "mapbox": {
           "style": "light"
          },
          "paper_bgcolor": "white",
          "plot_bgcolor": "#E5ECF6",
          "polar": {
           "angularaxis": {
            "gridcolor": "white",
            "linecolor": "white",
            "ticks": ""
           },
           "bgcolor": "#E5ECF6",
           "radialaxis": {
            "gridcolor": "white",
            "linecolor": "white",
            "ticks": ""
           }
          },
          "scene": {
           "xaxis": {
            "backgroundcolor": "#E5ECF6",
            "gridcolor": "white",
            "gridwidth": 2,
            "linecolor": "white",
            "showbackground": true,
            "ticks": "",
            "zerolinecolor": "white"
           },
           "yaxis": {
            "backgroundcolor": "#E5ECF6",
            "gridcolor": "white",
            "gridwidth": 2,
            "linecolor": "white",
            "showbackground": true,
            "ticks": "",
            "zerolinecolor": "white"
           },
           "zaxis": {
            "backgroundcolor": "#E5ECF6",
            "gridcolor": "white",
            "gridwidth": 2,
            "linecolor": "white",
            "showbackground": true,
            "ticks": "",
            "zerolinecolor": "white"
           }
          },
          "shapedefaults": {
           "line": {
            "color": "#2a3f5f"
           }
          },
          "ternary": {
           "aaxis": {
            "gridcolor": "white",
            "linecolor": "white",
            "ticks": ""
           },
           "baxis": {
            "gridcolor": "white",
            "linecolor": "white",
            "ticks": ""
           },
           "bgcolor": "#E5ECF6",
           "caxis": {
            "gridcolor": "white",
            "linecolor": "white",
            "ticks": ""
           }
          },
          "title": {
           "x": 0.05
          },
          "xaxis": {
           "automargin": true,
           "gridcolor": "white",
           "linecolor": "white",
           "ticks": "",
           "title": {
            "standoff": 15
           },
           "zerolinecolor": "white",
           "zerolinewidth": 2
          },
          "yaxis": {
           "automargin": true,
           "gridcolor": "white",
           "linecolor": "white",
           "ticks": "",
           "title": {
            "standoff": 15
           },
           "zerolinecolor": "white",
           "zerolinewidth": 2
          }
         }
        },
        "title": {
         "text": "report_count_histogram"
        },
        "xaxis": {
         "title": {
          "text": "report_count"
         }
        },
        "yaxis": {
         "title": {
          "text": "count"
         }
        }
       }
      }
     },
     "metadata": {},
     "output_type": "display_data"
    }
   ],
   "source": [
    "# 데이터프레임에서 데이터 추출\n",
    "lst = filtered_police_report['repo_total']\n",
    "\n",
    "# 조건에 따라 각 막대의 색상을 설정\n",
    "colors = ['green' if x > 600 else 'yellow' if x > 300 else 'red' for x in lst]\n",
    "\n",
    "# 히스토그램을 생성\n",
    "fig = go.Figure(go.Histogram(x=lst, marker_color=colors, nbinsx=1000))\n",
    "\n",
    "# 레이아웃 설정\n",
    "fig.update_xaxes(title_text='report_count')\n",
    "fig.update_yaxes(title_text='count')\n",
    "fig.update_layout(title_text='report_count_histogram')\n",
    "\n",
    "# 플롯리 그래프 보이기\n",
    "fig.show()"
   ]
  },
  {
   "cell_type": "code",
   "execution_count": null,
   "metadata": {},
   "outputs": [],
   "source": [
    "# map 생성\n",
    "m = folium.Map(location=[36.627797, 127.511943],  zoom_start=12)\n",
    "\n",
    "# 배경지도 타일 설정하기\n",
    "layer = \"Hybrid\"\n",
    "tileType = \"png\"\n",
    "tiles = f\"http://api.vworld.kr/req/wmts/1.0.0/{vworld_key}/{layer}/{{z}}/{{y}}/{{x}}.{tileType}\"\n",
    "attr = \"Vworld\"\n",
    "\n",
    "folium.TileLayer(\n",
    "    tiles=tiles,\n",
    "    attr=attr,\n",
    "    overlay=True,\n",
    "    control=True\n",
    ").add_to(m)\n",
    "\n",
    "# 신고건수에 따라 색상을 지정하는 함수\n",
    "def color_producer(repo_total):\n",
    "    if repo_total < 300:\n",
    "        return 'green'\n",
    "    elif 300 <= repo_total < 800:\n",
    "        return 'yellow'\n",
    "    else:\n",
    "        return 'red'\n",
    "        \n",
    "for _, row in filtered_police_report.iterrows() :\n",
    "    popup_text = f\"격자:{row['gid']}(신고건수 - {row['repo_total']}건)\"\n",
    "    color = color_producer(row['repo_total'])\n",
    "    folium.GeoJson(\n",
    "        row['geometry'].__geo_interface__,\n",
    "        style_function=lambda feature, color=color: {\n",
    "            'fillColor': color,\n",
    "            'color': 'black',\n",
    "            'weight': 0.2}\n",
    "    ).add_to(m).add_child(folium.Popup(popup_text, max_width=100))\n",
    "m"
   ]
  },
  {
   "attachments": {},
   "cell_type": "markdown",
   "metadata": {},
   "source": [
    "### 청주시 카드매출 (격자매핑)"
   ]
  },
  {
   "attachments": {},
   "cell_type": "markdown",
   "metadata": {},
   "source": [
    "KB국민카드 데이터를 활용하기 보다는 총 매출 추정금액을 활용하는 것이 더 효율적일 것으로 예상됨"
   ]
  },
  {
   "cell_type": "code",
   "execution_count": 56,
   "metadata": {},
   "outputs": [
    {
     "name": "stderr",
     "output_type": "stream",
     "text": [
      "C:\\Users\\user\\AppData\\Local\\Temp\\ipykernel_2952\\4040690819.py:10: SettingWithCopyWarning: \n",
      "A value is trying to be set on a copy of a slice from a DataFrame.\n",
      "Try using .loc[row_indexer,col_indexer] = value instead\n",
      "\n",
      "See the caveats in the documentation: https://pandas.pydata.org/pandas-docs/stable/user_guide/indexing.html#returning-a-view-versus-a-copy\n",
      "  filtered_cardsales['est_sales'] = filtered_cardsales.apply(lambda row: row['card_sales'] if row['est_sales'] == 0 else row['est_sales'], axis=1)\n"
     ]
    },
    {
     "data": {
      "text/html": [
       "<div>\n",
       "<style scoped>\n",
       "    .dataframe tbody tr th:only-of-type {\n",
       "        vertical-align: middle;\n",
       "    }\n",
       "\n",
       "    .dataframe tbody tr th {\n",
       "        vertical-align: top;\n",
       "    }\n",
       "\n",
       "    .dataframe thead th {\n",
       "        text-align: right;\n",
       "    }\n",
       "</style>\n",
       "<table border=\"1\" class=\"dataframe\">\n",
       "  <thead>\n",
       "    <tr style=\"text-align: right;\">\n",
       "      <th></th>\n",
       "      <th>stdr_ym</th>\n",
       "      <th>kbc_bzc_nm_1</th>\n",
       "      <th>kbc_bzc_nm_2</th>\n",
       "      <th>kbc_bzc_nm_3</th>\n",
       "      <th>card_sales</th>\n",
       "      <th>est_sales</th>\n",
       "      <th>gid</th>\n",
       "    </tr>\n",
       "  </thead>\n",
       "  <tbody>\n",
       "    <tr>\n",
       "      <th>0</th>\n",
       "      <td>202305</td>\n",
       "      <td>서비스</td>\n",
       "      <td>(정기)납부/대여서비스</td>\n",
       "      <td>미디어/음향</td>\n",
       "      <td>989000</td>\n",
       "      <td>18995000</td>\n",
       "      <td>다바989487</td>\n",
       "    </tr>\n",
       "    <tr>\n",
       "      <th>1</th>\n",
       "      <td>202305</td>\n",
       "      <td>서비스</td>\n",
       "      <td>(정기)납부/대여서비스</td>\n",
       "      <td>도서/음반대여</td>\n",
       "      <td>54000</td>\n",
       "      <td>844000</td>\n",
       "      <td>다바989487</td>\n",
       "    </tr>\n",
       "    <tr>\n",
       "      <th>2</th>\n",
       "      <td>202305</td>\n",
       "      <td>서비스</td>\n",
       "      <td>의료서비스</td>\n",
       "      <td>한의원</td>\n",
       "      <td>5019200</td>\n",
       "      <td>83333000</td>\n",
       "      <td>다바992490</td>\n",
       "    </tr>\n",
       "    <tr>\n",
       "      <th>3</th>\n",
       "      <td>202305</td>\n",
       "      <td>소매업</td>\n",
       "      <td>의류</td>\n",
       "      <td>여성의류</td>\n",
       "      <td>1600000</td>\n",
       "      <td>25979000</td>\n",
       "      <td>다바990484</td>\n",
       "    </tr>\n",
       "    <tr>\n",
       "      <th>4</th>\n",
       "      <td>202305</td>\n",
       "      <td>소매업</td>\n",
       "      <td>패션잡화</td>\n",
       "      <td>구두제화</td>\n",
       "      <td>103500</td>\n",
       "      <td>3315000</td>\n",
       "      <td>다바989483</td>\n",
       "    </tr>\n",
       "    <tr>\n",
       "      <th>...</th>\n",
       "      <td>...</td>\n",
       "      <td>...</td>\n",
       "      <td>...</td>\n",
       "      <td>...</td>\n",
       "      <td>...</td>\n",
       "      <td>...</td>\n",
       "      <td>...</td>\n",
       "    </tr>\n",
       "    <tr>\n",
       "      <th>13006</th>\n",
       "      <td>202306</td>\n",
       "      <td>소매업</td>\n",
       "      <td>의류</td>\n",
       "      <td>일반의류(기타)</td>\n",
       "      <td>1657400</td>\n",
       "      <td>1657400</td>\n",
       "      <td>다바990481</td>\n",
       "    </tr>\n",
       "    <tr>\n",
       "      <th>13007</th>\n",
       "      <td>202305</td>\n",
       "      <td>음식</td>\n",
       "      <td>커피/음료</td>\n",
       "      <td>커피전문점</td>\n",
       "      <td>98200</td>\n",
       "      <td>98200</td>\n",
       "      <td>다바987489</td>\n",
       "    </tr>\n",
       "    <tr>\n",
       "      <th>13008</th>\n",
       "      <td>202306</td>\n",
       "      <td>소매업</td>\n",
       "      <td>패션잡화</td>\n",
       "      <td>액세서리</td>\n",
       "      <td>109010</td>\n",
       "      <td>109010</td>\n",
       "      <td>다바988486</td>\n",
       "    </tr>\n",
       "    <tr>\n",
       "      <th>13009</th>\n",
       "      <td>202305</td>\n",
       "      <td>음식</td>\n",
       "      <td>기타외국식</td>\n",
       "      <td>쌀국수전문점</td>\n",
       "      <td>8000</td>\n",
       "      <td>8000</td>\n",
       "      <td>다바991482</td>\n",
       "    </tr>\n",
       "    <tr>\n",
       "      <th>13010</th>\n",
       "      <td>202306</td>\n",
       "      <td>음식</td>\n",
       "      <td>한식</td>\n",
       "      <td>홍어전문점</td>\n",
       "      <td>52000</td>\n",
       "      <td>52000</td>\n",
       "      <td>다바988491</td>\n",
       "    </tr>\n",
       "  </tbody>\n",
       "</table>\n",
       "<p>12674 rows × 7 columns</p>\n",
       "</div>"
      ],
      "text/plain": [
       "       stdr_ym kbc_bzc_nm_1  kbc_bzc_nm_2 kbc_bzc_nm_3  card_sales  est_sales  \\\n",
       "0       202305          서비스  (정기)납부/대여서비스       미디어/음향      989000   18995000   \n",
       "1       202305          서비스  (정기)납부/대여서비스      도서/음반대여       54000     844000   \n",
       "2       202305          서비스         의료서비스          한의원     5019200   83333000   \n",
       "3       202305          소매업            의류         여성의류     1600000   25979000   \n",
       "4       202305          소매업          패션잡화         구두제화      103500    3315000   \n",
       "...        ...          ...           ...          ...         ...        ...   \n",
       "13006   202306          소매업            의류     일반의류(기타)     1657400    1657400   \n",
       "13007   202305           음식         커피/음료        커피전문점       98200      98200   \n",
       "13008   202306          소매업          패션잡화         액세서리      109010     109010   \n",
       "13009   202305           음식         기타외국식       쌀국수전문점        8000       8000   \n",
       "13010   202306           음식            한식        홍어전문점       52000      52000   \n",
       "\n",
       "            gid  \n",
       "0      다바989487  \n",
       "1      다바989487  \n",
       "2      다바992490  \n",
       "3      다바990484  \n",
       "4      다바989483  \n",
       "...         ...  \n",
       "13006  다바990481  \n",
       "13007  다바987489  \n",
       "13008  다바988486  \n",
       "13009  다바991482  \n",
       "13010  다바988491  \n",
       "\n",
       "[12674 rows x 7 columns]"
      ]
     },
     "execution_count": 56,
     "metadata": {},
     "output_type": "execute_result"
    }
   ],
   "source": [
    "cardsales_df = pd.read_csv('SBJ_2309_001/19.청주시_카드매출_격자매핑.csv')\n",
    "cardsales_df.dropna(inplace=True)\n",
    "cardsales_df.reset_index(drop=True, inplace=True)\n",
    "cardsales_df['est_sales'] = (cardsales_df['est_sales'] * 1000).astype(int)\n",
    "cardsales_df\n",
    "#원도심 영역 grid id 리스트 로드 및 police_report_df 필터링\n",
    "grid_id = filtered_grid['properties.gid'].tolist()\n",
    "filtered_cardsales = cardsales_df[cardsales_df['gid'].isin(grid_id)]\n",
    "# 'est_sales' 열의 값이 0인 행을 'card_sales' 값으로 채우기\n",
    "filtered_cardsales['est_sales'] = filtered_cardsales.apply(lambda row: row['card_sales'] if row['est_sales'] == 0 else row['est_sales'], axis=1)\n",
    "filtered_cardsales"
   ]
  },
  {
   "cell_type": "code",
   "execution_count": 57,
   "metadata": {},
   "outputs": [],
   "source": [
    "# 격자 id : 격자 폴리곤 매핑 딕셔너리\n",
    "map_dic = {}\n",
    "for _, row in filtered_grid.iterrows():\n",
    "    map_dic[row['properties.gid']] = row['geometry']"
   ]
  },
  {
   "cell_type": "code",
   "execution_count": 58,
   "metadata": {},
   "outputs": [
    {
     "name": "stderr",
     "output_type": "stream",
     "text": [
      "C:\\Users\\user\\AppData\\Local\\Temp\\ipykernel_2952\\1955721771.py:4: SettingWithCopyWarning: \n",
      "A value is trying to be set on a copy of a slice from a DataFrame.\n",
      "Try using .loc[row_indexer,col_indexer] = value instead\n",
      "\n",
      "See the caveats in the documentation: https://pandas.pydata.org/pandas-docs/stable/user_guide/indexing.html#returning-a-view-versus-a-copy\n",
      "  filtered_cardsales['geometry'] = geometry_lst\n"
     ]
    }
   ],
   "source": [
    "geometry_lst = []\n",
    "for _, row in filtered_cardsales.iterrows():\n",
    "    geometry_lst.append(map_dic[row['gid']])\n",
    "filtered_cardsales['geometry'] = geometry_lst"
   ]
  },
  {
   "cell_type": "code",
   "execution_count": null,
   "metadata": {},
   "outputs": [],
   "source": [
    "filtered_cardsales_month"
   ]
  },
  {
   "cell_type": "code",
   "execution_count": 151,
   "metadata": {},
   "outputs": [],
   "source": [
    "# 'gid' 값을 기준으로 그룹화하고 'est_sales' 합계 리스트 미리 생성, 상위 33%, 중위 33%, 하위 33%의 임계값 탐색\n",
    "est_lst = []\n",
    "\n",
    "for gid in filtered_cardsales_month['gid'].unique():\n",
    "    subset = filtered_cardsales_month[filtered_cardsales_month['gid'] == gid].copy()\n",
    "    subset['kbc_total'] = subset.iloc[:, 1] + ' - ' +  subset.iloc[:, 3]\n",
    "    est_sales_sum = subset['est_sales'].sum()\n",
    "    est_lst.append(est_sales_sum)\n",
    "\n",
    "# 데이터를 정렬\n",
    "sorted_sales = sorted(est_lst)\n",
    "\n",
    "# 상위 33%, 중위 33%, 하위 33%의 임계값을 찾음\n",
    "num_data_points = len(est_lst)\n",
    "\n",
    "# 하위 33%와 상위 33%에 해당하는 임계값 계산\n",
    "lower_threshold = sorted_sales[int(len(sorted_sales) * 0.33)]\n",
    "upper_threshold = sorted_sales[int(len(sorted_sales) * 0.67)]\n",
    "\n",
    "#  매출 액수에 따라 색상을 지정하는 함수\n",
    "def color_picker(est_sales_sum):\n",
    "    if est_sales_sum < lower_threshold:\n",
    "        return 'green'\n",
    "    elif lower_threshold <= est_sales_sum < upper_threshold:\n",
    "        return 'yellow'\n",
    "    else:\n",
    "        return 'red'"
   ]
  },
  {
   "cell_type": "code",
   "execution_count": null,
   "metadata": {},
   "outputs": [],
   "source": [
    "filtered_cardsales_month = filtered_cardsales[filtered_cardsales['stdr_ym'] == 202302]\n",
    "\n",
    "# 범례 생성\n",
    "legend_html = \"\"\"\n",
    "     <div style=\"position: fixed; \n",
    "     top: 50px; right: 50px; width: 500px; height: 125px; \n",
    "     border:2px solid grey; z-index:9999; font-size:14px;\n",
    "     background-color: rgba(255, 255, 255, 0.8);\n",
    "     \"><br> &nbsp; 총매출 범례 <br>\n",
    "     &nbsp; <i style=\"background:red\">&nbsp;</i>&nbsp; 총매출 상위 33% ({1:,}원 이상)<br>\n",
    "     &nbsp; <i style=\"background:yellow\">&nbsp;</i>&nbsp; 총매출 중위 33% ({0:,}원 이상 & {1:,}원 미만)<br>\n",
    "     &nbsp; <i style=\"background:green\">&nbsp;</i>&nbsp; 총매출 하위 33% ({0:,}원 이하)<br>\n",
    "     </div>\n",
    "     \"\"\".format(lower_threshold, upper_threshold)\n",
    "\n",
    "# map 생성\n",
    "m = folium.Map(location=[36.627797, 127.511943],  zoom_start=13)\n",
    "\n",
    "# 배경지도 타일 설정하기\n",
    "layer = \"Hybrid\"\n",
    "tileType = \"png\"\n",
    "tiles = f\"http://api.vworld.kr/req/wmts/1.0.0/{vworld_key}/{layer}/{{z}}/{{y}}/{{x}}.{tileType}\"\n",
    "attr = \"Vworld\"\n",
    "\n",
    "folium.TileLayer(\n",
    "    tiles=tiles,\n",
    "    attr=attr,\n",
    "    overlay=True,\n",
    "    control=True\n",
    ").add_to(m)\n",
    "\n",
    "# 'gid' 값을 기준으로 그룹화\n",
    "for gid in filtered_cardsales_month['gid'].unique():\n",
    "    subset = filtered_cardsales_month[filtered_cardsales_month['gid'] == gid].copy()\n",
    "    subset['kbc_total'] = subset.iloc[:, 1] + ' - ' +  subset.iloc[:, 3]\n",
    "    est_sales_sum = subset['est_sales'].sum()\n",
    "    \n",
    "    # 매출 데이터를 3자리마다 쉼표로 구분하고 \"원\"을 추가\n",
    "    subset['카테고리'] = subset['kbc_total'].copy()\n",
    "    subset['총매출'] = subset['est_sales'].apply(lambda x: f'{x:,}원')\n",
    "        \n",
    "    # subset_popup 데이터프레임을 HTML로 변환하여 popup text에 저장\n",
    "    subset_popup = subset[['카테고리', '총매출']].style.hide(axis='index').set_properties(**{'border': '1px solid black'}).to_html()\n",
    "    popup_text = f\"격자 ID - {gid}<br>총매출 - {est_sales_sum:,}원<br><br><div style='max-height: 200px; max-width: 700px; overflow-y: auto;'>{subset_popup}</div>\"\n",
    "    color = color_picker(est_sales_sum)\n",
    "    folium.GeoJson(\n",
    "        filtered_cardsales_month[filtered_cardsales_month['gid'] == gid]['geometry'].iloc[0],\n",
    "        style_function=lambda feature, color=color: {\n",
    "            'fillColor': color,\n",
    "            'color': 'black',\n",
    "            'weight': 0.5}\n",
    "    ).add_to(m).add_child(folium.Popup(popup_text, max_width=1200))\n",
    "\n",
    "# 범례 추가\n",
    "m.get_root().html.add_child(folium.Element(legend_html))\n",
    "\n",
    "m"
   ]
  },
  {
   "attachments": {},
   "cell_type": "markdown",
   "metadata": {},
   "source": [
    "### 청주시 도로명주소(건물 + 도로)"
   ]
  },
  {
   "cell_type": "code",
   "execution_count": 53,
   "metadata": {},
   "outputs": [],
   "source": [
    "# GeoJSON 파일 불러오기\n",
    "with open('SBJ_2309_001/15.청주시_도로명주소(건물).geojson', 'r') as geojson_file:\n",
    "    geojson_data = json.load(geojson_file)\n",
    "roadname_building_df = pd.json_normalize(geojson_data['features'])\n",
    "roadname_building_df = roadname_building_df[['properties.BD_MGT_SN', 'properties.GRO_FLO_CO', 'properties.UND_FLO_CO', 'geometry.coordinates']]\n",
    "roadname_building_df['properties.GRO_FLO_CO'] = roadname_building_df['properties.GRO_FLO_CO'].astype(int)\n",
    "roadname_building_df['properties.UND_FLO_CO'] = roadname_building_df['properties.UND_FLO_CO'].astype(int)\n",
    "roadname_building_df['geometry'] = roadname_building_df['geometry.coordinates'].apply(lambda x : make_pol(x))"
   ]
  },
  {
   "cell_type": "code",
   "execution_count": null,
   "metadata": {},
   "outputs": [],
   "source": [
    "roadname_building_df"
   ]
  },
  {
   "cell_type": "code",
   "execution_count": 54,
   "metadata": {},
   "outputs": [
    {
     "data": {
      "text/html": [
       "<div>\n",
       "<style scoped>\n",
       "    .dataframe tbody tr th:only-of-type {\n",
       "        vertical-align: middle;\n",
       "    }\n",
       "\n",
       "    .dataframe tbody tr th {\n",
       "        vertical-align: top;\n",
       "    }\n",
       "\n",
       "    .dataframe thead th {\n",
       "        text-align: right;\n",
       "    }\n",
       "</style>\n",
       "<table border=\"1\" class=\"dataframe\">\n",
       "  <thead>\n",
       "    <tr style=\"text-align: right;\">\n",
       "      <th></th>\n",
       "      <th>properties.BD_MGT_SN</th>\n",
       "      <th>properties.GRO_FLO_CO</th>\n",
       "      <th>properties.UND_FLO_CO</th>\n",
       "      <th>geometry.coordinates</th>\n",
       "      <th>geometry</th>\n",
       "    </tr>\n",
       "  </thead>\n",
       "  <tbody>\n",
       "    <tr>\n",
       "      <th>0</th>\n",
       "      <td>4311110100100600000061755</td>\n",
       "      <td>5</td>\n",
       "      <td>0</td>\n",
       "      <td>[[[127.48694447846057, 36.6400016341025], [127...</td>\n",
       "      <td>POLYGON ((127.48694 36.64000, 127.48694 36.639...</td>\n",
       "    </tr>\n",
       "    <tr>\n",
       "      <th>1</th>\n",
       "      <td>4311110100100550002032236</td>\n",
       "      <td>1</td>\n",
       "      <td>0</td>\n",
       "      <td>[[[127.48632680823786, 36.64052917039099], [12...</td>\n",
       "      <td>POLYGON ((127.48633 36.64053, 127.48633 36.640...</td>\n",
       "    </tr>\n",
       "    <tr>\n",
       "      <th>2</th>\n",
       "      <td>4311110100100560003032233</td>\n",
       "      <td>2</td>\n",
       "      <td>0</td>\n",
       "      <td>[[[127.48655786043167, 36.640535159309565], [1...</td>\n",
       "      <td>POLYGON ((127.48656 36.64054, 127.48646 36.640...</td>\n",
       "    </tr>\n",
       "    <tr>\n",
       "      <th>3</th>\n",
       "      <td>4311110100100560003071386</td>\n",
       "      <td>1</td>\n",
       "      <td>0</td>\n",
       "      <td>[[[127.48653912832565, 36.640421876670125], [1...</td>\n",
       "      <td>POLYGON ((127.48654 36.64042, 127.48646 36.640...</td>\n",
       "    </tr>\n",
       "    <tr>\n",
       "      <th>4</th>\n",
       "      <td>4311110100100560002032235</td>\n",
       "      <td>3</td>\n",
       "      <td>0</td>\n",
       "      <td>[[[127.48657086929198, 36.64041777756533], [12...</td>\n",
       "      <td>POLYGON ((127.48657 36.64042, 127.48656 36.640...</td>\n",
       "    </tr>\n",
       "    <tr>\n",
       "      <th>...</th>\n",
       "      <td>...</td>\n",
       "      <td>...</td>\n",
       "      <td>...</td>\n",
       "      <td>...</td>\n",
       "      <td>...</td>\n",
       "    </tr>\n",
       "    <tr>\n",
       "      <th>3184</th>\n",
       "      <td>4311110800100300004000001</td>\n",
       "      <td>4</td>\n",
       "      <td>0</td>\n",
       "      <td>[[[127.49253748307129, 36.63019961400344], [12...</td>\n",
       "      <td>POLYGON ((127.49254 36.63020, 127.49279 36.630...</td>\n",
       "    </tr>\n",
       "    <tr>\n",
       "      <th>3185</th>\n",
       "      <td>4311110100100040003046395</td>\n",
       "      <td>1</td>\n",
       "      <td>0</td>\n",
       "      <td>[[[127.48581567013639, 36.644730907282785], [1...</td>\n",
       "      <td>POLYGON ((127.48582 36.64473, 127.48588 36.644...</td>\n",
       "    </tr>\n",
       "    <tr>\n",
       "      <th>3186</th>\n",
       "      <td>4311110800100590001049620</td>\n",
       "      <td>5</td>\n",
       "      <td>0</td>\n",
       "      <td>[[[127.49155463874942, 36.63035531760507], [12...</td>\n",
       "      <td>POLYGON ((127.49155 36.63036, 127.49155 36.630...</td>\n",
       "    </tr>\n",
       "    <tr>\n",
       "      <th>3187</th>\n",
       "      <td>4311110900101650001000001</td>\n",
       "      <td>3</td>\n",
       "      <td>0</td>\n",
       "      <td>[[[127.48496189891529, 36.63447898239693], [12...</td>\n",
       "      <td>POLYGON ((127.48496 36.63448, 127.48514 36.634...</td>\n",
       "    </tr>\n",
       "    <tr>\n",
       "      <th>3188</th>\n",
       "      <td>4311110900101090001047611</td>\n",
       "      <td>1</td>\n",
       "      <td>0</td>\n",
       "      <td>[[[127.4873650606687, 36.63345885043115], [127...</td>\n",
       "      <td>POLYGON ((127.48737 36.63346, 127.48747 36.633...</td>\n",
       "    </tr>\n",
       "  </tbody>\n",
       "</table>\n",
       "<p>3189 rows × 5 columns</p>\n",
       "</div>"
      ],
      "text/plain": [
       "           properties.BD_MGT_SN  properties.GRO_FLO_CO  properties.UND_FLO_CO  \\\n",
       "0     4311110100100600000061755                      5                      0   \n",
       "1     4311110100100550002032236                      1                      0   \n",
       "2     4311110100100560003032233                      2                      0   \n",
       "3     4311110100100560003071386                      1                      0   \n",
       "4     4311110100100560002032235                      3                      0   \n",
       "...                         ...                    ...                    ...   \n",
       "3184  4311110800100300004000001                      4                      0   \n",
       "3185  4311110100100040003046395                      1                      0   \n",
       "3186  4311110800100590001049620                      5                      0   \n",
       "3187  4311110900101650001000001                      3                      0   \n",
       "3188  4311110900101090001047611                      1                      0   \n",
       "\n",
       "                                   geometry.coordinates  \\\n",
       "0     [[[127.48694447846057, 36.6400016341025], [127...   \n",
       "1     [[[127.48632680823786, 36.64052917039099], [12...   \n",
       "2     [[[127.48655786043167, 36.640535159309565], [1...   \n",
       "3     [[[127.48653912832565, 36.640421876670125], [1...   \n",
       "4     [[[127.48657086929198, 36.64041777756533], [12...   \n",
       "...                                                 ...   \n",
       "3184  [[[127.49253748307129, 36.63019961400344], [12...   \n",
       "3185  [[[127.48581567013639, 36.644730907282785], [1...   \n",
       "3186  [[[127.49155463874942, 36.63035531760507], [12...   \n",
       "3187  [[[127.48496189891529, 36.63447898239693], [12...   \n",
       "3188  [[[127.4873650606687, 36.63345885043115], [127...   \n",
       "\n",
       "                                               geometry  \n",
       "0     POLYGON ((127.48694 36.64000, 127.48694 36.639...  \n",
       "1     POLYGON ((127.48633 36.64053, 127.48633 36.640...  \n",
       "2     POLYGON ((127.48656 36.64054, 127.48646 36.640...  \n",
       "3     POLYGON ((127.48654 36.64042, 127.48646 36.640...  \n",
       "4     POLYGON ((127.48657 36.64042, 127.48656 36.640...  \n",
       "...                                                 ...  \n",
       "3184  POLYGON ((127.49254 36.63020, 127.49279 36.630...  \n",
       "3185  POLYGON ((127.48582 36.64473, 127.48588 36.644...  \n",
       "3186  POLYGON ((127.49155 36.63036, 127.49155 36.630...  \n",
       "3187  POLYGON ((127.48496 36.63448, 127.48514 36.634...  \n",
       "3188  POLYGON ((127.48737 36.63346, 127.48747 36.633...  \n",
       "\n",
       "[3189 rows x 5 columns]"
      ]
     },
     "execution_count": 54,
     "metadata": {},
     "output_type": "execute_result"
    }
   ],
   "source": [
    "# crp_df에서 첫 번째 폴리곤 영역을 선택 = crp_df는 원도심 영역(도시재생 대상지역)\n",
    "polygon = crp_df['geometry'].iloc[0]\n",
    "\n",
    "# grid_map_df 데이터프레임을 GeoDataFrame으로 변환\n",
    "roadname_building_df = gpd.GeoDataFrame(roadname_building_df, geometry='geometry')\n",
    "\n",
    "# factory_df의 'geometry' 열을 사용하여 Point 객체를 필터링\n",
    "filtered_roadname_building = roadname_building_df[roadname_building_df['geometry'].within(polygon)].reset_index(drop=True)\n",
    "filtered_roadname_building"
   ]
  },
  {
   "cell_type": "code",
   "execution_count": null,
   "metadata": {},
   "outputs": [],
   "source": [
    "# 지도의 중심 좌표 설정\n",
    "m = folium.Map(location=[36.627797, 127.511943], zoom_start=12)\n",
    "\n",
    "# GeoDataFrame을 순회하면서 Polygon을 지도에 추가\n",
    "for idx, row in filtered_roadname_building.iterrows():\n",
    "    popup_text = f\"지상:{row['properties.GRO_FLO_CO']}층, 지하:{row['properties.UND_FLO_CO']}층)\"\n",
    "    folium.GeoJson(\n",
    "        row['geometry'].__geo_interface__,\n",
    "        style_function=lambda feature, color='black': {'color': 'black', 'weight': 1}\n",
    "    ).add_to(m).add_child(folium.Popup(popup_text, max_width=100))\n",
    "    \n",
    "m"
   ]
  },
  {
   "attachments": {},
   "cell_type": "markdown",
   "metadata": {},
   "source": [
    "https://thlee33.medium.com/kepler-gl%EC%9D%84-%EC%9D%B4%EC%9A%A9%ED%95%9C-%EA%B1%B4%EB%AC%BC-3d-%EC%8B%9C%EA%B0%81%ED%99%94-330400887fe3"
   ]
  },
  {
   "cell_type": "code",
   "execution_count": 86,
   "metadata": {},
   "outputs": [],
   "source": [
    "# GeoJSON 파일 불러오기\n",
    "with open('SBJ_2309_001/16.청주시_도로명주소(도로).geojson', 'r') as geojson_file:\n",
    "    geojson_data = json.load(geojson_file)\n",
    "roadname_road_df = pd.json_normalize(geojson_data['features'])\n",
    "roadname_road_df['geometry'] = roadname_road_df['geometry.coordinates'].apply(lambda x: LineString(x))\n",
    "# roadsystem_df 데이터프레임을 GeoDataFrame으로 변환\n",
    "roadname_road_df = gpd.GeoDataFrame(roadname_road_df, geometry='geometry')"
   ]
  },
  {
   "cell_type": "code",
   "execution_count": null,
   "metadata": {},
   "outputs": [],
   "source": [
    "roadname_road_df"
   ]
  },
  {
   "cell_type": "code",
   "execution_count": null,
   "metadata": {},
   "outputs": [],
   "source": [
    "# crp_df에서 첫 번째 폴리곤 영역을 선택 = crp_df는 원도심 영역(도시재생 대상지역)\n",
    "polygon = crp_df['geometry'].iloc[0]\n",
    "\n",
    "# factory_df의 'geometry' 열을 사용하여 Point 객체를 필터링\n",
    "filtered_roadname_road = roadname_road_df[roadname_road_df['geometry'].within(polygon)].reset_index(drop=True)\n",
    "filtered_roadname_road"
   ]
  },
  {
   "cell_type": "code",
   "execution_count": null,
   "metadata": {},
   "outputs": [],
   "source": [
    "filtered_roadname_road"
   ]
  },
  {
   "cell_type": "code",
   "execution_count": null,
   "metadata": {},
   "outputs": [],
   "source": [
    "# 지도의 중심 좌표 설정\n",
    "m = folium.Map(location=[36.627797, 127.511943], zoom_start=12)\n",
    "\n",
    "# GeoDataFrame을 순회하면서 Polygon을 지도에 추가\n",
    "for idx, row in filtered_roadname_road.iterrows():\n",
    "    popup_text = f\"도로명:{row['properties.RN']}\"\n",
    "    folium.GeoJson(\n",
    "        row['geometry'].__geo_interface__,\n",
    "        style_function=lambda feature, color='black': {'color': 'black', 'weight': 1}\n",
    "    ).add_to(m).add_child(folium.Popup(popup_text, max_width=100))\n",
    "    \n",
    "m"
   ]
  },
  {
   "attachments": {},
   "cell_type": "markdown",
   "metadata": {},
   "source": [
    "### 청주시 인도(보도) 시각화"
   ]
  },
  {
   "cell_type": "code",
   "execution_count": 115,
   "metadata": {},
   "outputs": [],
   "source": [
    "# GeoJSON 파일 불러오기\n",
    "with open('SBJ_2309_001/17.청주시_인도(보도).geojson') as geojson_file:\n",
    "    geojson_data = json.load(geojson_file)\n",
    "sidewalk_df = pd.json_normalize(geojson_data['features'])\n",
    "sidewalk_df['geometry'] = sidewalk_df['geometry.coordinates'].apply(make_lin)\n",
    "# roadsystem_df 데이터프레임을 GeoDataFrame으로 변환\n",
    "sidewalk_df = gpd.GeoDataFrame(sidewalk_df, geometry='geometry')"
   ]
  },
  {
   "cell_type": "code",
   "execution_count": null,
   "metadata": {},
   "outputs": [],
   "source": [
    "sidewalk_df"
   ]
  },
  {
   "cell_type": "code",
   "execution_count": 117,
   "metadata": {},
   "outputs": [
    {
     "data": {
      "text/html": [
       "<div>\n",
       "<style scoped>\n",
       "    .dataframe tbody tr th:only-of-type {\n",
       "        vertical-align: middle;\n",
       "    }\n",
       "\n",
       "    .dataframe tbody tr th {\n",
       "        vertical-align: top;\n",
       "    }\n",
       "\n",
       "    .dataframe thead th {\n",
       "        text-align: right;\n",
       "    }\n",
       "</style>\n",
       "<table border=\"1\" class=\"dataframe\">\n",
       "  <thead>\n",
       "    <tr style=\"text-align: right;\">\n",
       "      <th></th>\n",
       "      <th>type</th>\n",
       "      <th>properties.UFID</th>\n",
       "      <th>properties.QUAL</th>\n",
       "      <th>properties.BYYN</th>\n",
       "      <th>properties.KIND</th>\n",
       "      <th>geometry.type</th>\n",
       "      <th>geometry.coordinates</th>\n",
       "      <th>geometry</th>\n",
       "    </tr>\n",
       "  </thead>\n",
       "  <tbody>\n",
       "    <tr>\n",
       "      <th>0</th>\n",
       "      <td>Feature</td>\n",
       "      <td>100036706050A003189376b14e5964828</td>\n",
       "      <td>미분류</td>\n",
       "      <td>무</td>\n",
       "      <td>인도</td>\n",
       "      <td>LineString</td>\n",
       "      <td>[[127.49062338110333, 36.6417421675925], [127....</td>\n",
       "      <td>LINESTRING (127.49062 36.64174, 127.49064 36.6...</td>\n",
       "    </tr>\n",
       "    <tr>\n",
       "      <th>1</th>\n",
       "      <td>Feature</td>\n",
       "      <td>100036706050A003101d5f9fbadf84488</td>\n",
       "      <td>미분류</td>\n",
       "      <td>무</td>\n",
       "      <td>인도</td>\n",
       "      <td>LineString</td>\n",
       "      <td>[[127.48804192410691, 36.63751484423243], [127...</td>\n",
       "      <td>LINESTRING (127.48804 36.63751, 127.48806 36.6...</td>\n",
       "    </tr>\n",
       "    <tr>\n",
       "      <th>2</th>\n",
       "      <td>Feature</td>\n",
       "      <td>100036706050A00314c2a46c79bfa4ef8</td>\n",
       "      <td>미분류</td>\n",
       "      <td>무</td>\n",
       "      <td>인도</td>\n",
       "      <td>LineString</td>\n",
       "      <td>[[127.4908535706583, 36.6425890088251], [127.4...</td>\n",
       "      <td>LINESTRING (127.49085 36.64259, 127.49079 36.6...</td>\n",
       "    </tr>\n",
       "    <tr>\n",
       "      <th>3</th>\n",
       "      <td>Feature</td>\n",
       "      <td>100036706050A003158cc0af359c945e6</td>\n",
       "      <td>미분류</td>\n",
       "      <td>무</td>\n",
       "      <td>인도</td>\n",
       "      <td>LineString</td>\n",
       "      <td>[[127.48891283162526, 36.6390439338725], [127....</td>\n",
       "      <td>LINESTRING (127.48891 36.63904, 127.48889 36.6...</td>\n",
       "    </tr>\n",
       "    <tr>\n",
       "      <th>4</th>\n",
       "      <td>Feature</td>\n",
       "      <td>100036706050A00315cf42551cbd149da</td>\n",
       "      <td>미분류</td>\n",
       "      <td>무</td>\n",
       "      <td>인도</td>\n",
       "      <td>LineString</td>\n",
       "      <td>[[127.48642173123054, 36.63556500043981], [127...</td>\n",
       "      <td>LINESTRING (127.48642 36.63557, 127.48645 36.6...</td>\n",
       "    </tr>\n",
       "    <tr>\n",
       "      <th>...</th>\n",
       "      <td>...</td>\n",
       "      <td>...</td>\n",
       "      <td>...</td>\n",
       "      <td>...</td>\n",
       "      <td>...</td>\n",
       "      <td>...</td>\n",
       "      <td>...</td>\n",
       "      <td>...</td>\n",
       "    </tr>\n",
       "    <tr>\n",
       "      <th>116</th>\n",
       "      <td>Feature</td>\n",
       "      <td>100036706050A00316998a65ea4ad440f</td>\n",
       "      <td>아스콘</td>\n",
       "      <td>유</td>\n",
       "      <td>자전거도로</td>\n",
       "      <td>LineString</td>\n",
       "      <td>[[127.49112468574835, 36.631374516942394], [12...</td>\n",
       "      <td>LINESTRING (127.49112 36.63137, 127.49110 36.6...</td>\n",
       "    </tr>\n",
       "    <tr>\n",
       "      <th>117</th>\n",
       "      <td>Feature</td>\n",
       "      <td>100036706050A0031db4c79d55cb84d39</td>\n",
       "      <td>블록</td>\n",
       "      <td>유</td>\n",
       "      <td>자전거도로</td>\n",
       "      <td>LineString</td>\n",
       "      <td>[[127.49075989252123, 36.63456720470323], [127...</td>\n",
       "      <td>LINESTRING (127.49076 36.63457, 127.49073 36.6...</td>\n",
       "    </tr>\n",
       "    <tr>\n",
       "      <th>118</th>\n",
       "      <td>Feature</td>\n",
       "      <td>100036706050A0031dc05c4cbc88a4fe9</td>\n",
       "      <td>아스콘</td>\n",
       "      <td>유</td>\n",
       "      <td>자전거도로</td>\n",
       "      <td>LineString</td>\n",
       "      <td>[[127.491361592062, 36.62943927534968], [127.4...</td>\n",
       "      <td>LINESTRING (127.49136 36.62944, 127.49132 36.6...</td>\n",
       "    </tr>\n",
       "    <tr>\n",
       "      <th>119</th>\n",
       "      <td>Feature</td>\n",
       "      <td>100036706050A0031881c48839a5441fb</td>\n",
       "      <td>블록</td>\n",
       "      <td>유</td>\n",
       "      <td>자전거도로</td>\n",
       "      <td>LineString</td>\n",
       "      <td>[[127.49060087641541, 36.63567678716627], [127...</td>\n",
       "      <td>LINESTRING (127.49060 36.63568, 127.49049 36.6...</td>\n",
       "    </tr>\n",
       "    <tr>\n",
       "      <th>120</th>\n",
       "      <td>Feature</td>\n",
       "      <td>100036706050A0031984f4b50ffa940a8</td>\n",
       "      <td>아스콘</td>\n",
       "      <td>유</td>\n",
       "      <td>자전거도로</td>\n",
       "      <td>LineString</td>\n",
       "      <td>[[127.49063668880262, 36.632082050776546], [12...</td>\n",
       "      <td>LINESTRING (127.49064 36.63208, 127.49065 36.6...</td>\n",
       "    </tr>\n",
       "  </tbody>\n",
       "</table>\n",
       "<p>121 rows × 8 columns</p>\n",
       "</div>"
      ],
      "text/plain": [
       "        type                    properties.UFID properties.QUAL  \\\n",
       "0    Feature  100036706050A003189376b14e5964828             미분류   \n",
       "1    Feature  100036706050A003101d5f9fbadf84488             미분류   \n",
       "2    Feature  100036706050A00314c2a46c79bfa4ef8             미분류   \n",
       "3    Feature  100036706050A003158cc0af359c945e6             미분류   \n",
       "4    Feature  100036706050A00315cf42551cbd149da             미분류   \n",
       "..       ...                                ...             ...   \n",
       "116  Feature  100036706050A00316998a65ea4ad440f             아스콘   \n",
       "117  Feature  100036706050A0031db4c79d55cb84d39              블록   \n",
       "118  Feature  100036706050A0031dc05c4cbc88a4fe9             아스콘   \n",
       "119  Feature  100036706050A0031881c48839a5441fb              블록   \n",
       "120  Feature  100036706050A0031984f4b50ffa940a8             아스콘   \n",
       "\n",
       "    properties.BYYN properties.KIND geometry.type  \\\n",
       "0                 무              인도    LineString   \n",
       "1                 무              인도    LineString   \n",
       "2                 무              인도    LineString   \n",
       "3                 무              인도    LineString   \n",
       "4                 무              인도    LineString   \n",
       "..              ...             ...           ...   \n",
       "116               유           자전거도로    LineString   \n",
       "117               유           자전거도로    LineString   \n",
       "118               유           자전거도로    LineString   \n",
       "119               유           자전거도로    LineString   \n",
       "120               유           자전거도로    LineString   \n",
       "\n",
       "                                  geometry.coordinates  \\\n",
       "0    [[127.49062338110333, 36.6417421675925], [127....   \n",
       "1    [[127.48804192410691, 36.63751484423243], [127...   \n",
       "2    [[127.4908535706583, 36.6425890088251], [127.4...   \n",
       "3    [[127.48891283162526, 36.6390439338725], [127....   \n",
       "4    [[127.48642173123054, 36.63556500043981], [127...   \n",
       "..                                                 ...   \n",
       "116  [[127.49112468574835, 36.631374516942394], [12...   \n",
       "117  [[127.49075989252123, 36.63456720470323], [127...   \n",
       "118  [[127.491361592062, 36.62943927534968], [127.4...   \n",
       "119  [[127.49060087641541, 36.63567678716627], [127...   \n",
       "120  [[127.49063668880262, 36.632082050776546], [12...   \n",
       "\n",
       "                                              geometry  \n",
       "0    LINESTRING (127.49062 36.64174, 127.49064 36.6...  \n",
       "1    LINESTRING (127.48804 36.63751, 127.48806 36.6...  \n",
       "2    LINESTRING (127.49085 36.64259, 127.49079 36.6...  \n",
       "3    LINESTRING (127.48891 36.63904, 127.48889 36.6...  \n",
       "4    LINESTRING (127.48642 36.63557, 127.48645 36.6...  \n",
       "..                                                 ...  \n",
       "116  LINESTRING (127.49112 36.63137, 127.49110 36.6...  \n",
       "117  LINESTRING (127.49076 36.63457, 127.49073 36.6...  \n",
       "118  LINESTRING (127.49136 36.62944, 127.49132 36.6...  \n",
       "119  LINESTRING (127.49060 36.63568, 127.49049 36.6...  \n",
       "120  LINESTRING (127.49064 36.63208, 127.49065 36.6...  \n",
       "\n",
       "[121 rows x 8 columns]"
      ]
     },
     "execution_count": 117,
     "metadata": {},
     "output_type": "execute_result"
    }
   ],
   "source": [
    "# crp_df에서 첫 번째 폴리곤 영역을 선택 = crp_df는 원도심 영역(도시재생 대상지역)\n",
    "polygon = crp_df['geometry'].iloc[0]\n",
    "\n",
    "# factory_df의 'geometry' 열을 사용하여 Point 객체를 필터링\n",
    "filtered_sidewalk = sidewalk_df[sidewalk_df['geometry'].within(polygon)].reset_index(drop=True)\n",
    "filtered_sidewalk"
   ]
  },
  {
   "cell_type": "code",
   "execution_count": null,
   "metadata": {},
   "outputs": [],
   "source": [
    "# 지도의 중심 좌표 설정\n",
    "m = folium.Map(location=[36.627797, 127.511943], zoom_start=12)\n",
    "\n",
    "# GeoDataFrame을 순회하면서 Polygon을 지도에 추가\n",
    "for idx, row in filtered_sidewalk.iterrows():\n",
    "    popup_text = f\"도로명:{row['properties.KIND']}\"\n",
    "    folium.GeoJson(\n",
    "        row['geometry'].__geo_interface__,\n",
    "        style_function=lambda feature, color='black': {'color': 'black', 'weight': 1}\n",
    "    ).add_to(m).add_child(folium.Popup(popup_text, max_width=100))\n",
    "    \n",
    "m"
   ]
  },
  {
   "attachments": {},
   "cell_type": "markdown",
   "metadata": {},
   "source": [
    "### 청주시 상권정보 시각화"
   ]
  },
  {
   "cell_type": "code",
   "execution_count": null,
   "metadata": {},
   "outputs": [],
   "source": [
    "trading_area_df = pd.read_csv('SBJ_2309_001/18.청주시_상권정보.csv')\n",
    "trading_area_df = geo_transform(trading_area_df)\n",
    "trading_area_df"
   ]
  },
  {
   "attachments": {},
   "cell_type": "markdown",
   "metadata": {},
   "source": [
    "['음식', '소매', '생활서비스', '학문/교육', '부동산', '관광/여가/오락', '숙박', '스포츠'],"
   ]
  },
  {
   "cell_type": "code",
   "execution_count": 207,
   "metadata": {},
   "outputs": [
    {
     "data": {
      "text/plain": [
       "array(['건강/미용식품', '의복의류', '가정/주방/인테리어', '사진/광학/정밀기기소매', '화장품소매',\n",
       "       '음/식료품소매', '선물/팬시/기념품', '시계/귀금속소매', '철물/난방/건설자재소매', '유아용품',\n",
       "       '종합소매점', '책/서적/도서', '가방/신발/액세서리', '사무/문구/컴퓨터', '자동차/자동차용품',\n",
       "       '애견/애완/동물', '가전제품소매', '가구소매', '의약/의료품소매', '중고품소매/교환', '취미/오락관련소매',\n",
       "       '운동/경기용품소매', '예술품/골동품/수석/분재', '페인트/유리제품소매', '기타판매업', '종교용품판매'],\n",
       "      dtype=object)"
      ]
     },
     "execution_count": 207,
     "metadata": {},
     "output_type": "execute_result"
    }
   ],
   "source": [
    "a = filtered_trading_area[filtered_trading_area['com_lc_nm'] == '소매']\n",
    "a['com_mc_nm'].unique()"
   ]
  },
  {
   "cell_type": "code",
   "execution_count": 205,
   "metadata": {},
   "outputs": [
    {
     "data": {
      "text/plain": [
       "com_lc_nm\n",
       "소매          1629\n",
       "음식           869\n",
       "생활서비스        470\n",
       "학문/교육         84\n",
       "관광/여가/오락      49\n",
       "숙박            36\n",
       "부동산           34\n",
       "스포츠            7\n",
       "Name: count, dtype: int64"
      ]
     },
     "execution_count": 205,
     "metadata": {},
     "output_type": "execute_result"
    }
   ],
   "source": [
    "filtered_trading_area['com_lc_nm'].value_counts()"
   ]
  },
  {
   "cell_type": "code",
   "execution_count": 208,
   "metadata": {},
   "outputs": [
    {
     "data": {
      "text/plain": [
       "com_mc_nm\n",
       "의복의류             568\n",
       "종합소매점            187\n",
       "가방/신발/액세서리       162\n",
       "음/식료품소매          118\n",
       "화장품소매            101\n",
       "가정/주방/인테리어        83\n",
       "사진/광학/정밀기기소매      70\n",
       "시계/귀금속소매          52\n",
       "선물/팬시/기념품         41\n",
       "건강/미용식품           38\n",
       "가구소매              31\n",
       "사무/문구/컴퓨터         28\n",
       "의약/의료품소매          21\n",
       "기타판매업             21\n",
       "운동/경기용품소매         20\n",
       "철물/난방/건설자재소매      19\n",
       "책/서적/도서           16\n",
       "가전제품소매            16\n",
       "유아용품               7\n",
       "자동차/자동차용품          6\n",
       "애견/애완/동물           6\n",
       "취미/오락관련소매          6\n",
       "중고품소매/교환           5\n",
       "예술품/골동품/수석/분재      4\n",
       "종교용품판매             2\n",
       "페인트/유리제품소매         1\n",
       "Name: count, dtype: int64"
      ]
     },
     "execution_count": 208,
     "metadata": {},
     "output_type": "execute_result"
    }
   ],
   "source": [
    "a['com_mc_nm'].value_counts()"
   ]
  },
  {
   "cell_type": "code",
   "execution_count": null,
   "metadata": {},
   "outputs": [],
   "source": [
    "# crp_df에서 첫 번째 폴리곤 영역을 선택 = crp_df는 원도심 영역(도시재생 대상지역)\n",
    "polygon = crp_df['geometry'].iloc[0]\n",
    "\n",
    "# factory_df의 'geometry' 열을 사용하여 Point 객체를 필터링\n",
    "filtered_trading_area = trading_area_df[trading_area_df['geometry'].within(polygon)].reset_index(drop=True)\n",
    "filtered_trading_area"
   ]
  },
  {
   "cell_type": "code",
   "execution_count": null,
   "metadata": {},
   "outputs": [],
   "source": [
    "# 지도의 중심 좌표 설정\n",
    "m = folium.Map(location=[36.627797, 127.511943], zoom_start=12)\n",
    "\n",
    "# GeoDataFrame을 순회하면서 Polygon을 지도에 추가\n",
    "for idx, row in filtered_trading_area.iterrows():\n",
    "    popup_text = f\"{row['com_lc_nm']}-{row['com_mc_nm']}-{row['com_sc_nm']}\"\n",
    "    marker = folium.CircleMarker(\n",
    "        location=[row['lat'], row['lon']],\n",
    "        radius=5,\n",
    "        fill=True,\n",
    "    ).add_to(m).add_child(folium.Popup(popup_text, max_width=100))\n",
    "    \n",
    "m"
   ]
  },
  {
   "attachments": {},
   "cell_type": "markdown",
   "metadata": {},
   "source": [
    "### 청주시 주민등록인구 현황"
   ]
  },
  {
   "cell_type": "code",
   "execution_count": 231,
   "metadata": {},
   "outputs": [
    {
     "data": {
      "text/html": [
       "<div>\n",
       "<style scoped>\n",
       "    .dataframe tbody tr th:only-of-type {\n",
       "        vertical-align: middle;\n",
       "    }\n",
       "\n",
       "    .dataframe tbody tr th {\n",
       "        vertical-align: top;\n",
       "    }\n",
       "\n",
       "    .dataframe thead th {\n",
       "        text-align: right;\n",
       "    }\n",
       "</style>\n",
       "<table border=\"1\" class=\"dataframe\">\n",
       "  <thead>\n",
       "    <tr style=\"text-align: right;\">\n",
       "      <th></th>\n",
       "      <th>adm_cd</th>\n",
       "      <th>adm_nm</th>\n",
       "      <th>year</th>\n",
       "      <th>m_pop</th>\n",
       "      <th>fm_pop</th>\n",
       "    </tr>\n",
       "  </thead>\n",
       "  <tbody>\n",
       "    <tr>\n",
       "      <th>0</th>\n",
       "      <td>4311131000</td>\n",
       "      <td>충청북도 청주시 상당구 낭성면</td>\n",
       "      <td>201701</td>\n",
       "      <td>1232</td>\n",
       "      <td>1140</td>\n",
       "    </tr>\n",
       "    <tr>\n",
       "      <th>1</th>\n",
       "      <td>4311132000</td>\n",
       "      <td>충청북도 청주시 상당구 미원면</td>\n",
       "      <td>201701</td>\n",
       "      <td>2757</td>\n",
       "      <td>2636</td>\n",
       "    </tr>\n",
       "    <tr>\n",
       "      <th>2</th>\n",
       "      <td>4311133000</td>\n",
       "      <td>충청북도 청주시 상당구 가덕면</td>\n",
       "      <td>201701</td>\n",
       "      <td>2259</td>\n",
       "      <td>2066</td>\n",
       "    </tr>\n",
       "    <tr>\n",
       "      <th>3</th>\n",
       "      <td>4311134000</td>\n",
       "      <td>충청북도 청주시 상당구 남일면</td>\n",
       "      <td>201701</td>\n",
       "      <td>3901</td>\n",
       "      <td>3746</td>\n",
       "    </tr>\n",
       "    <tr>\n",
       "      <th>4</th>\n",
       "      <td>4311135000</td>\n",
       "      <td>충청북도 청주시 상당구 문의면</td>\n",
       "      <td>201701</td>\n",
       "      <td>2383</td>\n",
       "      <td>2165</td>\n",
       "    </tr>\n",
       "    <tr>\n",
       "      <th>...</th>\n",
       "      <td>...</td>\n",
       "      <td>...</td>\n",
       "      <td>...</td>\n",
       "      <td>...</td>\n",
       "      <td>...</td>\n",
       "    </tr>\n",
       "    <tr>\n",
       "      <th>3091</th>\n",
       "      <td>4311451000</td>\n",
       "      <td>충청북도 청주시 청원구 우암동</td>\n",
       "      <td>202212</td>\n",
       "      <td>6209</td>\n",
       "      <td>6073</td>\n",
       "    </tr>\n",
       "    <tr>\n",
       "      <th>3092</th>\n",
       "      <td>4311452000</td>\n",
       "      <td>충청북도 청주시 청원구 내덕1동</td>\n",
       "      <td>202212</td>\n",
       "      <td>4197</td>\n",
       "      <td>4124</td>\n",
       "    </tr>\n",
       "    <tr>\n",
       "      <th>3093</th>\n",
       "      <td>4311453000</td>\n",
       "      <td>충청북도 청주시 청원구 내덕2동</td>\n",
       "      <td>202212</td>\n",
       "      <td>6823</td>\n",
       "      <td>6453</td>\n",
       "    </tr>\n",
       "    <tr>\n",
       "      <th>3094</th>\n",
       "      <td>4311454000</td>\n",
       "      <td>충청북도 청주시 청원구 율량.사천동</td>\n",
       "      <td>202212</td>\n",
       "      <td>24328</td>\n",
       "      <td>24478</td>\n",
       "    </tr>\n",
       "    <tr>\n",
       "      <th>3095</th>\n",
       "      <td>4311455000</td>\n",
       "      <td>충청북도 청주시 청원구 오근장동</td>\n",
       "      <td>202212</td>\n",
       "      <td>8963</td>\n",
       "      <td>9169</td>\n",
       "    </tr>\n",
       "  </tbody>\n",
       "</table>\n",
       "<p>3096 rows × 5 columns</p>\n",
       "</div>"
      ],
      "text/plain": [
       "          adm_cd               adm_nm    year  m_pop  fm_pop\n",
       "0     4311131000     충청북도 청주시 상당구 낭성면  201701   1232    1140\n",
       "1     4311132000     충청북도 청주시 상당구 미원면  201701   2757    2636\n",
       "2     4311133000     충청북도 청주시 상당구 가덕면  201701   2259    2066\n",
       "3     4311134000     충청북도 청주시 상당구 남일면  201701   3901    3746\n",
       "4     4311135000     충청북도 청주시 상당구 문의면  201701   2383    2165\n",
       "...          ...                  ...     ...    ...     ...\n",
       "3091  4311451000     충청북도 청주시 청원구 우암동  202212   6209    6073\n",
       "3092  4311452000    충청북도 청주시 청원구 내덕1동  202212   4197    4124\n",
       "3093  4311453000    충청북도 청주시 청원구 내덕2동  202212   6823    6453\n",
       "3094  4311454000  충청북도 청주시 청원구 율량.사천동  202212  24328   24478\n",
       "3095  4311455000    충청북도 청주시 청원구 오근장동  202212   8963    9169\n",
       "\n",
       "[3096 rows x 5 columns]"
      ]
     },
     "execution_count": 231,
     "metadata": {},
     "output_type": "execute_result"
    }
   ],
   "source": [
    "pop_df = pd.read_csv('SBJ_2309_001/22.청주시_주민등록인구현황.csv')\n",
    "pop_df"
   ]
  },
  {
   "cell_type": "code",
   "execution_count": 233,
   "metadata": {},
   "outputs": [
    {
     "data": {
      "text/plain": [
       "array(['충청북도 청주시 상당구 낭성면', '충청북도 청주시 상당구 미원면', '충청북도 청주시 상당구 가덕면',\n",
       "       '충청북도 청주시 상당구 남일면', '충청북도 청주시 상당구 문의면', '충청북도 청주시 상당구 중앙동',\n",
       "       '충청북도 청주시 상당구 성안동', '충청북도 청주시 상당구 탑대성동', '충청북도 청주시 상당구 영운동',\n",
       "       '충청북도 청주시 상당구 금천동', '충청북도 청주시 상당구 용담.명암.산성동', '충청북도 청주시 상당구 용암1동',\n",
       "       '충청북도 청주시 상당구 용암2동', '충청북도 청주시 서원구 남이면', '충청북도 청주시 서원구 현도면',\n",
       "       '충청북도 청주시 서원구 사직1동', '충청북도 청주시 서원구 사직2동', '충청북도 청주시 서원구 사창동',\n",
       "       '충청북도 청주시 서원구 모충동', '충청북도 청주시 서원구 산남동', '충청북도 청주시 서원구 분평동',\n",
       "       '충청북도 청주시 서원구 수곡1동', '충청북도 청주시 서원구 수곡2동', '충청북도 청주시 서원구 성화.개신.죽림동',\n",
       "       '충청북도 청주시 흥덕구 오송읍', '충청북도 청주시 흥덕구 강내면', '충청북도 청주시 흥덕구 옥산면',\n",
       "       '충청북도 청주시 흥덕구 운천.신봉동', '충청북도 청주시 흥덕구 복대1동', '충청북도 청주시 흥덕구 복대2동',\n",
       "       '충청북도 청주시 흥덕구 가경동', '충청북도 청주시 흥덕구 봉명1동', '충청북도 청주시 흥덕구 봉명2.송정동',\n",
       "       '충청북도 청주시 흥덕구 강서제1동', '충청북도 청주시 흥덕구 강서제2동', '충청북도 청주시 청원구 내수읍',\n",
       "       '충청북도 청주시 청원구 오창읍', '충청북도 청주시 청원구 북이면', '충청북도 청주시 청원구 우암동',\n",
       "       '충청북도 청주시 청원구 내덕1동', '충청북도 청주시 청원구 내덕2동', '충청북도 청주시 청원구 율량.사천동',\n",
       "       '충청북도 청주시 청원구 오근장동'], dtype=object)"
      ]
     },
     "execution_count": 233,
     "metadata": {},
     "output_type": "execute_result"
    }
   ],
   "source": [
    "pop_df['adm_nm'].unique()"
   ]
  },
  {
   "attachments": {},
   "cell_type": "markdown",
   "metadata": {},
   "source": [
    "## turtle로 그림그리는 방안 생각해보기?"
   ]
  }
 ],
 "metadata": {
  "kernelspec": {
   "display_name": "Python 3",
   "language": "python",
   "name": "python3"
  },
  "language_info": {
   "codemirror_mode": {
    "name": "ipython",
    "version": 3
   },
   "file_extension": ".py",
   "mimetype": "text/x-python",
   "name": "python",
   "nbconvert_exporter": "python",
   "pygments_lexer": "ipython3",
   "version": "3.8.16"
  },
  "orig_nbformat": 4
 },
 "nbformat": 4,
 "nbformat_minor": 2
}
